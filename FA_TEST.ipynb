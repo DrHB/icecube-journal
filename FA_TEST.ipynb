{
 "cells": [
  {
   "cell_type": "code",
   "execution_count": null,
   "id": "662d0ee5-799d-4462-a2cb-230f5f109937",
   "metadata": {},
   "outputs": [],
   "source": [
    "import os\n",
    "import random\n",
    "import numpy as np\n",
    "import torch\n",
    "import config\n",
    "from icecube.fastai_fix import *\n",
    "import math\n",
    "from icecube.loss_functions import VonMisesFisher3DLoss\n",
    "\n",
    "def loss(pred,y):\n",
    "    #print(pred.max())\n",
    "    pred = F.normalize(pred.float(),dim=-1)\n",
    "    \n",
    "    sa2 = torch.sin(y['target'][:,0])\n",
    "    ca2 = torch.cos(y['target'][:,0])\n",
    "    sz2 = torch.sin(y['target'][:,1])\n",
    "    cz2 = torch.cos(y['target'][:,1])\n",
    "    \n",
    "    scalar_prod = (pred[:,0]*sa2*sz2 + pred[:,1]*ca2*sz2 + pred[:,2]*cz2).clip(-1+1e-8,1-1e-8)\n",
    "    return torch.acos(scalar_prod).abs().mean(-1)   \n",
    "\n",
    "def loss_vms(pred,y):\n",
    "    sa2 = torch.sin(y['target'][:,0])\n",
    "    ca2 = torch.cos(y['target'][:,0])\n",
    "    sz2 = torch.sin(y['target'][:,1])\n",
    "    cz2 = torch.cos(y['target'][:,1])\n",
    "    t = torch.stack([sa2*sz2,ca2*sz2,cz2],-1)\n",
    "    \n",
    "    p = pred.float()\n",
    "    l = torch.norm(pred.float(),dim=-1).unsqueeze(-1)\n",
    "    p = torch.cat([pred.float()/l,l],-1)\n",
    "    \n",
    "    loss = VonMisesFisher3DLoss()(p,t)\n",
    "    return loss\n",
    "\n",
    "def get_val(pred):\n",
    "    pred = F.normalize(pred,dim=-1)\n",
    "    zen = torch.acos(pred[:,2].clip(-1,1))\n",
    "    f = F.normalize(pred[:,:2],dim=-1)\n",
    "    az = torch.asin(f[:,0].clip(-1,1))\n",
    "    az = torch.where(f[:,1] > 0, az, math.pi - az)\n",
    "    az = torch.where(az > 0, az, az + 2.0*math.pi)\n",
    "    return torch.stack([az,zen],-1)\n",
    "\n",
    "def WrapperAdamW(param_groups,**kwargs):\n",
    "    return OptimWrapper(param_groups,torch.optim.AdamW)\n",
    "\n",
    "def set_gpu_environ():\n",
    "    \"\"\"Sets CUDA_VISIBLE_DEVICES to those under minimal memory load.\n",
    "    Meant to be used in notebooks only.\n",
    "    \"\"\"\n",
    "    import os\n",
    "    import subprocess\n",
    "    query = subprocess.check_output(['nvidia-smi', '--query-gpu=memory.used', '--format=csv']).decode().split('\\n')[1:-1]\n",
    "    utilization = [int(x.replace(\" MiB\", \"\")) for x in query]\n",
    "    free = [i for i in range(len(utilization)) if utilization[i] == min(utilization)]\n",
    "    set_visible = \",\".join([str(i) for i in free])\n",
    "    os.environ[\"CUDA_VISIBLE_DEVICES\"] = set_visible\n",
    "    print(set_visible)\n",
    "set_gpu_environ()"
   ]
  },
  {
   "cell_type": "code",
   "execution_count": null,
   "id": "9906574c-0b87-4ad5-bde5-7e8c592fa6b7",
   "metadata": {},
   "outputs": [],
   "source": [
    "k"
   ]
  },
  {
   "cell_type": "code",
   "execution_count": null,
   "id": "cf265c11-0f95-421b-8b04-658abdd7f78d",
   "metadata": {},
   "outputs": [],
   "source": [
    "def seed(seed=0):\n",
    "    random.seed(seed)\n",
    "    np.random.seed(seed)\n",
    "    torch.manual_seed(seed)\n",
    "    torch.cuda.manual_seed(seed)\n",
    "    torch.cuda.manual_seed_all(seed)\n",
    "    torch.backends.cudnn.deterministic = True\n",
    "    torch.backends.cudnn.benchmark = False\n",
    "\n",
    "\n",
    "def train(cfg):\n",
    "    seed()\n",
    "    custom_model = cfg.MODEL_NAME()\n",
    "    if cfg.MODEL_WTS:\n",
    "        print(f\"Loading model weights from {cfg.MODEL_WTS}\")\n",
    "        custom_model.load_state_dict(torch.load(cfg.MODEL_WTS))\n",
    "    opt = cfg.OPT(\n",
    "        custom_model.parameters(), lr=cfg.LR, weight_decay=cfg.WD\n",
    "    )\n",
    "    loss_func = cfg.LOSS_FUNC()\n",
    "    len_trn_dl = (cfg.N_FILES * 200000)//cfg.BATCH_SIZE\n",
    "    warmup_steps = int(len_trn_dl * cfg.WARM_UP_PCT * cfg.EPOCHS)\n",
    "    total_steps = int(len_trn_dl * cfg.EPOCHS)\n",
    "\n",
    "    print(f\"Total steps: {total_steps}, Warmup steps: {warmup_steps}\")\n",
    "\n",
    "    scheduler = cfg.SCHEDULER(\n",
    "        opt,\n",
    "        num_warmup_steps=warmup_steps,\n",
    "        num_training_steps=total_steps,\n",
    "    )\n",
    "\n",
    "    cfg.FIT_FUNC(\n",
    "        epochs=cfg.EPOCHS,\n",
    "        model=custom_model,\n",
    "        loss_fn=loss_func,\n",
    "        opt=opt,\n",
    "        metric=cfg.METRIC,\n",
    "        config = cfg,\n",
    "        folder=cfg.FOLDER/cfg.EXP_NAME,\n",
    "        exp_name=f\"{cfg.EXP_NAME}\",\n",
    "        device=cfg.DEVICE,\n",
    "        sched=scheduler,\n",
    "    )\n",
    "    \n",
    "def main(config_name):\n",
    "    configs = eval(f\"config.{config_name}\")\n",
    "    print(f\"Training with config: {configs.__dict__}\")\n",
    "    #os.makedirs(configs.FOLDER/configs.EXP_NAME)\n",
    "    #train(configs)\n",
    "    return configs\n"
   ]
  },
  {
   "cell_type": "code",
   "execution_count": null,
   "id": "b511f0a4",
   "metadata": {},
   "outputs": [],
   "source": [
    "from functools import partial"
   ]
  },
  {
   "cell_type": "code",
   "execution_count": null,
   "id": "ec2d8352-19bd-4cba-90cd-85cb0bc1c7f9",
   "metadata": {},
   "outputs": [],
   "source": [
    "cfg = main('FA_GRAPH_V0')\n",
    "dls = cfg.DATALOADER_FUNC(bs = cfg.BS, L = cfg.L, NUM_WORKERS =cfg.NUM_WORKERS)\n",
    "model = cfg.MODEL_NAME()"
   ]
  },
  {
   "cell_type": "code",
   "execution_count": null,
   "id": "1d0158ab-7f40-4539-81cd-2ba8b7d2a25e",
   "metadata": {},
   "outputs": [],
   "source": [
    "learn = Learner(dls, model, path = cfg.FOLDER, loss_func=loss_vms,cbs=[GradientClip(cfg.GR_CLIP),\n",
    "            SaveModelCallback(monitor='loss',comp=np.less,every_epoch=True, fname=cfg.EXP_NAME),\n",
    "],\n",
    "            metrics=[loss], opt_func=partial(WrapperAdamW,eps=1e-7)).to_fp16()"
   ]
  },
  {
   "cell_type": "code",
   "execution_count": null,
   "id": "658281cd-a1cb-415f-9954-49e1cec5c750",
   "metadata": {},
   "outputs": [],
   "source": [
    "#learn.lr_find()\n",
    "if cfg.MD_WTS:\n",
    "    print(f\"Loading model weights from {cfg.MD_WTS}\")\n",
    "    learn.model.load_state_dict(torch.load(cfg.MD_WTS))"
   ]
  },
  {
   "cell_type": "code",
   "execution_count": null,
   "id": "0e27f07b-a2fc-437d-b960-3f76a7a98e0e",
   "metadata": {},
   "outputs": [],
   "source": [
    "learn.fit_one_cycle(cfg.EPOCHS, lr_max=cfg.EPOCHS, wd=cfg.WD, pct_start=cfg.PCT_START)"
   ]
  },
  {
   "cell_type": "code",
   "execution_count": null,
   "id": "cc17aeb5-65b2-4ae7-a7eb-63b05a8651f6",
   "metadata": {},
   "outputs": [],
   "source": [
    "    "
   ]
  },
  {
   "cell_type": "code",
   "execution_count": null,
   "id": "1d2663b7-965e-4f1b-b95f-8f4e05e61b71",
   "metadata": {},
   "outputs": [],
   "source": []
  },
  {
   "cell_type": "code",
   "execution_count": null,
   "id": "ae356784-de06-4466-b51a-c657b1cdf739",
   "metadata": {},
   "outputs": [],
   "source": []
  },
  {
   "cell_type": "code",
   "execution_count": null,
   "id": "040b2691-f7cf-4758-8343-85bddf058869",
   "metadata": {},
   "outputs": [],
   "source": []
  }
 ],
 "metadata": {
  "kernelspec": {
   "display_name": "Python 3 (ipykernel)",
   "language": "python",
   "name": "python3"
  },
  "language_info": {
   "codemirror_mode": {
    "name": "ipython",
    "version": 3
   },
   "file_extension": ".py",
   "mimetype": "text/x-python",
   "name": "python",
   "nbconvert_exporter": "python",
   "pygments_lexer": "ipython3",
   "version": "3.7.12"
  },
  "vscode": {
   "interpreter": {
    "hash": "d4d1e4263499bec80672ea0156c357c1ee493ec2b1c70f0acce89fc37c4a6abe"
   }
  },
  "widgets": {
   "application/vnd.jupyter.widget-state+json": {
    "state": {},
    "version_major": 2,
    "version_minor": 0
   }
  }
 },
 "nbformat": 4,
 "nbformat_minor": 5
}
