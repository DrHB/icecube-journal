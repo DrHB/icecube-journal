{
 "cells": [
  {
   "cell_type": "code",
   "execution_count": 136,
   "metadata": {},
   "outputs": [],
   "source": [
    "import pandas as pd\n",
    "import numpy as np\n",
    "from datasets import  load_from_disk\n",
    "from pathlib import Path\n"
   ]
  },
  {
   "cell_type": "code",
   "execution_count": 137,
   "metadata": {},
   "outputs": [],
   "source": [
    "\n",
    "\n",
    "def read_and_procc_geometry(fn = Path(\"../data/sensor_geometry.csv\")):\n",
    "    sensor_geometry_df = pd.read_csv(\"../data/sensor_geometry.csv\")\n",
    "        # counts\n",
    "    doms_per_string = 60\n",
    "    string_num = 86\n",
    "\n",
    "    # index\n",
    "    outer_long_strings = np.concatenate(\n",
    "        [np.arange(0, 25), np.arange(27, 34), np.arange(37, 44), np.arange(46, 78)]\n",
    "    )\n",
    "    inner_long_strings = np.array([25, 26, 34, 35, 36, 44, 45])\n",
    "    inner_short_strings = np.array([78, 79, 80, 81, 82, 83, 84, 85])\n",
    "\n",
    "    # known specs\n",
    "    outer_xy_resolution = 125.0 / 2\n",
    "    inner_xy_resolution = 70.0 / 2\n",
    "    long_z_resolution = 17.0 / 2\n",
    "    short_z_resolution = 7.0 / 2\n",
    "\n",
    "    # evaluate error\n",
    "    sensor_x = sensor_geometry_df.x\n",
    "    sensor_y = sensor_geometry_df.y\n",
    "    sensor_z = sensor_geometry_df.z\n",
    "    sensor_r_err = np.ones(doms_per_string * string_num)\n",
    "    sensor_z_err = np.ones(doms_per_string * string_num)\n",
    "\n",
    "    for string_id in outer_long_strings:\n",
    "        sensor_r_err[\n",
    "            string_id * doms_per_string : (string_id + 1) * doms_per_string\n",
    "        ] *= outer_xy_resolution\n",
    "    for string_id in np.concatenate([inner_long_strings, inner_short_strings]):\n",
    "        sensor_r_err[\n",
    "            string_id * doms_per_string : (string_id + 1) * doms_per_string\n",
    "        ] *= inner_xy_resolution\n",
    "\n",
    "    for string_id in outer_long_strings:\n",
    "        sensor_z_err[\n",
    "            string_id * doms_per_string : (string_id + 1) * doms_per_string\n",
    "        ] *= long_z_resolution\n",
    "    for string_id in np.concatenate([inner_long_strings, inner_short_strings]):\n",
    "        for dom_id in range(doms_per_string):\n",
    "            z = sensor_z[string_id * doms_per_string + dom_id]\n",
    "            if (z < -156.0) or (z > 95.5 and z < 191.5):\n",
    "                sensor_z_err[string_id * doms_per_string + dom_id] *= short_z_resolution\n",
    "    # register\n",
    "    sensor_geometry_df[\"r_err\"] = sensor_r_err\n",
    "    sensor_geometry_df[\"z_err\"] = sensor_z_err\n",
    "\n",
    "    # detector constants\n",
    "    c_const = 0.299792458  # speed of light [m/ns]\n",
    "\n",
    "    x_min = sensor_x.min()\n",
    "    x_max = sensor_x.max()\n",
    "    y_min = sensor_y.min()\n",
    "    y_max = sensor_y.max()\n",
    "    z_min = sensor_z.min()\n",
    "    z_max = sensor_z.max()\n",
    "\n",
    "    detector_length = np.sqrt((x_max - x_min)**2 + (y_max - y_min)**2 + (z_max - z_min)**2)\n",
    "    t_valid_length = detector_length / c_const\n",
    "\n",
    "    print(\"t_valid_length: \", t_valid_length, \" ns\")\n",
    "\n",
    "    return sensor_geometry_df\n",
    "\n"
   ]
  },
  {
   "cell_type": "code",
   "execution_count": 138,
   "metadata": {},
   "outputs": [
    {
     "name": "stdout",
     "output_type": "stream",
     "text": [
      "t_valid_length:  6199.700247193777  ns\n"
     ]
    }
   ],
   "source": [
    "sensor_geometry_df = read_and_procc_geometry()"
   ]
  },
  {
   "cell_type": "code",
   "execution_count": 139,
   "metadata": {},
   "outputs": [],
   "source": [
    "# read single event from batch_meta_df\n",
    "def perprocess_event(\n",
    "    event_feature,\n",
    "    max_pulse_count=128,\n",
    "    t_valid_length=6199.700247193777,\n",
    "    sensor_geometry_df=sensor_geometry_df,\n",
    "):\n",
    "\n",
    "    event_feature = pd.DataFrame(\n",
    "        {\n",
    "            \"event_id\": event_feature[\"event_id\"],\n",
    "            \"sensor_id\": event_feature[\"sensor_id\"],\n",
    "            \"time\": event_feature[\"time\"],\n",
    "            \"charge\": event_feature[\"charge\"],\n",
    "            \"auxiliary\": event_feature[\"auxiliary\"],\n",
    "            \"x\": event_feature[\"x\"],\n",
    "            \"y\": event_feature[\"y\"],\n",
    "            \"z\": event_feature[\"z\"],\n",
    "        }\n",
    "    )\n",
    "\n",
    "    sensor_id = event_feature[\"sensor_id\"]\n",
    "\n",
    "    # merge features into single structured array\n",
    "    dtype = [\n",
    "        (\"time\", \"float16\"),\n",
    "        (\"charge\", \"float16\"),\n",
    "        (\"auxiliary\", \"float16\"),\n",
    "        (\"x\", \"float16\"),\n",
    "        (\"y\", \"float16\"),\n",
    "        (\"z\", \"float16\"),\n",
    "        (\"r_err\", \"float16\"),\n",
    "        (\"z_err\", \"float16\"),\n",
    "        (\"rank\", \"short\"),\n",
    "    ]\n",
    "    event_x = np.zeros(len(event_feature), dtype)\n",
    "\n",
    "    event_x[\"time\"] = event_feature.time.values - event_feature.time.min()\n",
    "    event_x[\"charge\"] = event_feature.charge.values\n",
    "    event_x[\"auxiliary\"] = event_feature.auxiliary.values\n",
    "\n",
    "    event_x[\"x\"] = sensor_geometry_df.x[sensor_id].values\n",
    "    event_x[\"y\"] = sensor_geometry_df.y[sensor_id].values\n",
    "    event_x[\"z\"] = sensor_geometry_df.z[sensor_id].values\n",
    "\n",
    "    event_x[\"r_err\"] = sensor_geometry_df.r_err[sensor_id].values\n",
    "    event_x[\"z_err\"] = sensor_geometry_df.z_err[sensor_id].values\n",
    "\n",
    "    # For long event, pick-up\n",
    "    if len(event_x) > max_pulse_count:\n",
    "        # Find valid time window\n",
    "        t_peak = event_x[\"time\"][event_x[\"charge\"].argmax()]\n",
    "        t_valid_min = t_peak - t_valid_length\n",
    "        t_valid_max = t_peak + t_valid_length\n",
    "\n",
    "        t_valid = (event_x[\"time\"] > t_valid_min) * (event_x[\"time\"] < t_valid_max)\n",
    "\n",
    "        # rank\n",
    "        event_x[\"rank\"] = 2 * (1 - event_x[\"auxiliary\"]) + (t_valid)\n",
    "\n",
    "        # sort by rank and charge (important goes to backward)\n",
    "        event_x = np.sort(event_x, order=[\"rank\", \"charge\"])\n",
    "\n",
    "        # pick-up from backward\n",
    "        event_x = event_x[-max_pulse_count:]\n",
    "\n",
    "        # resort by time\n",
    "        event_x = np.sort(event_x, order=\"time\")\n",
    "\n",
    "    # for train data, give angles together\n",
    "    event_x = {name: event_x[name] for name in (event_x.dtype.names)}\n",
    "    return {\"event\": event_x}\n",
    "\n",
    "\n",
    "def preprocess_v2(batch, max_pulse_count=128, t_valid_length=6199.700247193777):\n",
    "    col = batch.columns\n",
    "    t_peak = batch[\"time\"][batch[\"charge\"].argmax()]\n",
    "    t_valid_min = t_peak - t_valid_length\n",
    "    t_valid_max = t_peak + t_valid_length\n",
    "    t_valid = (batch[\"time\"] > t_valid_min) * (batch[\"time\"] < t_valid_max)\n",
    "    batch[\"rank\"] = 2 * (1 - batch[\"auxiliary\"]) + (t_valid)\n",
    "    batch = batch.sort_values(by=[\"rank\", \"charge\"])\n",
    "    # pick-up from backward\n",
    "    batch = batch[-max_pulse_count:]\n",
    "        # resort by time\n",
    "    batch = batch.sort_values(by=\"time\")\n",
    "    return batch[col]\n",
    "        \n",
    "        \n"
   ]
  },
  {
   "cell_type": "code",
   "execution_count": null,
   "metadata": {},
   "outputs": [],
   "source": []
  },
  {
   "cell_type": "code",
   "execution_count": 140,
   "metadata": {},
   "outputs": [
    {
     "name": "stderr",
     "output_type": "stream",
     "text": [
      "/usr/local/lib/python3.8/dist-packages/datasets/arrow_dataset.py:1533: FutureWarning: 'fs' was is deprecated in favor of 'storage_options' in version 2.8.0 and will be removed in 3.0.0.\n",
      "You can remove this warning by passing 'storage_options=fs.storage_options' instead.\n",
      "  warnings.warn(\n"
     ]
    }
   ],
   "source": [
    "batch = load_from_disk('/opt/slh/icecube/data/hf_cashe/batch_1.parquet')"
   ]
  },
  {
   "cell_type": "code",
   "execution_count": 215,
   "metadata": {},
   "outputs": [
    {
     "data": {
      "text/html": [
       "<div>\n",
       "<style scoped>\n",
       "    .dataframe tbody tr th:only-of-type {\n",
       "        vertical-align: middle;\n",
       "    }\n",
       "\n",
       "    .dataframe tbody tr th {\n",
       "        vertical-align: top;\n",
       "    }\n",
       "\n",
       "    .dataframe thead th {\n",
       "        text-align: right;\n",
       "    }\n",
       "</style>\n",
       "<table border=\"1\" class=\"dataframe\">\n",
       "  <thead>\n",
       "    <tr style=\"text-align: right;\">\n",
       "      <th></th>\n",
       "      <th>x</th>\n",
       "      <th>y</th>\n",
       "      <th>z</th>\n",
       "      <th>charge</th>\n",
       "      <th>time</th>\n",
       "    </tr>\n",
       "  </thead>\n",
       "  <tbody>\n",
       "    <tr>\n",
       "      <th>0</th>\n",
       "      <td>79.41</td>\n",
       "      <td>-248.24</td>\n",
       "      <td>464.86</td>\n",
       "      <td>0.825</td>\n",
       "      <td>6083</td>\n",
       "    </tr>\n",
       "    <tr>\n",
       "      <th>1</th>\n",
       "      <td>41.60</td>\n",
       "      <td>35.49</td>\n",
       "      <td>-473.29</td>\n",
       "      <td>1.275</td>\n",
       "      <td>6194</td>\n",
       "    </tr>\n",
       "    <tr>\n",
       "      <th>2</th>\n",
       "      <td>-66.70</td>\n",
       "      <td>276.92</td>\n",
       "      <td>140.39</td>\n",
       "      <td>0.525</td>\n",
       "      <td>6567</td>\n",
       "    </tr>\n",
       "    <tr>\n",
       "      <th>3</th>\n",
       "      <td>114.39</td>\n",
       "      <td>-461.99</td>\n",
       "      <td>-267.27</td>\n",
       "      <td>1.025</td>\n",
       "      <td>7003</td>\n",
       "    </tr>\n",
       "    <tr>\n",
       "      <th>4</th>\n",
       "      <td>46.29</td>\n",
       "      <td>-34.88</td>\n",
       "      <td>-264.96</td>\n",
       "      <td>0.625</td>\n",
       "      <td>7200</td>\n",
       "    </tr>\n",
       "  </tbody>\n",
       "</table>\n",
       "</div>"
      ],
      "text/plain": [
       "        x       y       z  charge  time\n",
       "0   79.41 -248.24  464.86   0.825  6083\n",
       "1   41.60   35.49 -473.29   1.275  6194\n",
       "2  -66.70  276.92  140.39   0.525  6567\n",
       "3  114.39 -461.99 -267.27   1.025  7003\n",
       "4   46.29  -34.88 -264.96   0.625  7200"
      ]
     },
     "execution_count": 215,
     "metadata": {},
     "output_type": "execute_result"
    }
   ],
   "source": [
    "pd.DataFrame(batch[4])[['x', 'y', 'z', 'charge', 'time']][:5]"
   ]
  },
  {
   "cell_type": "code",
   "execution_count": null,
   "metadata": {},
   "outputs": [],
   "source": []
  },
  {
   "cell_type": "code",
   "execution_count": 141,
   "metadata": {},
   "outputs": [],
   "source": [
    "bin_num = 16\n",
    "azimuth_edges = np.linspace(0, 2 * np.pi, bin_num + 1)\n",
    "zenith_edges_flat = np.linspace(0, np.pi, bin_num + 1)\n",
    "zenith_edges = list()\n",
    "zenith_edges.append(0)\n",
    "for bin_idx in range(1, bin_num):\n",
    "    # cos(zen_before) - cos(zen_now) = 2 / bin_num\n",
    "    zen_now = np.arccos(np.cos(zenith_edges[-1]) - 2 / (bin_num))\n",
    "    zenith_edges.append(zen_now)\n",
    "zenith_edges.append(np.pi)\n",
    "zenith_edges = np.array(zenith_edges)"
   ]
  },
  {
   "cell_type": "code",
   "execution_count": 142,
   "metadata": {},
   "outputs": [],
   "source": [
    "def y_to_onehot(batch_y):\n",
    "    # evaluate bin code\n",
    "    azimuth_code = (batch_y[:, 0] > azimuth_edges[1:].reshape((-1, 1))).sum(axis=0)\n",
    "    zenith_code = (batch_y[:, 1] > zenith_edges[1:].reshape((-1, 1))).sum(axis=0)\n",
    "    angle_code = bin_num * azimuth_code + zenith_code\n",
    "\n",
    "    # one-hot\n",
    "    batch_y_onehot = np.zeros((angle_code.size, bin_num * bin_num))\n",
    "    batch_y_onehot[np.arange(angle_code.size), angle_code] = 1\n",
    "    \n",
    "    return batch_y_onehot\n",
    "\n",
    "angle_bin_zenith0 = np.tile(zenith_edges[:-1], bin_num)\n",
    "angle_bin_zenith1 = np.tile(zenith_edges[1:], bin_num)\n",
    "angle_bin_azimuth0 = np.repeat(azimuth_edges[:-1], bin_num)\n",
    "angle_bin_azimuth1 = np.repeat(azimuth_edges[1:], bin_num)\n",
    "\n",
    "angle_bin_area = (angle_bin_azimuth1 - angle_bin_azimuth0) * (np.cos(angle_bin_zenith0) - np.cos(angle_bin_zenith1))\n",
    "angle_bin_vector_sum_x = (np.sin(angle_bin_azimuth1) - np.sin(angle_bin_azimuth0)) * ((angle_bin_zenith1 - angle_bin_zenith0) / 2 - (np.sin(2 * angle_bin_zenith1) - np.sin(2 * angle_bin_zenith0)) / 4)\n",
    "angle_bin_vector_sum_y = (np.cos(angle_bin_azimuth0) - np.cos(angle_bin_azimuth1)) * ((angle_bin_zenith1 - angle_bin_zenith0) / 2 - (np.sin(2 * angle_bin_zenith1) - np.sin(2 * angle_bin_zenith0)) / 4)\n",
    "angle_bin_vector_sum_z = (angle_bin_azimuth1 - angle_bin_azimuth0) * ((np.cos(2 * angle_bin_zenith0) - np.cos(2 * angle_bin_zenith1)) / 4)\n",
    "\n",
    "angle_bin_vector_mean_x = angle_bin_vector_sum_x / angle_bin_area\n",
    "angle_bin_vector_mean_y = angle_bin_vector_sum_y / angle_bin_area\n",
    "angle_bin_vector_mean_z = angle_bin_vector_sum_z / angle_bin_area\n",
    "\n",
    "angle_bin_vector = np.zeros((1, bin_num * bin_num, 3))\n",
    "angle_bin_vector[:, :, 0] = angle_bin_vector_mean_x\n",
    "angle_bin_vector[:, :, 1] = angle_bin_vector_mean_y\n",
    "angle_bin_vector[:, :, 2] = angle_bin_vector_mean_z\n",
    "\n",
    "def pred_to_angle(pred, epsilon=1e-8):\n",
    "    # convert prediction to vector\n",
    "    pred_vector = (pred.reshape((-1, bin_num * bin_num, 1)) * angle_bin_vector).sum(axis=1)\n",
    "    \n",
    "    # normalize\n",
    "    pred_vector_norm = np.sqrt((pred_vector**2).sum(axis=1))\n",
    "    mask = pred_vector_norm < epsilon\n",
    "    pred_vector_norm[mask] = 1\n",
    "    \n",
    "    # assign <1, 0, 0> to very small vectors (badly predicted)\n",
    "    pred_vector /= pred_vector_norm.reshape((-1, 1))\n",
    "    pred_vector[mask] = np.array([1., 0., 0.])\n",
    "    \n",
    "    # convert to angle\n",
    "    azimuth = np.arctan2(pred_vector[:, 1], pred_vector[:, 0])\n",
    "    azimuth[azimuth < 0] += 2 * np.pi\n",
    "    zenith = np.arccos(pred_vector[:, 2])\n",
    "    \n",
    "    return azimuth, zenith"
   ]
  },
  {
   "cell_type": "code",
   "execution_count": 143,
   "metadata": {},
   "outputs": [
    {
     "name": "stdout",
     "output_type": "stream",
     "text": [
      "[[4.16105643 1.42740734]]\n"
     ]
    },
    {
     "data": {
      "text/plain": [
       "array([[0., 0., 0., 0., 0., 0., 0., 0., 0., 0., 0., 0., 0., 0., 0., 0.,\n",
       "        0., 0., 0., 0., 0., 0., 0., 0., 0., 0., 0., 0., 0., 0., 0., 0.,\n",
       "        0., 0., 0., 0., 0., 0., 0., 0., 0., 0., 0., 0., 0., 0., 0., 0.,\n",
       "        0., 0., 0., 0., 0., 0., 0., 0., 0., 0., 0., 0., 0., 0., 0., 0.,\n",
       "        0., 0., 0., 0., 0., 0., 0., 0., 0., 0., 0., 0., 0., 0., 0., 0.,\n",
       "        0., 0., 0., 0., 0., 0., 0., 0., 0., 0., 0., 0., 0., 0., 0., 0.,\n",
       "        0., 0., 0., 0., 0., 0., 0., 0., 0., 0., 0., 0., 0., 0., 0., 0.,\n",
       "        0., 0., 0., 0., 0., 0., 0., 0., 0., 0., 0., 0., 0., 0., 0., 0.,\n",
       "        0., 0., 0., 0., 0., 0., 0., 0., 0., 0., 0., 0., 0., 0., 0., 0.,\n",
       "        0., 0., 0., 0., 0., 0., 0., 0., 0., 0., 0., 0., 0., 0., 0., 0.,\n",
       "        0., 0., 0., 0., 0., 0., 0., 0., 0., 0., 0., 0., 0., 0., 0., 0.,\n",
       "        0., 0., 0., 0., 0., 0., 1., 0., 0., 0., 0., 0., 0., 0., 0., 0.,\n",
       "        0., 0., 0., 0., 0., 0., 0., 0., 0., 0., 0., 0., 0., 0., 0., 0.,\n",
       "        0., 0., 0., 0., 0., 0., 0., 0., 0., 0., 0., 0., 0., 0., 0., 0.,\n",
       "        0., 0., 0., 0., 0., 0., 0., 0., 0., 0., 0., 0., 0., 0., 0., 0.,\n",
       "        0., 0., 0., 0., 0., 0., 0., 0., 0., 0., 0., 0., 0., 0., 0., 0.]])"
      ]
     },
     "execution_count": 143,
     "metadata": {},
     "output_type": "execute_result"
    }
   ],
   "source": [
    "index = 656\n",
    "label = np.array([batch[23]['azimuth'], batch[23]['zenith']]).reshape(1, -1)\n",
    "print(label)\n",
    "label[:, 0] += azimuth_edges[1] - azimuth_edges[0]\n",
    "label[:, 0][label[:, 0] > 2 * np.pi] -= 2 * np.pi\n",
    "y_to_onehot(label)"
   ]
  },
  {
   "cell_type": "code",
   "execution_count": null,
   "metadata": {},
   "outputs": [],
   "source": []
  },
  {
   "cell_type": "code",
   "execution_count": 135,
   "metadata": {},
   "outputs": [
    {
     "data": {
      "text/plain": [
       "(array([4.12334036]), array([1.38086169]))"
      ]
     },
     "execution_count": 135,
     "metadata": {},
     "output_type": "execute_result"
    }
   ],
   "source": [
    "az, zen = pred_to_angle(y_to_onehot(label))\n",
    "az -= azimuth_edges[1] - azimuth_edges[0]\n",
    "az, zen"
   ]
  },
  {
   "cell_type": "code",
   "execution_count": 183,
   "metadata": {},
   "outputs": [],
   "source": [
    "import torch\n",
    "\n",
    "data = torch.tensor([[303.41, 335.64, 206.58, 1.325, 5928],\n",
    "                     [-145.45, 374.24, 212.73, 1.175, 6115],\n",
    "                     [505.27, 257.88, -174.60, 0.925, 6492],\n",
    "                     [-9.68, -79.50, 181.00, 0.225, 6665],\n",
    "                     [576.37, 170.92, 357.88, 1.575, 8054]])"
   ]
  },
  {
   "cell_type": "code",
   "execution_count": 220,
   "metadata": {},
   "outputs": [],
   "source": [
    "import torch\n",
    "\n",
    "def calculate_features(data):\n",
    "    # Calculate the distance of each interaction point from the IceCube detector\n",
    "    distance = np.sqrt(np.sum(data[:, :3]**2, axis=1))\n",
    "    \n",
    "    # Calculate the time differences between the arrival times of the different signals\n",
    "    time_differences = np.diff(data[:, 4])\n",
    "    \n",
    "    # Calculate the charge ratios of the different signals\n",
    "    charge_ratios = np.diff(data[:, 3]) / data[:-1, 3]\n",
    "    \n",
    "    # Combine the additional features into a single array\n",
    "    \n",
    "    \n",
    "    return distance, time_differences, charge_ratios"
   ]
  },
  {
   "cell_type": "code",
   "execution_count": 221,
   "metadata": {},
   "outputs": [],
   "source": [
    "data = torch.tensor([[303.41, 335.64, 206.58, 1.325, 5928],\n",
    "                     [-145.45, 374.24, 212.73, 1.175, 6115],\n",
    "                     [505.27, 257.88, -174.60, 0.925, 6492],\n",
    "                     [-9.68, -79.50, 181.00, 0.225, 6665],\n",
    "                     [576.37, 170.92, 357.88, 1.575, 8054]])\n",
    "\n",
    "\n",
    "\n"
   ]
  },
  {
   "cell_type": "code",
   "execution_count": 225,
   "metadata": {},
   "outputs": [
    {
     "data": {
      "text/plain": [
       "(4,)"
      ]
     },
     "execution_count": 225,
     "metadata": {},
     "output_type": "execute_result"
    }
   ],
   "source": [
    "calculate_features(data.numpy())[1].shape"
   ]
  },
  {
   "cell_type": "code",
   "execution_count": 219,
   "metadata": {},
   "outputs": [
    {
     "data": {
      "text/plain": [
       "array([[ 3.0341e+02,  3.3564e+02,  2.0658e+02,  1.3250e+00,  5.9280e+03],\n",
       "       [-1.4545e+02,  3.7424e+02,  2.1273e+02,  1.1750e+00,  6.1150e+03],\n",
       "       [ 5.0527e+02,  2.5788e+02, -1.7460e+02,  9.2500e-01,  6.4920e+03],\n",
       "       [-9.6800e+00, -7.9500e+01,  1.8100e+02,  2.2500e-01,  6.6650e+03],\n",
       "       [ 5.7637e+02,  1.7092e+02,  3.5788e+02,  1.5750e+00,  8.0540e+03]],\n",
       "      dtype=float32)"
      ]
     },
     "execution_count": 219,
     "metadata": {},
     "output_type": "execute_result"
    }
   ],
   "source": [
    "data.numpy()"
   ]
  },
  {
   "cell_type": "code",
   "execution_count": null,
   "metadata": {},
   "outputs": [],
   "source": []
  }
 ],
 "metadata": {
  "kernelspec": {
   "display_name": "Python 3",
   "language": "python",
   "name": "python3"
  },
  "language_info": {
   "codemirror_mode": {
    "name": "ipython",
    "version": 3
   },
   "file_extension": ".py",
   "mimetype": "text/x-python",
   "name": "python",
   "nbconvert_exporter": "python",
   "pygments_lexer": "ipython3",
   "version": "3.8.10"
  },
  "orig_nbformat": 4,
  "vscode": {
   "interpreter": {
    "hash": "e7370f93d1d0cde622a1f8e1c04877d8463912d04d973331ad4851f04de6915a"
   }
  }
 },
 "nbformat": 4,
 "nbformat_minor": 2
}
