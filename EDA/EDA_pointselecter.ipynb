{
 "cells": [
  {
   "cell_type": "code",
   "execution_count": 117,
   "metadata": {},
   "outputs": [],
   "source": [
    "import pandas as pd\n",
    "import numpy as np\n",
    "from datasets import  load_from_disk\n",
    "from pathlib import Path\n"
   ]
  },
  {
   "cell_type": "code",
   "execution_count": 118,
   "metadata": {},
   "outputs": [],
   "source": [
    "\n",
    "\n",
    "def read_and_procc_geometry(fn = Path(\"../data/sensor_geometry.csv\")):\n",
    "    sensor_geometry_df = pd.read_csv(\"../data/sensor_geometry.csv\")\n",
    "        # counts\n",
    "    doms_per_string = 60\n",
    "    string_num = 86\n",
    "\n",
    "    # index\n",
    "    outer_long_strings = np.concatenate(\n",
    "        [np.arange(0, 25), np.arange(27, 34), np.arange(37, 44), np.arange(46, 78)]\n",
    "    )\n",
    "    inner_long_strings = np.array([25, 26, 34, 35, 36, 44, 45])\n",
    "    inner_short_strings = np.array([78, 79, 80, 81, 82, 83, 84, 85])\n",
    "\n",
    "    # known specs\n",
    "    outer_xy_resolution = 125.0 / 2\n",
    "    inner_xy_resolution = 70.0 / 2\n",
    "    long_z_resolution = 17.0 / 2\n",
    "    short_z_resolution = 7.0 / 2\n",
    "\n",
    "    # evaluate error\n",
    "    sensor_x = sensor_geometry_df.x\n",
    "    sensor_y = sensor_geometry_df.y\n",
    "    sensor_z = sensor_geometry_df.z\n",
    "    sensor_r_err = np.ones(doms_per_string * string_num)\n",
    "    sensor_z_err = np.ones(doms_per_string * string_num)\n",
    "\n",
    "    for string_id in outer_long_strings:\n",
    "        sensor_r_err[\n",
    "            string_id * doms_per_string : (string_id + 1) * doms_per_string\n",
    "        ] *= outer_xy_resolution\n",
    "    for string_id in np.concatenate([inner_long_strings, inner_short_strings]):\n",
    "        sensor_r_err[\n",
    "            string_id * doms_per_string : (string_id + 1) * doms_per_string\n",
    "        ] *= inner_xy_resolution\n",
    "\n",
    "    for string_id in outer_long_strings:\n",
    "        sensor_z_err[\n",
    "            string_id * doms_per_string : (string_id + 1) * doms_per_string\n",
    "        ] *= long_z_resolution\n",
    "    for string_id in np.concatenate([inner_long_strings, inner_short_strings]):\n",
    "        for dom_id in range(doms_per_string):\n",
    "            z = sensor_z[string_id * doms_per_string + dom_id]\n",
    "            if (z < -156.0) or (z > 95.5 and z < 191.5):\n",
    "                sensor_z_err[string_id * doms_per_string + dom_id] *= short_z_resolution\n",
    "    # register\n",
    "    sensor_geometry_df[\"r_err\"] = sensor_r_err\n",
    "    sensor_geometry_df[\"z_err\"] = sensor_z_err\n",
    "\n",
    "    # detector constants\n",
    "    c_const = 0.299792458  # speed of light [m/ns]\n",
    "\n",
    "    x_min = sensor_x.min()\n",
    "    x_max = sensor_x.max()\n",
    "    y_min = sensor_y.min()\n",
    "    y_max = sensor_y.max()\n",
    "    z_min = sensor_z.min()\n",
    "    z_max = sensor_z.max()\n",
    "\n",
    "    detector_length = np.sqrt((x_max - x_min)**2 + (y_max - y_min)**2 + (z_max - z_min)**2)\n",
    "    t_valid_length = detector_length / c_const\n",
    "\n",
    "    print(\"t_valid_length: \", t_valid_length, \" ns\")\n",
    "\n",
    "    return sensor_geometry_df\n",
    "\n"
   ]
  },
  {
   "cell_type": "code",
   "execution_count": 119,
   "metadata": {},
   "outputs": [
    {
     "name": "stdout",
     "output_type": "stream",
     "text": [
      "t_valid_length:  6199.700247193777  ns\n"
     ]
    }
   ],
   "source": [
    "sensor_geometry_df = read_and_procc_geometry()"
   ]
  },
  {
   "cell_type": "code",
   "execution_count": 120,
   "metadata": {},
   "outputs": [],
   "source": [
    "# read single event from batch_meta_df\n",
    "def perprocess_event(\n",
    "    event_feature,\n",
    "    max_pulse_count=128,\n",
    "    t_valid_length=6199.700247193777,\n",
    "    sensor_geometry_df=sensor_geometry_df,\n",
    "):\n",
    "\n",
    "    event_feature = pd.DataFrame(\n",
    "        {\n",
    "            \"event_id\": event_feature[\"event_id\"],\n",
    "            \"sensor_id\": event_feature[\"sensor_id\"],\n",
    "            \"time\": event_feature[\"time\"],\n",
    "            \"charge\": event_feature[\"charge\"],\n",
    "            \"auxiliary\": event_feature[\"auxiliary\"],\n",
    "            \"x\": event_feature[\"x\"],\n",
    "            \"y\": event_feature[\"y\"],\n",
    "            \"z\": event_feature[\"z\"],\n",
    "        }\n",
    "    )\n",
    "\n",
    "    sensor_id = event_feature[\"sensor_id\"]\n",
    "\n",
    "    # merge features into single structured array\n",
    "    dtype = [\n",
    "        (\"time\", \"float16\"),\n",
    "        (\"charge\", \"float16\"),\n",
    "        (\"auxiliary\", \"float16\"),\n",
    "        (\"x\", \"float16\"),\n",
    "        (\"y\", \"float16\"),\n",
    "        (\"z\", \"float16\"),\n",
    "        (\"r_err\", \"float16\"),\n",
    "        (\"z_err\", \"float16\"),\n",
    "        (\"rank\", \"short\"),\n",
    "    ]\n",
    "    event_x = np.zeros(len(event_feature), dtype)\n",
    "\n",
    "    event_x[\"time\"] = event_feature.time.values - event_feature.time.min()\n",
    "    event_x[\"charge\"] = event_feature.charge.values\n",
    "    event_x[\"auxiliary\"] = event_feature.auxiliary.values\n",
    "\n",
    "    event_x[\"x\"] = sensor_geometry_df.x[sensor_id].values\n",
    "    event_x[\"y\"] = sensor_geometry_df.y[sensor_id].values\n",
    "    event_x[\"z\"] = sensor_geometry_df.z[sensor_id].values\n",
    "\n",
    "    event_x[\"r_err\"] = sensor_geometry_df.r_err[sensor_id].values\n",
    "    event_x[\"z_err\"] = sensor_geometry_df.z_err[sensor_id].values\n",
    "\n",
    "    # For long event, pick-up\n",
    "    if len(event_x) > max_pulse_count:\n",
    "        # Find valid time window\n",
    "        t_peak = event_x[\"time\"][event_x[\"charge\"].argmax()]\n",
    "        t_valid_min = t_peak - t_valid_length\n",
    "        t_valid_max = t_peak + t_valid_length\n",
    "\n",
    "        t_valid = (event_x[\"time\"] > t_valid_min) * (event_x[\"time\"] < t_valid_max)\n",
    "\n",
    "        # rank\n",
    "        event_x[\"rank\"] = 2 * (1 - event_x[\"auxiliary\"]) + (t_valid)\n",
    "\n",
    "        # sort by rank and charge (important goes to backward)\n",
    "        event_x = np.sort(event_x, order=[\"rank\", \"charge\"])\n",
    "\n",
    "        # pick-up from backward\n",
    "        event_x = event_x[-max_pulse_count:]\n",
    "\n",
    "        # resort by time\n",
    "        event_x = np.sort(event_x, order=\"time\")\n",
    "\n",
    "    # for train data, give angles together\n",
    "    event_x = {name: event_x[name] for name in (event_x.dtype.names)}\n",
    "    return {\"event\": event_x}\n",
    "\n",
    "\n",
    "def preprocess_v2(batch, max_pulse_count=128, t_valid_length=6199.700247193777):\n",
    "    col = batch.columns\n",
    "    t_peak = batch[\"time\"][batch[\"charge\"].argmax()]\n",
    "    t_valid_min = t_peak - t_valid_length\n",
    "    t_valid_max = t_peak + t_valid_length\n",
    "    t_valid = (batch[\"time\"] > t_valid_min) * (batch[\"time\"] < t_valid_max)\n",
    "    batch[\"rank\"] = 2 * (1 - batch[\"auxiliary\"]) + (t_valid)\n",
    "    batch = batch.sort_values(by=[\"rank\", \"charge\"])\n",
    "    # pick-up from backward\n",
    "    batch = batch[-max_pulse_count:]\n",
    "        # resort by time\n",
    "    batch = batch.sort_values(by=\"time\")\n",
    "    return batch[col]\n",
    "        \n",
    "        \n"
   ]
  },
  {
   "cell_type": "code",
   "execution_count": 121,
   "metadata": {},
   "outputs": [
    {
     "name": "stderr",
     "output_type": "stream",
     "text": [
      "/usr/local/lib/python3.8/dist-packages/datasets/arrow_dataset.py:1533: FutureWarning: 'fs' was is deprecated in favor of 'storage_options' in version 2.8.0 and will be removed in 3.0.0.\n",
      "You can remove this warning by passing 'storage_options=fs.storage_options' instead.\n",
      "  warnings.warn(\n"
     ]
    }
   ],
   "source": [
    "batch = load_from_disk('/opt/slh/icecube/data/hf_cashe/batch_1.parquet')"
   ]
  },
  {
   "cell_type": "code",
   "execution_count": 122,
   "metadata": {},
   "outputs": [],
   "source": [
    "bin_num = 16\n",
    "azimuth_edges = np.linspace(0, 2 * np.pi, bin_num + 1)\n",
    "zenith_edges_flat = np.linspace(0, np.pi, bin_num + 1)\n",
    "zenith_edges = list()\n",
    "zenith_edges.append(0)\n",
    "for bin_idx in range(1, bin_num):\n",
    "    # cos(zen_before) - cos(zen_now) = 2 / bin_num\n",
    "    zen_now = np.arccos(np.cos(zenith_edges[-1]) - 2 / (bin_num))\n",
    "    zenith_edges.append(zen_now)\n",
    "zenith_edges.append(np.pi)\n",
    "zenith_edges = np.array(zenith_edges)"
   ]
  },
  {
   "cell_type": "code",
   "execution_count": 133,
   "metadata": {},
   "outputs": [],
   "source": [
    "def y_to_onehot(batch_y):\n",
    "    # evaluate bin code\n",
    "    azimuth_code = (batch_y[:, 0] > azimuth_edges[1:].reshape((-1, 1))).sum(axis=0)\n",
    "    zenith_code = (batch_y[:, 1] > zenith_edges[1:].reshape((-1, 1))).sum(axis=0)\n",
    "    angle_code = bin_num * azimuth_code + zenith_code\n",
    "\n",
    "    # one-hot\n",
    "    batch_y_onehot = np.zeros((angle_code.size, bin_num * bin_num))\n",
    "    batch_y_onehot[np.arange(angle_code.size), angle_code] = 1\n",
    "    \n",
    "    return batch_y_onehot\n",
    "\n",
    "angle_bin_zenith0 = np.tile(zenith_edges[:-1], bin_num)\n",
    "angle_bin_zenith1 = np.tile(zenith_edges[1:], bin_num)\n",
    "angle_bin_azimuth0 = np.repeat(azimuth_edges[:-1], bin_num)\n",
    "angle_bin_azimuth1 = np.repeat(azimuth_edges[1:], bin_num)\n",
    "\n",
    "angle_bin_area = (angle_bin_azimuth1 - angle_bin_azimuth0) * (np.cos(angle_bin_zenith0) - np.cos(angle_bin_zenith1))\n",
    "angle_bin_vector_sum_x = (np.sin(angle_bin_azimuth1) - np.sin(angle_bin_azimuth0)) * ((angle_bin_zenith1 - angle_bin_zenith0) / 2 - (np.sin(2 * angle_bin_zenith1) - np.sin(2 * angle_bin_zenith0)) / 4)\n",
    "angle_bin_vector_sum_y = (np.cos(angle_bin_azimuth0) - np.cos(angle_bin_azimuth1)) * ((angle_bin_zenith1 - angle_bin_zenith0) / 2 - (np.sin(2 * angle_bin_zenith1) - np.sin(2 * angle_bin_zenith0)) / 4)\n",
    "angle_bin_vector_sum_z = (angle_bin_azimuth1 - angle_bin_azimuth0) * ((np.cos(2 * angle_bin_zenith0) - np.cos(2 * angle_bin_zenith1)) / 4)\n",
    "\n",
    "angle_bin_vector_mean_x = angle_bin_vector_sum_x / angle_bin_area\n",
    "angle_bin_vector_mean_y = angle_bin_vector_sum_y / angle_bin_area\n",
    "angle_bin_vector_mean_z = angle_bin_vector_sum_z / angle_bin_area\n",
    "\n",
    "angle_bin_vector = np.zeros((1, bin_num * bin_num, 3))\n",
    "angle_bin_vector[:, :, 0] = angle_bin_vector_mean_x\n",
    "angle_bin_vector[:, :, 1] = angle_bin_vector_mean_y\n",
    "angle_bin_vector[:, :, 2] = angle_bin_vector_mean_z\n",
    "\n",
    "def pred_to_angle(pred, epsilon=1e-8):\n",
    "    # convert prediction to vector\n",
    "    pred_vector = (pred.reshape((-1, bin_num * bin_num, 1)) * angle_bin_vector).sum(axis=1)\n",
    "    \n",
    "    # normalize\n",
    "    pred_vector_norm = np.sqrt((pred_vector**2).sum(axis=1))\n",
    "    mask = pred_vector_norm < epsilon\n",
    "    pred_vector_norm[mask] = 1\n",
    "    \n",
    "    # assign <1, 0, 0> to very small vectors (badly predicted)\n",
    "    pred_vector /= pred_vector_norm.reshape((-1, 1))\n",
    "    pred_vector[mask] = np.array([1., 0., 0.])\n",
    "    \n",
    "    # convert to angle\n",
    "    azimuth = np.arctan2(pred_vector[:, 1], pred_vector[:, 0])\n",
    "    azimuth[azimuth < 0] += 2 * np.pi\n",
    "    zenith = np.arccos(pred_vector[:, 2])\n",
    "    \n",
    "    return azimuth, zenith"
   ]
  },
  {
   "cell_type": "code",
   "execution_count": 134,
   "metadata": {},
   "outputs": [
    {
     "name": "stdout",
     "output_type": "stream",
     "text": [
      "[[4.16105643 1.42740734]]\n"
     ]
    },
    {
     "data": {
      "text/plain": [
       "array([[0., 0., 0., 0., 0., 0., 0., 0., 0., 0., 0., 0., 0., 0., 0., 0.,\n",
       "        0., 0., 0., 0., 0., 0., 0., 0., 0., 0., 0., 0., 0., 0., 0., 0.,\n",
       "        0., 0., 0., 0., 0., 0., 0., 0., 0., 0., 0., 0., 0., 0., 0., 0.,\n",
       "        0., 0., 0., 0., 0., 0., 0., 0., 0., 0., 0., 0., 0., 0., 0., 0.,\n",
       "        0., 0., 0., 0., 0., 0., 0., 0., 0., 0., 0., 0., 0., 0., 0., 0.,\n",
       "        0., 0., 0., 0., 0., 0., 0., 0., 0., 0., 0., 0., 0., 0., 0., 0.,\n",
       "        0., 0., 0., 0., 0., 0., 0., 0., 0., 0., 0., 0., 0., 0., 0., 0.,\n",
       "        0., 0., 0., 0., 0., 0., 0., 0., 0., 0., 0., 0., 0., 0., 0., 0.,\n",
       "        0., 0., 0., 0., 0., 0., 0., 0., 0., 0., 0., 0., 0., 0., 0., 0.,\n",
       "        0., 0., 0., 0., 0., 0., 0., 0., 0., 0., 0., 0., 0., 0., 0., 0.,\n",
       "        0., 0., 0., 0., 0., 0., 0., 0., 0., 0., 0., 0., 0., 0., 0., 0.,\n",
       "        0., 0., 0., 0., 0., 0., 1., 0., 0., 0., 0., 0., 0., 0., 0., 0.,\n",
       "        0., 0., 0., 0., 0., 0., 0., 0., 0., 0., 0., 0., 0., 0., 0., 0.,\n",
       "        0., 0., 0., 0., 0., 0., 0., 0., 0., 0., 0., 0., 0., 0., 0., 0.,\n",
       "        0., 0., 0., 0., 0., 0., 0., 0., 0., 0., 0., 0., 0., 0., 0., 0.,\n",
       "        0., 0., 0., 0., 0., 0., 0., 0., 0., 0., 0., 0., 0., 0., 0., 0.]])"
      ]
     },
     "execution_count": 134,
     "metadata": {},
     "output_type": "execute_result"
    }
   ],
   "source": [
    "index = 656\n",
    "label = np.array([batch[23]['azimuth'], batch[23]['zenith']]).reshape(1, -1)\n",
    "print(label)\n",
    "label[:, 0] += azimuth_edges[1] - azimuth_edges[0]\n",
    "label[:, 0][label[:, 0] > 2 * np.pi] -= 2 * np.pi\n",
    "y_to_onehot(label)"
   ]
  },
  {
   "cell_type": "code",
   "execution_count": null,
   "metadata": {},
   "outputs": [],
   "source": []
  },
  {
   "cell_type": "code",
   "execution_count": 135,
   "metadata": {},
   "outputs": [
    {
     "data": {
      "text/plain": [
       "(array([4.12334036]), array([1.38086169]))"
      ]
     },
     "execution_count": 135,
     "metadata": {},
     "output_type": "execute_result"
    }
   ],
   "source": [
    "az, zen = pred_to_angle(y_to_onehot(label))\n",
    "az -= azimuth_edges[1] - azimuth_edges[0]\n",
    "az, zen"
   ]
  },
  {
   "cell_type": "code",
   "execution_count": null,
   "metadata": {},
   "outputs": [],
   "source": []
  }
 ],
 "metadata": {
  "kernelspec": {
   "display_name": "Python 3",
   "language": "python",
   "name": "python3"
  },
  "language_info": {
   "codemirror_mode": {
    "name": "ipython",
    "version": 3
   },
   "file_extension": ".py",
   "mimetype": "text/x-python",
   "name": "python",
   "nbconvert_exporter": "python",
   "pygments_lexer": "ipython3",
   "version": "3.8.10"
  },
  "orig_nbformat": 4,
  "vscode": {
   "interpreter": {
    "hash": "e7370f93d1d0cde622a1f8e1c04877d8463912d04d973331ad4851f04de6915a"
   }
  }
 },
 "nbformat": 4,
 "nbformat_minor": 2
}
