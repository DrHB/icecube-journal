{
 "cells": [
  {
   "cell_type": "code",
   "execution_count": 1,
   "metadata": {},
   "outputs": [],
   "source": [
    "#|default_exp models"
   ]
  },
  {
   "cell_type": "code",
   "execution_count": 7,
   "metadata": {},
   "outputs": [],
   "source": [
    "#| export\n",
    "import torch\n",
    "from x_transformers import ContinuousTransformerWrapper, Encoder, Decoder"
   ]
  },
  {
   "cell_type": "code",
   "execution_count": 8,
   "metadata": {},
   "outputs": [],
   "source": [
    "# model = ContinuousTransformerWrapper(\n",
    "#     dim_in = 6,\n",
    "#     dim_out = 128,\n",
    "#     max_seq_len = 1024,\n",
    "#     use_abs_pos_emb=False,\n",
    "#     scaled_sinu_pos_emb=True,\n",
    "#     attn_layers = Encoder(\n",
    "#         dim = 128,\n",
    "#         depth = 12,\n",
    "#         heads = 8\n",
    "#     )\n",
    "# )"
   ]
  },
  {
   "cell_type": "code",
   "execution_count": 9,
   "metadata": {},
   "outputs": [],
   "source": [
    "# x = torch.rand(1, 1024, 6)\n",
    "# mask = torch.ones(1, 1024, dtype=torch.bool)\n",
    "# y = model(x, mask = mask)"
   ]
  },
  {
   "cell_type": "code",
   "execution_count": 10,
   "metadata": {},
   "outputs": [
    {
     "data": {
      "text/plain": [
       "tensor([[[0.0024, 0.2171, 0.2813, 0.8841, 0.7691, 0.5510],\n",
       "         [0.5806, 0.6075, 0.6926, 0.7611, 0.2013, 0.2434],\n",
       "         [0.6270, 0.0730, 0.9344, 0.1821, 0.9194, 0.6539],\n",
       "         ...,\n",
       "         [0.1967, 0.8827, 0.4772, 0.4522, 0.6225, 0.9340],\n",
       "         [0.5510, 0.1241, 0.0586, 0.6723, 0.8056, 0.0873],\n",
       "         [0.2638, 0.4234, 0.2705, 0.5015, 0.4074, 0.3366]]])"
      ]
     },
     "execution_count": 10,
     "metadata": {},
     "output_type": "execute_result"
    }
   ],
   "source": [
    "x"
   ]
  },
  {
   "cell_type": "code",
   "execution_count": 11,
   "metadata": {},
   "outputs": [],
   "source": [
    "#|hide\n",
    "#|eval: false\n",
    "from nbdev.doclinks import nbdev_export\n",
    "nbdev_export()"
   ]
  },
  {
   "cell_type": "code",
   "execution_count": null,
   "metadata": {},
   "outputs": [],
   "source": []
  }
 ],
 "metadata": {
  "kernelspec": {
   "display_name": "Python 3",
   "language": "python",
   "name": "python3"
  },
  "language_info": {
   "codemirror_mode": {
    "name": "ipython",
    "version": 3
   },
   "file_extension": ".py",
   "mimetype": "text/x-python",
   "name": "python",
   "nbconvert_exporter": "python",
   "pygments_lexer": "ipython3",
   "version": "3.8.10 (default, Nov 14 2022, 12:59:47) \n[GCC 9.4.0]"
  },
  "orig_nbformat": 4,
  "vscode": {
   "interpreter": {
    "hash": "e7370f93d1d0cde622a1f8e1c04877d8463912d04d973331ad4851f04de6915a"
   }
  }
 },
 "nbformat": 4,
 "nbformat_minor": 2
}
