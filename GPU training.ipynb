{
 "cells": [
  {
   "cell_type": "code",
   "execution_count": null,
   "id": "a463ee17",
   "metadata": {},
   "outputs": [],
   "source": [
    "#!accelerate launch --mixed_precision fp16 ./train_accel.py --config_name EXP_02"
   ]
  },
  {
   "cell_type": "code",
   "execution_count": null,
   "id": "e55fb2f9",
   "metadata": {
    "scrolled": false
   },
   "outputs": [],
   "source": [
    "# !CUDA_VISIBLE_DEVICES=0 python train.py --config_name BASELINE_HF_V1"
   ]
  },
  {
   "cell_type": "code",
   "execution_count": null,
   "id": "0f813c1d",
   "metadata": {},
   "outputs": [],
   "source": [
    "#!CUDA_VISIBLE_DEVICES=0 python train.py --config_name BASELINE_HF_V2"
   ]
  },
  {
   "cell_type": "code",
   "execution_count": null,
   "id": "076e7100",
   "metadata": {},
   "outputs": [],
   "source": [
    "# !CUDA_VISIBLE_DEVICES=0 python train.py --config_name BASELINE_EMBED_V0"
   ]
  },
  {
   "cell_type": "code",
   "execution_count": null,
   "id": "598673a1",
   "metadata": {},
   "outputs": [],
   "source": [
    "#!CUDA_VISIBLE_DEVICES=0 python train.py --config_name BASELINE_EMBED_V1"
   ]
  },
  {
   "cell_type": "code",
   "execution_count": null,
   "id": "909c9eb1",
   "metadata": {},
   "outputs": [],
   "source": [
    "#!CUDA_VISIBLE_DEVICES=0 python train.py --config_name BASELINE_EMBED_V2"
   ]
  },
  {
   "cell_type": "code",
   "execution_count": null,
   "id": "01117241",
   "metadata": {},
   "outputs": [],
   "source": [
    "#!CUDA_VISIBLE_DEVICES=0 python train.py --config_name MATGRAPH"
   ]
  },
  {
   "cell_type": "code",
   "execution_count": null,
   "id": "5b5c7676",
   "metadata": {},
   "outputs": [],
   "source": [
    "!CUDA_VISIBLE_DEVICES=0 python train.py --config_name MATGRAPHV2"
   ]
  },
  {
   "cell_type": "code",
   "execution_count": 1,
   "id": "b45047bc",
   "metadata": {},
   "outputs": [
    {
     "name": "stdout",
     "output_type": "stream",
     "text": [
      "Training with config: {'__module__': 'config', 'EXP_NAME': 'EXP_07', 'MODEL_NAME': <class 'icecube.models.IceCubeModelEncoderMATMasked'>, 'TRN_DATASET': <class 'icecube.dataset.HuggingFaceDatasetGraphV1'>, 'VAL_DATASET': <class 'icecube.dataset.HuggingFaceDatasetGraphV1'>, '__doc__': None}\r\n",
      "Traceback (most recent call last):\r\n",
      "  File \"train.py\", line 46, in <module>\r\n",
      "    main()\r\n",
      "  File \"train.py\", line 42, in main\r\n",
      "    os.makedirs(configs.FOLDER/configs.EXP_NAME)\r\n",
      "  File \"/usr/lib/python3.8/os.py\", line 223, in makedirs\r\n",
      "    mkdir(name, mode)\r\n",
      "FileExistsError: [Errno 17] File exists: 'RESULTS/EXP_07'\r\n"
     ]
    }
   ],
   "source": [
    "!CUDA_VISIBLE_DEVICES=0 python train.py --config_name MATGRAPHV3"
   ]
  },
  {
   "cell_type": "code",
   "execution_count": null,
   "id": "9f131817",
   "metadata": {},
   "outputs": [],
   "source": []
  }
 ],
 "metadata": {
  "kernelspec": {
   "display_name": "Python 3 (ipykernel)",
   "language": "python",
   "name": "python3"
  },
  "language_info": {
   "codemirror_mode": {
    "name": "ipython",
    "version": 3
   },
   "file_extension": ".py",
   "mimetype": "text/x-python",
   "name": "python",
   "nbconvert_exporter": "python",
   "pygments_lexer": "ipython3",
   "version": "3.8.10"
  }
 },
 "nbformat": 4,
 "nbformat_minor": 5
}
