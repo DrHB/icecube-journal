{
 "cells": [
  {
   "cell_type": "code",
   "execution_count": null,
   "id": "a463ee17",
   "metadata": {},
   "outputs": [],
   "source": [
    "#!accelerate launch --mixed_precision fp16 ./train_accel.py --config_name EXP_02"
   ]
  },
  {
   "cell_type": "code",
   "execution_count": null,
   "id": "e55fb2f9",
   "metadata": {
    "scrolled": false
   },
   "outputs": [],
   "source": [
    "# !CUDA_VISIBLE_DEVICES=0 python train.py --config_name BASELINE_HF_V1"
   ]
  },
  {
   "cell_type": "code",
   "execution_count": null,
   "id": "d6da92a8",
   "metadata": {},
   "outputs": [],
   "source": [
    "#!CUDA_VISIBLE_DEVICES=0 python train.py --config_name BASELINE_HF_V2"
   ]
  },
  {
   "cell_type": "code",
   "execution_count": null,
   "id": "26da2ab8",
   "metadata": {},
   "outputs": [],
   "source": [
    "# !CUDA_VISIBLE_DEVICES=0 python train.py --config_name BASELINE_EMBED_V0"
   ]
  },
  {
   "cell_type": "code",
   "execution_count": 4,
   "id": "4de4a0e2",
   "metadata": {},
   "outputs": [],
   "source": [
    "#!CUDA_VISIBLE_DEVICES=0 python train.py --config_name BASELINE_EMBED_V1"
   ]
  },
  {
   "cell_type": "code",
   "execution_count": 6,
   "id": "b4a8ff62",
   "metadata": {},
   "outputs": [],
   "source": [
    "#!CUDA_VISIBLE_DEVICES=0 python train.py --config_name BASELINE_EMBED_V2"
   ]
  },
  {
   "cell_type": "code",
   "execution_count": 8,
   "id": "08392044",
   "metadata": {},
   "outputs": [
    {
     "name": "stdout",
     "output_type": "stream",
     "text": [
      "Training with config: {'__module__': 'config', 'EXP_NAME': 'EXP_06', 'LOSS_FUNC': <class 'icecube.models.LogCoshLoss'>, 'TRN_DATASET': <class 'icecube.dataset.HuggingFaceDatasetGraphV0'>, 'VAL_DATASET': <class 'icecube.dataset.HuggingFaceDatasetGraphV0'>, 'MODEL_NAME': <class 'icecube.models.IceCubeModelEncoderMAT'>, 'COLLAT_FN': <function collate_fn_graphv0 at 0x7f8facc923a0>, 'TRN_BATCH_RANGE': (1, 100), 'VAL_BATCH_RANGE': (622, 627), 'EPOCHS': 10, '__doc__': None}\n",
      "epoch     train_loss  valid_loss  val_metric\n",
      "/usr/local/lib/python3.8/dist-packages/datasets/arrow_dataset.py:1533: FutureWarning: 'fs' was is deprecated in favor of 'storage_options' in version 2.8.0 and will be removed in 3.0.0.\n",
      "You can remove this warning by passing 'storage_options=fs.storage_options' instead.\n",
      "  warnings.warn(\n",
      "/usr/local/lib/python3.8/dist-packages/datasets/arrow_dataset.py:1533: FutureWarning: 'fs' was is deprecated in favor of 'storage_options' in version 2.8.0 and will be removed in 3.0.0.\n",
      "You can remove this warning by passing 'storage_options=fs.storage_options' instead.\n",
      "  warnings.warn(\n",
      "Better model found at epoch 0 with value: 1.4272555112838745.        \n",
      "   epoch  train_loss  valid_loss     metric\n",
      "0      0       0.587    0.555279  1.4272555\n",
      "/usr/local/lib/python3.8/dist-packages/datasets/arrow_dataset.py:1533: FutureWarning: 'fs' was is deprecated in favor of 'storage_options' in version 2.8.0 and will be removed in 3.0.0.\n",
      "You can remove this warning by passing 'storage_options=fs.storage_options' instead.\n",
      "  warnings.warn(\n",
      "Better model found at epoch 1 with value: 1.3694714307785034.        \n",
      "   epoch  train_loss  valid_loss     metric\n",
      "0      1    0.539099    0.540685  1.3694714\n",
      "/usr/local/lib/python3.8/dist-packages/datasets/arrow_dataset.py:1533: FutureWarning: 'fs' was is deprecated in favor of 'storage_options' in version 2.8.0 and will be removed in 3.0.0.\n",
      "You can remove this warning by passing 'storage_options=fs.storage_options' instead.\n",
      "  warnings.warn(\n",
      "Better model found at epoch 2 with value: 1.3330456018447876.        \n",
      "   epoch  train_loss  valid_loss     metric\n",
      "0      2    0.529155     0.52693  1.3330456\n",
      "/usr/local/lib/python3.8/dist-packages/datasets/arrow_dataset.py:1533: FutureWarning: 'fs' was is deprecated in favor of 'storage_options' in version 2.8.0 and will be removed in 3.0.0.\n",
      "You can remove this warning by passing 'storage_options=fs.storage_options' instead.\n",
      "  warnings.warn(\n",
      "Better model found at epoch 3 with value: 1.3181322813034058.        \n",
      "   epoch  train_loss  valid_loss     metric\n",
      "0      3    0.525421    0.521878  1.3181323\n",
      "/usr/local/lib/python3.8/dist-packages/datasets/arrow_dataset.py:1533: FutureWarning: 'fs' was is deprecated in favor of 'storage_options' in version 2.8.0 and will be removed in 3.0.0.\n",
      "You can remove this warning by passing 'storage_options=fs.storage_options' instead.\n",
      "  warnings.warn(\n",
      "Better model found at epoch 4 with value: 1.3125455379486084.        \n",
      "   epoch  train_loss  valid_loss     metric\n",
      "0      4     0.52291    0.519405  1.3125455\n",
      "/usr/local/lib/python3.8/dist-packages/datasets/arrow_dataset.py:1533: FutureWarning: 'fs' was is deprecated in favor of 'storage_options' in version 2.8.0 and will be removed in 3.0.0.\n",
      "You can remove this warning by passing 'storage_options=fs.storage_options' instead.\n",
      "  warnings.warn(\n",
      "Better model found at epoch 5 with value: 1.3427211046218872.        \n",
      "   epoch  train_loss  valid_loss     metric\n",
      "0      5    0.520627    0.538116  1.3427211\n",
      "/usr/local/lib/python3.8/dist-packages/datasets/arrow_dataset.py:1533: FutureWarning: 'fs' was is deprecated in favor of 'storage_options' in version 2.8.0 and will be removed in 3.0.0.\n",
      "You can remove this warning by passing 'storage_options=fs.storage_options' instead.\n",
      "  warnings.warn(\n",
      "Better model found at epoch 6 with value: 1.3076667785644531.        \n",
      "   epoch  train_loss  valid_loss     metric\n",
      "0      6    0.518953    0.521187  1.3076668\n",
      "/usr/local/lib/python3.8/dist-packages/datasets/arrow_dataset.py:1533: FutureWarning: 'fs' was is deprecated in favor of 'storage_options' in version 2.8.0 and will be removed in 3.0.0.\n",
      "You can remove this warning by passing 'storage_options=fs.storage_options' instead.\n",
      "  warnings.warn(\n",
      "Epoch 8/10 : |██------------------| 14.37% [1852/12891 08:36<51:16]\r"
     ]
    },
    {
     "name": "stderr",
     "output_type": "stream",
     "text": [
      "IOPub message rate exceeded.\n",
      "The notebook server will temporarily stop sending output\n",
      "to the client in order to avoid crashing it.\n",
      "To change this limit, set the config variable\n",
      "`--NotebookApp.iopub_msg_rate_limit`.\n",
      "\n",
      "Current values:\n",
      "NotebookApp.iopub_msg_rate_limit=1000.0 (msgs/sec)\n",
      "NotebookApp.rate_limit_window=3.0 (secs)\n",
      "\n"
     ]
    },
    {
     "name": "stdout",
     "output_type": "stream",
     "text": [
      "Better model found at epoch 7 with value: 1.299983024597168.         \n",
      "   epoch  train_loss  valid_loss    metric\n",
      "0      7    0.516243    0.513827  1.299983\n",
      "/usr/local/lib/python3.8/dist-packages/datasets/arrow_dataset.py:1533: FutureWarning: 'fs' was is deprecated in favor of 'storage_options' in version 2.8.0 and will be removed in 3.0.0.\n",
      "You can remove this warning by passing 'storage_options=fs.storage_options' instead.\n",
      "  warnings.warn(\n",
      "Epoch 9/10 : |██------------------| 10.21% [1316/12891 06:09<54:06]\r"
     ]
    },
    {
     "name": "stderr",
     "output_type": "stream",
     "text": [
      "IOPub message rate exceeded.\n",
      "The notebook server will temporarily stop sending output\n",
      "to the client in order to avoid crashing it.\n",
      "To change this limit, set the config variable\n",
      "`--NotebookApp.iopub_msg_rate_limit`.\n",
      "\n",
      "Current values:\n",
      "NotebookApp.iopub_msg_rate_limit=1000.0 (msgs/sec)\n",
      "NotebookApp.rate_limit_window=3.0 (secs)\n",
      "\n"
     ]
    },
    {
     "name": "stdout",
     "output_type": "stream",
     "text": [
      "Epoch 9/10 : |█████████████████---| 86.04% [11091/12891 50:51<08:15]\r"
     ]
    },
    {
     "name": "stderr",
     "output_type": "stream",
     "text": [
      "IOPub message rate exceeded.\n",
      "The notebook server will temporarily stop sending output\n",
      "to the client in order to avoid crashing it.\n",
      "To change this limit, set the config variable\n",
      "`--NotebookApp.iopub_msg_rate_limit`.\n",
      "\n",
      "Current values:\n",
      "NotebookApp.iopub_msg_rate_limit=1000.0 (msgs/sec)\n",
      "NotebookApp.rate_limit_window=3.0 (secs)\n",
      "\n"
     ]
    },
    {
     "name": "stdout",
     "output_type": "stream",
     "text": [
      "Better model found at epoch 8 with value: 1.2971993684768677.        \n",
      "   epoch  train_loss  valid_loss     metric\n",
      "0      8    0.513498    0.512931  1.2971994\n",
      "/usr/local/lib/python3.8/dist-packages/datasets/arrow_dataset.py:1533: FutureWarning: 'fs' was is deprecated in favor of 'storage_options' in version 2.8.0 and will be removed in 3.0.0.\n",
      "You can remove this warning by passing 'storage_options=fs.storage_options' instead.\n",
      "  warnings.warn(\n",
      "Epoch 10/10 : |█████████-----------| 47.97% [6184/12891 28:25<30:50]\r"
     ]
    },
    {
     "name": "stderr",
     "output_type": "stream",
     "text": [
      "IOPub message rate exceeded.\n",
      "The notebook server will temporarily stop sending output\n",
      "to the client in order to avoid crashing it.\n",
      "To change this limit, set the config variable\n",
      "`--NotebookApp.iopub_msg_rate_limit`.\n",
      "\n",
      "Current values:\n",
      "NotebookApp.iopub_msg_rate_limit=1000.0 (msgs/sec)\n",
      "NotebookApp.rate_limit_window=3.0 (secs)\n",
      "\n"
     ]
    },
    {
     "name": "stdout",
     "output_type": "stream",
     "text": [
      "Epoch 10/10 : |███████████████-----| 76.43% [9852/12891 45:12<13:56]\r"
     ]
    },
    {
     "name": "stderr",
     "output_type": "stream",
     "text": [
      "IOPub message rate exceeded.\n",
      "The notebook server will temporarily stop sending output\n",
      "to the client in order to avoid crashing it.\n",
      "To change this limit, set the config variable\n",
      "`--NotebookApp.iopub_msg_rate_limit`.\n",
      "\n",
      "Current values:\n",
      "NotebookApp.iopub_msg_rate_limit=1000.0 (msgs/sec)\n",
      "NotebookApp.rate_limit_window=3.0 (secs)\n",
      "\n"
     ]
    },
    {
     "name": "stdout",
     "output_type": "stream",
     "text": [
      "Better model found at epoch 9 with value: 1.2867225408554077.         \n",
      "   epoch  train_loss  valid_loss     metric\n",
      "0      9    0.511117     0.50962  1.2867225\n",
      "Training done\n"
     ]
    }
   ],
   "source": [
    "#!CUDA_VISIBLE_DEVICES=0 python train.py --config_name MATGRAPH"
   ]
  },
  {
   "cell_type": "code",
   "execution_count": null,
   "id": "79ee4cd1",
   "metadata": {},
   "outputs": [
    {
     "name": "stdout",
     "output_type": "stream",
     "text": [
      "Training with config: {'__module__': 'config', 'EXP_NAME': 'EXP_07', 'MODEL_NAME': <class 'icecube.models.IceCubeModelEncoderMATMasked'>, '__doc__': None}\n",
      "epoch     train_loss  valid_loss  val_metric\n",
      "/usr/local/lib/python3.8/dist-packages/datasets/arrow_dataset.py:1533: FutureWarning: 'fs' was is deprecated in favor of 'storage_options' in version 2.8.0 and will be removed in 3.0.0.\n",
      "You can remove this warning by passing 'storage_options=fs.storage_options' instead.\n",
      "  warnings.warn(\n",
      "/usr/local/lib/python3.8/dist-packages/datasets/arrow_dataset.py:1533: FutureWarning: 'fs' was is deprecated in favor of 'storage_options' in version 2.8.0 and will be removed in 3.0.0.\n",
      "You can remove this warning by passing 'storage_options=fs.storage_options' instead.\n",
      "  warnings.warn(\n"
     ]
    }
   ],
   "source": [
    "!CUDA_VISIBLE_DEVICES=0 python train.py --config_name MATGRAPHV2"
   ]
  },
  {
   "cell_type": "code",
   "execution_count": null,
   "id": "f5f9fdee",
   "metadata": {},
   "outputs": [],
   "source": []
  }
 ],
 "metadata": {
  "kernelspec": {
   "display_name": "Python 3 (ipykernel)",
   "language": "python",
   "name": "python3"
  },
  "language_info": {
   "codemirror_mode": {
    "name": "ipython",
    "version": 3
   },
   "file_extension": ".py",
   "mimetype": "text/x-python",
   "name": "python",
   "nbconvert_exporter": "python",
   "pygments_lexer": "ipython3",
   "version": "3.8.10"
  }
 },
 "nbformat": 4,
 "nbformat_minor": 5
}
