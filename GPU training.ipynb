{
 "cells": [
  {
   "cell_type": "code",
   "execution_count": null,
   "id": "a5ccf808",
   "metadata": {},
   "outputs": [
    {
     "name": "stdout",
     "output_type": "stream",
     "text": [
      "The following values were not passed to `accelerate launch` and had defaults used instead:\n",
      "\t`--num_processes` was set to a value of `1`\n",
      "\t`--num_machines` was set to a value of `1`\n",
      "\t`--dynamo_backend` was set to a value of `'no'`\n",
      "To avoid this warning pass in values for each of the problematic parameters or run `accelerate config`.\n",
      "Training with config: {'__module__': 'config', 'EXP_NAME': 'EXP_02', 'DEVICE': 'cuda:0', 'MODEL_NAME': <class 'icecube.models.IceCubeModelEncoderV0'>, 'TRN_DATASET': <class 'icecube.dataset.IceCubeCasheDatasetV0'>, 'VAL_DATASET': <class 'icecube.dataset.IceCubeCasheDatasetV0'>, 'BATCH_SIZE': 768, 'NUM_WORKERS': 20, 'LOSS_FUNC': <class 'icecube.models.LogCoshLoss'>, '__doc__': None}\n",
      "epoch     train_loss  valid_loss  val_metric\n",
      "cuda\n",
      "Epoch 1/10 : |██████████----------| 50.34% [12324/24480 24:25<24:05]\r"
     ]
    }
   ],
   "source": [
    "!accelerate launch --mixed_precision fp16 ./train_accel.py --config_name EXP_02"
   ]
  },
  {
   "cell_type": "code",
   "execution_count": null,
   "id": "3fbdee5c",
   "metadata": {},
   "outputs": [],
   "source": []
  }
 ],
 "metadata": {
  "kernelspec": {
   "display_name": "Python 3 (ipykernel)",
   "language": "python",
   "name": "python3"
  },
  "language_info": {
   "codemirror_mode": {
    "name": "ipython",
    "version": 3
   },
   "file_extension": ".py",
   "mimetype": "text/x-python",
   "name": "python",
   "nbconvert_exporter": "python",
   "pygments_lexer": "ipython3",
   "version": "3.8.10"
  }
 },
 "nbformat": 4,
 "nbformat_minor": 5
}
