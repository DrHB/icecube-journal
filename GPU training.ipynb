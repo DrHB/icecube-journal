{
 "cells": [
  {
   "cell_type": "code",
   "execution_count": null,
   "id": "39bbeaea-16f6-4419-a43e-8ceb8de0526a",
   "metadata": {},
   "outputs": [],
   "source": []
  },
  {
   "cell_type": "code",
   "execution_count": null,
   "id": "cc17aeb5-65b2-4ae7-a7eb-63b05a8651f6",
   "metadata": {},
   "outputs": [],
   "source": [
    "    "
   ]
  },
  {
   "cell_type": "code",
   "execution_count": null,
   "id": "1d2663b7-965e-4f1b-b95f-8f4e05e61b71",
   "metadata": {},
   "outputs": [],
   "source": [
    "kaggle competitions download -c \n",
    "done\n",
    "help_outline\n"
   ]
  },
  {
   "cell_type": "code",
   "execution_count": null,
   "id": "ae356784-de06-4466-b51a-c657b1cdf739",
   "metadata": {},
   "outputs": [],
   "source": []
  },
  {
   "cell_type": "code",
   "execution_count": null,
   "id": "01c97845-41fb-45b4-9b6e-6d100d0adb3e",
   "metadata": {},
   "outputs": [],
   "source": []
  }
 ],
 "metadata": {
  "kernelspec": {
   "display_name": "Python 3 (ipykernel)",
   "language": "python",
   "name": "python3"
  },
  "language_info": {
   "codemirror_mode": {
    "name": "ipython",
    "version": 3
   },
   "file_extension": ".py",
   "mimetype": "text/x-python",
   "name": "python",
   "nbconvert_exporter": "python",
   "pygments_lexer": "ipython3",
   "version": "3.7.12"
  },
  "vscode": {
   "interpreter": {
    "hash": "d4d1e4263499bec80672ea0156c357c1ee493ec2b1c70f0acce89fc37c4a6abe"
   }
  },
  "widgets": {
   "application/vnd.jupyter.widget-state+json": {
    "state": {},
    "version_major": 2,
    "version_minor": 0
   }
  }
 },
 "nbformat": 4,
 "nbformat_minor": 5
}
