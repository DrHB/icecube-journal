{
 "cells": [
  {
   "cell_type": "code",
   "execution_count": 1,
   "id": "a463ee17",
   "metadata": {},
   "outputs": [],
   "source": [
    "#!accelerate launch --mixed_precision fp16 ./train_accel.py --config_name EXP_02"
   ]
  },
  {
   "cell_type": "code",
   "execution_count": 2,
   "id": "e55fb2f9",
   "metadata": {},
   "outputs": [],
   "source": [
    "# !CUDA_VISIBLE_DEVICES=0 python train.py --config_name BASELINE_HF_V1"
   ]
  },
  {
   "cell_type": "code",
   "execution_count": 3,
   "id": "adfc1c3f",
   "metadata": {},
   "outputs": [],
   "source": [
    "#!CUDA_VISIBLE_DEVICES=0 python train.py --config_name BASELINE_HF_V2"
   ]
  },
  {
   "cell_type": "code",
   "execution_count": 4,
   "id": "eac1b9ea",
   "metadata": {},
   "outputs": [],
   "source": [
    "# !CUDA_VISIBLE_DEVICES=0 python train.py --config_name BASELINE_EMBED_V0"
   ]
  },
  {
   "cell_type": "code",
   "execution_count": 5,
   "id": "e0a3ee57",
   "metadata": {},
   "outputs": [],
   "source": [
    "#!CUDA_VISIBLE_DEVICES=0 python train.py --config_name BASELINE_EMBED_V1"
   ]
  },
  {
   "cell_type": "code",
   "execution_count": 6,
   "id": "04a2411b",
   "metadata": {},
   "outputs": [],
   "source": [
    "#!CUDA_VISIBLE_DEVICES=0 python train.py --config_name BASELINE_EMBED_V2"
   ]
  },
  {
   "cell_type": "code",
   "execution_count": 7,
   "id": "2bb6efbb",
   "metadata": {},
   "outputs": [],
   "source": [
    "#!CUDA_VISIBLE_DEVICES=0 python train.py --config_name MATGRAPH"
   ]
  },
  {
   "cell_type": "code",
   "execution_count": 8,
   "id": "b50a7b46",
   "metadata": {},
   "outputs": [],
   "source": [
    "#!CUDA_VISIBLE_DEVICES=0 python train.py --config_name MATGRAPHV2"
   ]
  },
  {
   "cell_type": "code",
   "execution_count": 9,
   "id": "8460a4b0",
   "metadata": {},
   "outputs": [],
   "source": [
    "#!CUDA_VISIBLE_DEVICES=0 python train.py --config_name BASELINE_EMBED_V3"
   ]
  },
  {
   "cell_type": "code",
   "execution_count": 10,
   "id": "68f2ef11",
   "metadata": {},
   "outputs": [],
   "source": [
    "#!CUDA_VISIBLE_DEVICES=0 python train.py --config_name BASELINE_EMBED_V5"
   ]
  },
  {
   "cell_type": "code",
   "execution_count": 11,
   "id": "7387fd24",
   "metadata": {},
   "outputs": [],
   "source": [
    "#!CUDA_VISIBLE_DEVICES=0 python train.py --config_name BASELINE_HF_V5"
   ]
  },
  {
   "cell_type": "code",
   "execution_count": 12,
   "id": "7c1ddc5d",
   "metadata": {},
   "outputs": [],
   "source": [
    "#!CUDA_VISIBLE_DEVICES=1 python train.py --config_name BASELINE_HF_V6"
   ]
  },
  {
   "cell_type": "code",
   "execution_count": 13,
   "id": "0efade63",
   "metadata": {},
   "outputs": [],
   "source": [
    "#!CUDA_VISIBLE_DEVICES=1 python train.py --config_name BASELINE_HF_V7"
   ]
  },
  {
   "cell_type": "code",
   "execution_count": 14,
   "id": "f6d78e1f-0269-442e-98ab-487f868851c8",
   "metadata": {},
   "outputs": [],
   "source": [
    "#!CUDA_VISIBLE_DEVICES=1 python train.py --config_name BASELINE_HF_V8"
   ]
  },
  {
   "cell_type": "code",
   "execution_count": 15,
   "id": "9b10e564-20ed-4d96-b4bd-74161784bf53",
   "metadata": {},
   "outputs": [],
   "source": [
    "#!CUDA_VISIBLE_DEVICES=1 python train.py --config_name BASELINE_HF_V9"
   ]
  },
  {
   "cell_type": "code",
   "execution_count": 16,
   "id": "e5a0b32e-3791-4253-b979-dc4163ae3ab3",
   "metadata": {},
   "outputs": [],
   "source": [
    "#!CUDA_VISIBLE_DEVICES=1 python eval.py --config_name BASELINE_HF_V8FTEVAL"
   ]
  },
  {
   "cell_type": "code",
   "execution_count": 17,
   "id": "26bedb23-c4cc-49d2-9cb0-2a4342a70d40",
   "metadata": {},
   "outputs": [],
   "source": [
    "# def set_gpu_environ():\n",
    "#     \"\"\"Sets CUDA_VISIBLE_DEVICES to those under minimal memory load.\n",
    "#     Meant to be used in notebooks only.\n",
    "#     \"\"\"\n",
    "#     import os\n",
    "#     import subprocess\n",
    "#     query = subprocess.check_output(['nvidia-smi', '--query-gpu=memory.used', '--format=csv']).decode().split('\\n')[1:-1]\n",
    "#     utilization = [int(x.replace(\" MiB\", \"\")) for x in query]\n",
    "#     free = [i for i in range(len(utilization)) if utilization[i] == min(utilization)]\n",
    "#     set_visible = \",\".join([str(i) for i in free])\n",
    "#     os.environ[\"CUDA_VISIBLE_DEVICES\"] = set_visible\n",
    "# set_gpu_environ()"
   ]
  },
  {
   "cell_type": "code",
   "execution_count": 18,
   "id": "cf265c11-0f95-421b-8b04-658abdd7f78d",
   "metadata": {},
   "outputs": [
    {
     "name": "stderr",
     "output_type": "stream",
     "text": [
      "/opt/conda/lib/python3.7/site-packages/torchvision/io/image.py:13: UserWarning: Failed to load image Python extension: /opt/conda/lib/python3.7/site-packages/torchvision/image.so: undefined symbol: _ZN5torch3jit17parseSchemaOrNameERKNSt7__cxx1112basic_stringIcSt11char_traitsIcESaIcEEE\n",
      "  warn(f\"Failed to load image Python extension: {e}\")\n"
     ]
    },
    {
     "name": "stdout",
     "output_type": "stream",
     "text": [
      "\u001b[1;34mgraphnet\u001b[0m: \u001b[32mINFO    \u001b[0m 2023-02-26 18:20:52 - get_logger - Writing log to \u001b[1mlogs/graphnet_20230226-182052.log\u001b[0m\n"
     ]
    }
   ],
   "source": [
    "import os\n",
    "import random\n",
    "import numpy as np\n",
    "import torch\n",
    "import config\n",
    "\n",
    "def seed(seed=0):\n",
    "    random.seed(seed)\n",
    "    np.random.seed(seed)\n",
    "    torch.manual_seed(seed)\n",
    "    torch.cuda.manual_seed(seed)\n",
    "    torch.cuda.manual_seed_all(seed)\n",
    "    torch.backends.cudnn.deterministic = True\n",
    "    torch.backends.cudnn.benchmark = False\n",
    "    \n",
    "\n",
    "def train(cfg):\n",
    "    seed()\n",
    "    custom_model = cfg.MODEL_NAME()\n",
    "    if cfg.MODEL_WTS:\n",
    "        print(f\"Loading model weights from {cfg.MODEL_WTS}\")\n",
    "        custom_model.load_state_dict(torch.load(cfg.MODEL_WTS))\n",
    "    opt = cfg.OPT(\n",
    "        custom_model.parameters(), lr=cfg.LR, weight_decay=cfg.WD\n",
    "    )\n",
    "    loss_func = cfg.LOSS_FUNC()\n",
    "    scheduler = cfg.SCHEDULER(\n",
    "        opt,\n",
    "        num_warmup_steps=cfg.WARM_UP_PCT * cfg.EPOCHS,\n",
    "        num_training_steps=cfg.EPOCHS,\n",
    "    )\n",
    "\n",
    "\n",
    "\n",
    "    cfg.FIT_FUNC(\n",
    "        epochs=cfg.EPOCHS,\n",
    "        model=custom_model,\n",
    "        loss_fn=loss_func,\n",
    "        opt=opt,\n",
    "        metric=cfg.METRIC,\n",
    "        config = cfg,\n",
    "        folder=cfg.FOLDER/cfg.EXP_NAME,\n",
    "        exp_name=f\"{cfg.EXP_NAME}\",\n",
    "        device=cfg.DEVICE,\n",
    "        sched=scheduler,\n",
    "    )\n",
    "    \n",
    "def main(config_name):\n",
    "    configs = eval(f\"config.{config_name}\")\n",
    "    print(f\"Training with config: {configs.__dict__}\")\n",
    "    os.makedirs(configs.FOLDER/configs.EXP_NAME)\n",
    "    train(configs)"
   ]
  },
  {
   "cell_type": "code",
   "execution_count": null,
   "id": "ec2d8352-19bd-4cba-90cd-85cb0bc1c7f9",
   "metadata": {},
   "outputs": [],
   "source": [
    "main('BASELINE_graph_V8_FT_3')"
   ]
  },
  {
   "cell_type": "code",
   "execution_count": null,
   "id": "41104639-4650-4d02-9ffd-c04ea585b95d",
   "metadata": {},
   "outputs": [],
   "source": [
    "torch.cuda.current_device()"
   ]
  },
  {
   "cell_type": "code",
   "execution_count": null,
   "id": "eaae79eb-abca-4172-8fff-3fb172a2d5f6",
   "metadata": {},
   "outputs": [],
   "source": [
    "k"
   ]
  },
  {
   "cell_type": "code",
   "execution_count": null,
   "id": "9491cd49-d8e9-4d0a-821e-ec948fc72cac",
   "metadata": {},
   "outputs": [],
   "source": [
    "k"
   ]
  },
  {
   "cell_type": "code",
   "execution_count": null,
   "id": "1d0158ab-7f40-4539-81cd-2ba8b7d2a25e",
   "metadata": {},
   "outputs": [],
   "source": []
  }
 ],
 "metadata": {
  "kernelspec": {
   "display_name": "Python 3 (ipykernel)",
   "language": "python",
   "name": "python3"
  },
  "language_info": {
   "codemirror_mode": {
    "name": "ipython",
    "version": 3
   },
   "file_extension": ".py",
   "mimetype": "text/x-python",
   "name": "python",
   "nbconvert_exporter": "python",
   "pygments_lexer": "ipython3",
   "version": "3.7.12"
  },
  "vscode": {
   "interpreter": {
    "hash": "d4d1e4263499bec80672ea0156c357c1ee493ec2b1c70f0acce89fc37c4a6abe"
   }
  },
  "widgets": {
   "application/vnd.jupyter.widget-state+json": {
    "state": {},
    "version_major": 2,
    "version_minor": 0
   }
  }
 },
 "nbformat": 4,
 "nbformat_minor": 5
}
