{
 "cells": [
  {
   "cell_type": "code",
   "execution_count": 1,
   "metadata": {},
   "outputs": [
    {
     "name": "stderr",
     "output_type": "stream",
     "text": [
      "/opt/conda/lib/python3.7/site-packages/torchvision/io/image.py:13: UserWarning: Failed to load image Python extension: /opt/conda/lib/python3.7/site-packages/torchvision/image.so: undefined symbol: _ZN5torch3jit17parseSchemaOrNameERKNSt7__cxx1112basic_stringIcSt11char_traitsIcESaIcEEE\n",
      "  warn(f\"Failed to load image Python extension: {e}\")\n"
     ]
    },
    {
     "name": "stdout",
     "output_type": "stream",
     "text": [
      "\u001b[1;34mgraphnet\u001b[0m: \u001b[32mINFO    \u001b[0m 2023-03-09 13:06:00 - get_logger - Writing log to \u001b[1mlogs/graphnet_20230309-130600.log\u001b[0m\n"
     ]
    }
   ],
   "source": [
    "import sys\n",
    "sys.path.append('/opt/slh/icecube/')\n",
    "import os\n",
    "import time\n",
    "import math\n",
    "import pickle\n",
    "from contextlib import nullcontext\n",
    "from transformers.optimization import get_cosine_schedule_with_warmup\n",
    "import numpy as np\n",
    "import torch\n",
    "from torch.nn.parallel import DistributedDataParallel as DDP\n",
    "from torch.distributed import init_process_group, destroy_process_group\n",
    "from icecube.modelsgraph import DynEdgeV1, gVonMisesFisher3DLoss\n",
    "from icecube.graphdataset import GraphDasetV0\n",
    "from icecube.utils import gget_score_vector\n",
    "from pathlib import Path\n",
    "from datasets import load_dataset, load_from_disk, concatenate_datasets\n",
    "from torch_geometric.loader import DataLoader as gDataLoader\n",
    "import random\n",
    "import os\n",
    "import pandas as pd\n",
    "from tqdm import tqdm\n",
    "import pytorch_lightning as pl\n",
    "from pytorch_lightning.loggers import WandbLogger\n",
    "from pytorch_lightning.callbacks import ModelCheckpoint, LearningRateMonitor\n"
   ]
  },
  {
   "cell_type": "code",
   "execution_count": 2,
   "metadata": {},
   "outputs": [],
   "source": [
    "class IceCubeModel(pl.LightningModule):\n",
    "    def __init__(\n",
    "        self,\n",
    "        model_name, \n",
    "        loss_func, \n",
    "        metric_func,\n",
    "        dl_len,\n",
    "        max_lr, \n",
    "        wd, \n",
    "        beta_1, \n",
    "        beta_2,\n",
    "        **kwargs,\n",
    "    ):\n",
    "        super().__init__()\n",
    "        self.save_hyperparameters()\n",
    "        self.model = model_name()\n",
    "        self.loss_func = loss_func()\n",
    "        self.metric_func = metric_func\n",
    "\n",
    "    def forward(self, batch):\n",
    "        out = self.model(batch)\n",
    "        return out\n",
    "    \n",
    "    def training_step(self, batch, batch_idx):\n",
    "        out = self.forward(batch)\n",
    "        loss = self.loss_func(out, batch.y)\n",
    "        self.log_dict({\"loss/train_step\": loss})\n",
    "        return {\"loss\": loss}\n",
    "\n",
    "    def training_epoch_end(self, training_step_outputs):\n",
    "        avg_loss = torch.stack([x[\"loss\"] for x in training_step_outputs]).mean()\n",
    "        self.log(\"loss/train\", avg_loss, sync_dist=True)\n",
    "\n",
    "\n",
    "    def validation_step(self, batch, batch_idx):\n",
    "        out = self.forward(batch)\n",
    "        loss = self.loss_func(out, batch.y)\n",
    "        score = self.metric_func(out, batch.y)\n",
    "\n",
    "        output = {\n",
    "            \"val_loss\": loss,\n",
    "            \"metric\": torch.tensor(score),\n",
    "        }\n",
    "\n",
    "        return output\n",
    "\n",
    "    def validation_epoch_end(self, outputs):\n",
    "        loss_val = torch.stack([x[\"val_loss\"] for x in outputs]).mean()\n",
    "        metric = torch.stack([x[\"metric\"] for x in outputs]).mean()\n",
    "\n",
    "        self.log_dict(\n",
    "            {\"loss/valid\": loss_val, \"metric\": metric},\n",
    "            prog_bar=True,\n",
    "            sync_dist=True,\n",
    "        )\n",
    "    def configure_optimizers(self):\n",
    "        optimizer = torch.optim.AdamW(self.model.parameters(),\n",
    "                                  lr=self.hparams.max_lr, \n",
    "                                  weight_decay=self.hparams.wd, \n",
    "                                  betas=(self.hparams.beta_1, self.hparams.beta_2))\n",
    "\n",
    "\n",
    "        scheduler = get_cosine_schedule_with_warmup(\n",
    "                optimizer,\n",
    "                num_warmup_steps=1000,\n",
    "                num_training_steps=self.hparams.dl_len,\n",
    "                )\n",
    "\n",
    "        return {\n",
    "            \"optimizer\": optimizer,\n",
    "            \"lr_scheduler\": {\"scheduler\": scheduler, \"interval\": \"step\", \"frequency\": 1},\n",
    "        }\n",
    "\n"
   ]
  },
  {
   "cell_type": "code",
   "execution_count": 3,
   "metadata": {},
   "outputs": [],
   "source": [
    "class config:\n",
    "    FOLDER = Path('/opt/slh/icecube/RESULTS')\n",
    "    DATA_CACHE_DIR = Path(\"/opt/slh/icecube/data/hf_cashe\")\n",
    "    EXP_NAME = \"EXP_40_ACCELERATE_FT\"\n",
    "    TRN_BATCH_RANGE = (1, 650)\n",
    "    VAL_BATCH_RANGE = (655, 656)\n",
    "    METRIC = gget_score_vector\n",
    "    TRN_DATASET = GraphDasetV0\n",
    "    VAL_DATASET = GraphDasetV0\n",
    "    BATCH_SIZE = 1024\n",
    "    NUM_WORKERS = 22\n",
    "    PRESISTENT_WORKERS = True\n",
    "    LOSS_FUNC = gVonMisesFisher3DLoss\n",
    "    MAX_LR = 6e-4\n",
    "    WD = 0.1\n",
    "    GRADIEN_ACCUMULATION_STEPS = 12\n",
    "    WARMUP_STEPS = 1000\n",
    "    BETA1 = 0.9\n",
    "    BETA2= 0.95\n",
    "    MODEL = DynEdgeV1\n",
    "    SCHEDULER = get_cosine_schedule_with_warmup\n",
    "    \n",
    "vld_pth = [\n",
    "        load_from_disk(config.DATA_CACHE_DIR / f\"batch_{i}.parquet\")\n",
    "        for i in range(config.VAL_BATCH_RANGE[0], config.VAL_BATCH_RANGE[1])\n",
    "    ]\n",
    "vld_pth = concatenate_datasets(vld_pth)\n",
    "vld_ds = config.VAL_DATASET(vld_pth)\n",
    "valid_dl = gDataLoader(\n",
    "        vld_ds,\n",
    "        batch_size=config.BATCH_SIZE,\n",
    "        shuffle=False,\n",
    "        num_workers=config.NUM_WORKERS,\n",
    "        pin_memory=True,\n",
    "        persistent_workers=config.PRESISTENT_WORKERS,\n",
    "    )\n",
    "nums = [i for i in range(config.TRN_BATCH_RANGE[0], config.TRN_BATCH_RANGE[1])]\n",
    "random.shuffle(nums)\n",
    "trn_pth = [\n",
    "                load_from_disk(config.DATA_CACHE_DIR / f\"batch_{i}.parquet\") for i in nums\n",
    "            ]\n",
    "trn_pth = concatenate_datasets(trn_pth)\n",
    "trn_ds = config.TRN_DATASET(trn_pth)\n",
    "train_dl = gDataLoader(\n",
    "            trn_ds,\n",
    "            batch_size=config.BATCH_SIZE,\n",
    "            shuffle=False,\n",
    "            num_workers=config.NUM_WORKERS,\n",
    "            pin_memory=True,\n",
    "            persistent_workers=config.PRESISTENT_WORKERS,\n",
    "        )\n",
    "\n",
    "dl_len = len(train_dl)// config.GRADIEN_ACCUMULATION_STEPS\n",
    "\n",
    "\n"
   ]
  },
  {
   "cell_type": "code",
   "execution_count": 4,
   "metadata": {},
   "outputs": [
    {
     "data": {
      "text/plain": [
       "10563"
      ]
     },
     "execution_count": 4,
     "metadata": {},
     "output_type": "execute_result"
    }
   ],
   "source": [
    "dl_len"
   ]
  },
  {
   "cell_type": "code",
   "execution_count": 5,
   "metadata": {},
   "outputs": [
    {
     "data": {
      "text/plain": [
       "<All keys matched successfully>"
      ]
     },
     "execution_count": 5,
     "metadata": {},
     "output_type": "execute_result"
    }
   ],
   "source": [
    "md = IceCubeModel(model_name = config.MODEL, \n",
    "                  loss_func = config.LOSS_FUNC,\n",
    "                  metric_func = config.METRIC, \n",
    "                  dl_len = dl_len,\n",
    "                  max_lr = config.MAX_LR, \n",
    "                  wd = config.WD, \n",
    "                  beta_1 = config.BETA1,\n",
    "                  beta_2 = config.BETA2)\n",
    "md.model.load_state_dict(torch.load('/opt/slh/icecube/RESULTS/EXP_25_FT/EXP_25_FT_2.pth'))\n",
    "#md.load_from_checkpoint(\"\");"
   ]
  },
  {
   "cell_type": "code",
   "execution_count": null,
   "metadata": {},
   "outputs": [
    {
     "name": "stderr",
     "output_type": "stream",
     "text": [
      "\u001b[34m\u001b[1mwandb\u001b[0m: Currently logged in as: \u001b[33mdrhb\u001b[0m (\u001b[33mkaggle-hi\u001b[0m). Use \u001b[1m`wandb login --relogin`\u001b[0m to force relogin\n"
     ]
    },
    {
     "data": {
      "text/html": [
       "wandb version 0.13.11 is available!  To upgrade, please run:\n",
       " $ pip install wandb --upgrade"
      ],
      "text/plain": [
       "<IPython.core.display.HTML object>"
      ]
     },
     "metadata": {},
     "output_type": "display_data"
    },
    {
     "data": {
      "text/html": [
       "Tracking run with wandb version 0.12.21"
      ],
      "text/plain": [
       "<IPython.core.display.HTML object>"
      ]
     },
     "metadata": {},
     "output_type": "display_data"
    },
    {
     "data": {
      "text/html": [
       "Run data is saved locally in <code>./wandb/run-20230309_131218-dzcdgyik</code>"
      ],
      "text/plain": [
       "<IPython.core.display.HTML object>"
      ]
     },
     "metadata": {},
     "output_type": "display_data"
    },
    {
     "data": {
      "text/html": [
       "Syncing run <strong><a href=\"https://wandb.ai/kaggle-hi/ice/runs/dzcdgyik\" target=\"_blank\">EXP_40_ACCELERATE_FT</a></strong> to <a href=\"https://wandb.ai/kaggle-hi/ice\" target=\"_blank\">Weights & Biases</a> (<a href=\"https://wandb.me/run\" target=\"_blank\">docs</a>)<br/>"
      ],
      "text/plain": [
       "<IPython.core.display.HTML object>"
      ]
     },
     "metadata": {},
     "output_type": "display_data"
    },
    {
     "name": "stderr",
     "output_type": "stream",
     "text": [
      "/opt/conda/lib/python3.7/site-packages/pytorch_lightning/callbacks/model_checkpoint.py:612: UserWarning: Checkpoint directory /opt/slh/icecube/RESULTS/EXP_40_ACCELERATE_FT exists and is not empty.\n",
      "  rank_zero_warn(f\"Checkpoint directory {dirpath} exists and is not empty.\")\n"
     ]
    },
    {
     "data": {
      "application/vnd.jupyter.widget-view+json": {
       "model_id": "",
       "version_major": 2,
       "version_minor": 0
      },
      "text/plain": [
       "Sanity Checking: 0it [00:00, ?it/s]"
      ]
     },
     "metadata": {},
     "output_type": "display_data"
    },
    {
     "data": {
      "application/vnd.jupyter.widget-view+json": {
       "model_id": "2560e269fe0244ae9d8190950a4da60b",
       "version_major": 2,
       "version_minor": 0
      },
      "text/plain": [
       "Training: 0it [00:00, ?it/s]"
      ]
     },
     "metadata": {},
     "output_type": "display_data"
    },
    {
     "data": {
      "application/vnd.jupyter.widget-view+json": {
       "model_id": "",
       "version_major": 2,
       "version_minor": 0
      },
      "text/plain": [
       "Validation: 0it [00:00, ?it/s]"
      ]
     },
     "metadata": {},
     "output_type": "display_data"
    }
   ],
   "source": [
    "\n",
    "\n",
    "wandb_logger = WandbLogger(project=\"ice\",\n",
    "         entity=\"kaggle-hi\",\n",
    "         name=config.EXP_NAME)\n",
    "\n",
    "chekpoint_callback = ModelCheckpoint(dirpath = config.FOLDER / config.EXP_NAME, \n",
    "                filename = \"{epoch:02d}-{metric:.4f}\", \n",
    "                monitor=\"metric\",\n",
    "                save_top_k=8, \n",
    "                save_last=True,\n",
    "                )\n",
    "\n",
    "lr_monitor = LearningRateMonitor(logging_interval='step')\n",
    "\n",
    "trainer = pl.Trainer(max_epochs=1, \n",
    "                    accelerator='gpu', \n",
    "                    devices=1,\n",
    "                    precision=16, \n",
    "                    accumulate_grad_batches=config.GRADIEN_ACCUMULATION_STEPS,\n",
    "                    gradient_clip_val=1.0,\n",
    "                    val_check_interval=len(train_dl)//8, \n",
    "                    logger=wandb_logger,\n",
    "                    callbacks=[chekpoint_callback, lr_monitor])\n",
    "\n",
    "trainer.fit(model=md, train_dataloaders = train_dl, val_dataloaders = valid_dl)"
   ]
  },
  {
   "cell_type": "code",
   "execution_count": null,
   "metadata": {},
   "outputs": [],
   "source": []
  }
 ],
 "metadata": {
  "kernelspec": {
   "display_name": "Python 3 (ipykernel)",
   "language": "python",
   "name": "python3"
  },
  "language_info": {
   "codemirror_mode": {
    "name": "ipython",
    "version": 3
   },
   "file_extension": ".py",
   "mimetype": "text/x-python",
   "name": "python",
   "nbconvert_exporter": "python",
   "pygments_lexer": "ipython3",
   "version": "3.7.12"
  },
  "widgets": {
   "application/vnd.jupyter.widget-state+json": {
    "state": {
     "07ccc0fa34f14390adf3c0f03531d35f": {
      "model_module": "@jupyter-widgets/controls",
      "model_module_version": "1.5.0",
      "model_name": "DescriptionStyleModel",
      "state": {
       "description_width": ""
      }
     },
     "0f1771543abb4139b3b5d87eea6be610": {
      "model_module": "@jupyter-widgets/controls",
      "model_module_version": "1.5.0",
      "model_name": "FloatProgressModel",
      "state": {
       "layout": "IPY_MODEL_950206dfdead4dbfa66d82698f369793",
       "max": 2,
       "style": "IPY_MODEL_758bfd9afa3c4a6e902a1a7d4f2af906",
       "value": 2
      }
     },
     "13263b99499748e5af05774b1731390c": {
      "model_module": "@jupyter-widgets/controls",
      "model_module_version": "1.5.0",
      "model_name": "HTMLModel",
      "state": {
       "layout": "IPY_MODEL_b4ffdabfa53f4cc4a0f90662eaf34fd1",
       "style": "IPY_MODEL_49ee5a1cb5bb45c59b899636dad1b75b",
       "value": "Sanity Checking DataLoader 0: 100%"
      }
     },
     "14e99c0a83894ff288800e4f5550e6f9": {
      "model_module": "@jupyter-widgets/base",
      "model_module_version": "1.2.0",
      "model_name": "LayoutModel",
      "state": {}
     },
     "1cdae2cab9a641b081a7f3edc89722c9": {
      "model_module": "@jupyter-widgets/base",
      "model_module_version": "1.2.0",
      "model_name": "LayoutModel",
      "state": {}
     },
     "1fb7f53990d44c69950a1b9cdc8768eb": {
      "model_module": "@jupyter-widgets/controls",
      "model_module_version": "1.5.0",
      "model_name": "LabelModel",
      "state": {
       "layout": "IPY_MODEL_43aaa3ac50d846a7993177a855f62dad",
       "style": "IPY_MODEL_07ccc0fa34f14390adf3c0f03531d35f"
      }
     },
     "2560e269fe0244ae9d8190950a4da60b": {
      "model_module": "@jupyter-widgets/controls",
      "model_module_version": "1.5.0",
      "model_name": "HBoxModel",
      "state": {
       "children": [
        "IPY_MODEL_b70f67be4dc64c1aa17d53dcadc9cf77",
        "IPY_MODEL_59545f23f67d40b08300ff619dccfec0",
        "IPY_MODEL_6dda1ba6598f4e44958ba9228da4e8cd"
       ],
       "layout": "IPY_MODEL_9c6bd17a02b04ccc9888958a4c17476e"
      }
     },
     "43aaa3ac50d846a7993177a855f62dad": {
      "model_module": "@jupyter-widgets/base",
      "model_module_version": "1.2.0",
      "model_name": "LayoutModel",
      "state": {}
     },
     "49ee5a1cb5bb45c59b899636dad1b75b": {
      "model_module": "@jupyter-widgets/controls",
      "model_module_version": "1.5.0",
      "model_name": "DescriptionStyleModel",
      "state": {
       "description_width": ""
      }
     },
     "4c3df72021a74b69afb599b78fd05d96": {
      "model_module": "@jupyter-widgets/base",
      "model_module_version": "1.2.0",
      "model_name": "LayoutModel",
      "state": {
       "display": "inline-flex",
       "flex_flow": "row wrap",
       "width": "100%"
      }
     },
     "59545f23f67d40b08300ff619dccfec0": {
      "model_module": "@jupyter-widgets/controls",
      "model_module_version": "1.5.0",
      "model_name": "FloatProgressModel",
      "state": {
       "layout": "IPY_MODEL_5ac7718335a24a36a8de05d95a8b1a46",
       "max": 128326,
       "style": "IPY_MODEL_c686b9b7301c448ea471e650c3b7fa6a",
       "value": 16058
      }
     },
     "5ac7718335a24a36a8de05d95a8b1a46": {
      "model_module": "@jupyter-widgets/base",
      "model_module_version": "1.2.0",
      "model_name": "LayoutModel",
      "state": {
       "flex": "2"
      }
     },
     "60977140592745109531ea59ce3a1fd4": {
      "model_module": "@jupyter-widgets/controls",
      "model_module_version": "1.5.0",
      "model_name": "HTMLModel",
      "state": {
       "layout": "IPY_MODEL_eb4cb5d5495b4c358d3231eaae205c27",
       "style": "IPY_MODEL_b9f525a11fa7471aaaf00f38aa864afc",
       "value": " 196/196 [00:47&lt;00:00,  4.13it/s]"
      }
     },
     "672534b0b2cd49429cec95976847bea0": {
      "model_module": "@jupyter-widgets/controls",
      "model_module_version": "1.5.0",
      "model_name": "DescriptionStyleModel",
      "state": {
       "description_width": ""
      }
     },
     "6a1567b9fdd04449bfe9959b2b5a159b": {
      "model_module": "@jupyter-widgets/base",
      "model_module_version": "1.2.0",
      "model_name": "LayoutModel",
      "state": {}
     },
     "6dc65db22cb2427cba3e78a375d635f1": {
      "model_module": "@jupyter-widgets/controls",
      "model_module_version": "1.5.0",
      "model_name": "FloatProgressModel",
      "state": {
       "layout": "IPY_MODEL_c1f4d7598bde41b986926c18539a653b",
       "max": 1,
       "style": "IPY_MODEL_a445fdbbe96e4614a2fb7e13b89a5f53"
      }
     },
     "6dda1ba6598f4e44958ba9228da4e8cd": {
      "model_module": "@jupyter-widgets/controls",
      "model_module_version": "1.5.0",
      "model_name": "HTMLModel",
      "state": {
       "layout": "IPY_MODEL_a86b8af0361b49c6bfc10abf39ea6678",
       "style": "IPY_MODEL_e0c52b9209ed495f8c8720c347e89086",
       "value": " 16058/128326 [1:07:28&lt;7:51:42,  3.97it/s, loss=1.46, v_num=gyik, loss/valid=1.470, metric=1.030]"
      }
     },
     "758bfd9afa3c4a6e902a1a7d4f2af906": {
      "model_module": "@jupyter-widgets/controls",
      "model_module_version": "1.5.0",
      "model_name": "ProgressStyleModel",
      "state": {
       "description_width": ""
      }
     },
     "867bc9aebf97439bb41621ba447a9b05": {
      "model_module": "@jupyter-widgets/base",
      "model_module_version": "1.2.0",
      "model_name": "LayoutModel",
      "state": {
       "display": "inline-flex",
       "flex_flow": "row wrap",
       "width": "100%"
      }
     },
     "950206dfdead4dbfa66d82698f369793": {
      "model_module": "@jupyter-widgets/base",
      "model_module_version": "1.2.0",
      "model_name": "LayoutModel",
      "state": {
       "flex": "2"
      }
     },
     "9c6bd17a02b04ccc9888958a4c17476e": {
      "model_module": "@jupyter-widgets/base",
      "model_module_version": "1.2.0",
      "model_name": "LayoutModel",
      "state": {
       "display": "inline-flex",
       "flex_flow": "row wrap",
       "width": "100%"
      }
     },
     "a445fdbbe96e4614a2fb7e13b89a5f53": {
      "model_module": "@jupyter-widgets/controls",
      "model_module_version": "1.5.0",
      "model_name": "ProgressStyleModel",
      "state": {
       "description_width": ""
      }
     },
     "a676a49026724e96ad3ee15265fef040": {
      "model_module": "@jupyter-widgets/base",
      "model_module_version": "1.2.0",
      "model_name": "LayoutModel",
      "state": {}
     },
     "a86b8af0361b49c6bfc10abf39ea6678": {
      "model_module": "@jupyter-widgets/base",
      "model_module_version": "1.2.0",
      "model_name": "LayoutModel",
      "state": {}
     },
     "b4ffdabfa53f4cc4a0f90662eaf34fd1": {
      "model_module": "@jupyter-widgets/base",
      "model_module_version": "1.2.0",
      "model_name": "LayoutModel",
      "state": {}
     },
     "b70f67be4dc64c1aa17d53dcadc9cf77": {
      "model_module": "@jupyter-widgets/controls",
      "model_module_version": "1.5.0",
      "model_name": "HTMLModel",
      "state": {
       "layout": "IPY_MODEL_6a1567b9fdd04449bfe9959b2b5a159b",
       "style": "IPY_MODEL_ff4a92c42aa84c45922501c596432d74",
       "value": "Epoch 0:  13%"
      }
     },
     "b9f525a11fa7471aaaf00f38aa864afc": {
      "model_module": "@jupyter-widgets/controls",
      "model_module_version": "1.5.0",
      "model_name": "DescriptionStyleModel",
      "state": {
       "description_width": ""
      }
     },
     "bf94176565d54d7bb5b85d9030297bd9": {
      "model_module": "@jupyter-widgets/controls",
      "model_module_version": "1.5.0",
      "model_name": "ProgressStyleModel",
      "state": {
       "description_width": ""
      }
     },
     "c1f4d7598bde41b986926c18539a653b": {
      "model_module": "@jupyter-widgets/base",
      "model_module_version": "1.2.0",
      "model_name": "LayoutModel",
      "state": {}
     },
     "c3cf7a3957cf41758c09ce5d6fd2219e": {
      "model_module": "@jupyter-widgets/base",
      "model_module_version": "1.2.0",
      "model_name": "LayoutModel",
      "state": {
       "flex": "2"
      }
     },
     "c4bab192f5b1428ea858fb6e0a7170f4": {
      "model_module": "@jupyter-widgets/controls",
      "model_module_version": "1.5.0",
      "model_name": "HTMLModel",
      "state": {
       "layout": "IPY_MODEL_14e99c0a83894ff288800e4f5550e6f9",
       "style": "IPY_MODEL_672534b0b2cd49429cec95976847bea0",
       "value": " 2/2 [00:00&lt;00:00,  4.60it/s]"
      }
     },
     "c686b9b7301c448ea471e650c3b7fa6a": {
      "model_module": "@jupyter-widgets/controls",
      "model_module_version": "1.5.0",
      "model_name": "ProgressStyleModel",
      "state": {
       "description_width": ""
      }
     },
     "c7db77e164444adf8960f8bf2b1f3598": {
      "model_module": "@jupyter-widgets/controls",
      "model_module_version": "1.5.0",
      "model_name": "VBoxModel",
      "state": {
       "children": [
        "IPY_MODEL_1fb7f53990d44c69950a1b9cdc8768eb",
        "IPY_MODEL_6dc65db22cb2427cba3e78a375d635f1"
       ],
       "layout": "IPY_MODEL_1cdae2cab9a641b081a7f3edc89722c9"
      }
     },
     "c88c6c73a2004ef8ac2a56bf7afce2bb": {
      "model_module": "@jupyter-widgets/controls",
      "model_module_version": "1.5.0",
      "model_name": "DescriptionStyleModel",
      "state": {
       "description_width": ""
      }
     },
     "e0c52b9209ed495f8c8720c347e89086": {
      "model_module": "@jupyter-widgets/controls",
      "model_module_version": "1.5.0",
      "model_name": "DescriptionStyleModel",
      "state": {
       "description_width": ""
      }
     },
     "eb4cb5d5495b4c358d3231eaae205c27": {
      "model_module": "@jupyter-widgets/base",
      "model_module_version": "1.2.0",
      "model_name": "LayoutModel",
      "state": {}
     },
     "eedf9a09367e4e94908935c01e8ad319": {
      "model_module": "@jupyter-widgets/controls",
      "model_module_version": "1.5.0",
      "model_name": "FloatProgressModel",
      "state": {
       "layout": "IPY_MODEL_c3cf7a3957cf41758c09ce5d6fd2219e",
       "max": 196,
       "style": "IPY_MODEL_bf94176565d54d7bb5b85d9030297bd9",
       "value": 196
      }
     },
     "f473a898dcb945b48572ca913cf554ac": {
      "model_module": "@jupyter-widgets/controls",
      "model_module_version": "1.5.0",
      "model_name": "HTMLModel",
      "state": {
       "layout": "IPY_MODEL_a676a49026724e96ad3ee15265fef040",
       "style": "IPY_MODEL_c88c6c73a2004ef8ac2a56bf7afce2bb",
       "value": "Validation DataLoader 0: 100%"
      }
     },
     "ff4a92c42aa84c45922501c596432d74": {
      "model_module": "@jupyter-widgets/controls",
      "model_module_version": "1.5.0",
      "model_name": "DescriptionStyleModel",
      "state": {
       "description_width": ""
      }
     }
    },
    "version_major": 2,
    "version_minor": 0
   }
  }
 },
 "nbformat": 4,
 "nbformat_minor": 4
}
