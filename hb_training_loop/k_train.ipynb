{
 "cells": [
  {
   "cell_type": "code",
   "execution_count": 1,
   "metadata": {},
   "outputs": [
    {
     "name": "stderr",
     "output_type": "stream",
     "text": [
      "/opt/conda/lib/python3.7/site-packages/torchvision/io/image.py:13: UserWarning: Failed to load image Python extension: /opt/conda/lib/python3.7/site-packages/torchvision/image.so: undefined symbol: _ZN5torch3jit17parseSchemaOrNameERKNSt7__cxx1112basic_stringIcSt11char_traitsIcESaIcEEE\n",
      "  warn(f\"Failed to load image Python extension: {e}\")\n"
     ]
    },
    {
     "name": "stdout",
     "output_type": "stream",
     "text": [
      "\u001b[1;34mgraphnet\u001b[0m: \u001b[32mINFO    \u001b[0m 2023-03-09 01:17:13 - get_logger - Writing log to \u001b[1mlogs/graphnet_20230309-011713.log\u001b[0m\n"
     ]
    }
   ],
   "source": [
    "import sys\n",
    "sys.path.append('/opt/slh/icecube/')\n",
    "import os\n",
    "import time\n",
    "import math\n",
    "import pickle\n",
    "from contextlib import nullcontext\n",
    "from transformers.optimization import get_cosine_schedule_with_warmup\n",
    "import numpy as np\n",
    "import torch\n",
    "from torch.nn.parallel import DistributedDataParallel as DDP\n",
    "from torch.distributed import init_process_group, destroy_process_group\n",
    "from icecube.modelsgraph import DynEdgeV1, gVonMisesFisher3DLoss\n",
    "from icecube.graphdataset import GraphDasetV0\n",
    "from icecube.utils import gget_score_vector\n",
    "from pathlib import Path\n",
    "from datasets import load_dataset, load_from_disk, concatenate_datasets\n",
    "from torch_geometric.loader import DataLoader as gDataLoader\n",
    "import random\n",
    "import os\n",
    "import pandas as pd\n",
    "from tqdm import tqdm\n",
    "import pytorch_lightning as pl\n",
    "from pytorch_lightning.loggers import WandbLogger\n",
    "from pytorch_lightning.callbacks import ModelCheckpoint, LearningRateMonitor\n"
   ]
  },
  {
   "cell_type": "code",
   "execution_count": 6,
   "metadata": {},
   "outputs": [],
   "source": [
    "class IceCubeModel(pl.LightningModule):\n",
    "    def __init__(\n",
    "        self,\n",
    "        model_name, \n",
    "        loss_func, \n",
    "        metric_func,\n",
    "        dl_len,\n",
    "        max_lr, \n",
    "        wd, \n",
    "        beta_1, \n",
    "        beta_2,\n",
    "        **kwargs,\n",
    "    ):\n",
    "        super().__init__()\n",
    "        self.save_hyperparameters()\n",
    "        self.model = model_name()\n",
    "        self.loss_func = loss_func()\n",
    "        self.metric_func = metric_func\n",
    "\n",
    "    def forward(self, batch):\n",
    "        out = self.model(batch)\n",
    "        return out\n",
    "    \n",
    "    def training_step(self, batch, batch_idx):\n",
    "        out = self.forward(batch)\n",
    "        loss = self.loss_func(out, batch.y)\n",
    "        self.log_dict({\"loss/train_step\": loss})\n",
    "        return {\"loss\": loss}\n",
    "\n",
    "    def training_epoch_end(self, training_step_outputs):\n",
    "        avg_loss = torch.stack([x[\"loss\"] for x in training_step_outputs]).mean()\n",
    "        self.log(\"loss/train\", avg_loss, sync_dist=True)\n",
    "\n",
    "\n",
    "    def validation_step(self, batch, batch_idx):\n",
    "        out = self.forward(batch)\n",
    "        loss = self.loss_func(out, batch.y)\n",
    "        score = self.metric_func(out, batch.y)\n",
    "\n",
    "        output = {\n",
    "            \"val_loss\": loss,\n",
    "            \"metric\": torch.tensor(score),\n",
    "        }\n",
    "\n",
    "        return output\n",
    "\n",
    "    def validation_epoch_end(self, outputs):\n",
    "        loss_val = torch.stack([x[\"val_loss\"] for x in outputs]).mean()\n",
    "        metric = torch.stack([x[\"metric\"] for x in outputs]).mean()\n",
    "\n",
    "        self.log_dict(\n",
    "            {\"loss/valid\": loss_val, \"metric\": metric},\n",
    "            prog_bar=True,\n",
    "            sync_dist=True,\n",
    "        )\n",
    "    def configure_optimizers(self):\n",
    "        optimizer = torch.optim.AdamW(self.model.parameters(),\n",
    "                                  lr=self.hparams.max_lr, \n",
    "                                  weight_decay=self.hparams.wd, \n",
    "                                  betas=(self.hparams.beta_1, self.hparams.beta_2))\n",
    "\n",
    "\n",
    "        scheduler = get_cosine_schedule_with_warmup(\n",
    "                optimizer,\n",
    "                num_warmup_steps=1000,\n",
    "                num_training_steps=self.hparams.dl_len,\n",
    "                )\n",
    "\n",
    "        return {\n",
    "            \"optimizer\": optimizer,\n",
    "            \"lr_scheduler\": {\"scheduler\": scheduler, \"interval\": \"step\", \"frequency\": 1},\n",
    "        }\n",
    "\n"
   ]
  },
  {
   "cell_type": "code",
   "execution_count": 4,
   "metadata": {},
   "outputs": [],
   "source": [
    "class config:\n",
    "    FOLDER = Path('/opt/slh/icecube/RESULTS')\n",
    "    DATA_CACHE_DIR = Path(\"/opt/slh/icecube/data/hf_cashe\")\n",
    "    EXP_NAME = \"EXP_40_ACCELERATE\"\n",
    "    TRN_BATCH_RANGE = (1, 650)\n",
    "    VAL_BATCH_RANGE = (655, 656)\n",
    "    METRIC = gget_score_vector\n",
    "    TRN_DATASET = GraphDasetV0\n",
    "    VAL_DATASET = GraphDasetV0\n",
    "    BATCH_SIZE = 1024\n",
    "    NUM_WORKERS = 22\n",
    "    PRESISTENT_WORKERS = True\n",
    "    LOSS_FUNC = gVonMisesFisher3DLoss\n",
    "    MAX_LR = 1e-3\n",
    "    WD = 1e-4\n",
    "    GRADIEN_ACCUMULATION_STEPS = 4\n",
    "    WARMUP_STEPS = 1000\n",
    "    BETA1 = 0.9\n",
    "    BETA2= 0.95\n",
    "    MODEL = DynEdgeV1\n",
    "    SCHEDULER = get_cosine_schedule_with_warmup\n",
    "    \n",
    "vld_pth = [\n",
    "        load_from_disk(config.DATA_CACHE_DIR / f\"batch_{i}.parquet\")\n",
    "        for i in range(config.VAL_BATCH_RANGE[0], config.VAL_BATCH_RANGE[1])\n",
    "    ]\n",
    "vld_pth = concatenate_datasets(vld_pth)\n",
    "vld_ds = config.VAL_DATASET(vld_pth)\n",
    "valid_dl = gDataLoader(\n",
    "        vld_ds,\n",
    "        batch_size=config.BATCH_SIZE,\n",
    "        shuffle=False,\n",
    "        num_workers=config.NUM_WORKERS,\n",
    "        pin_memory=True,\n",
    "        persistent_workers=config.PRESISTENT_WORKERS,\n",
    "    )\n",
    "nums = [i for i in range(config.TRN_BATCH_RANGE[0], config.TRN_BATCH_RANGE[1])]\n",
    "random.shuffle(nums)\n",
    "trn_pth = [\n",
    "                load_from_disk(config.DATA_CACHE_DIR / f\"batch_{i}.parquet\") for i in nums\n",
    "            ]\n",
    "trn_pth = concatenate_datasets(trn_pth)\n",
    "trn_ds = config.TRN_DATASET(trn_pth)\n",
    "train_dl = gDataLoader(\n",
    "            trn_ds,\n",
    "            batch_size=config.BATCH_SIZE,\n",
    "            shuffle=False,\n",
    "            num_workers=config.NUM_WORKERS,\n",
    "            pin_memory=True,\n",
    "            persistent_workers=config.PRESISTENT_WORKERS,\n",
    "        )\n",
    "\n",
    "dl_len = len(train_dl)// config.GRADIEN_ACCUMULATION_STEPS\n",
    "\n",
    "\n"
   ]
  },
  {
   "cell_type": "code",
   "execution_count": 5,
   "metadata": {},
   "outputs": [
    {
     "data": {
      "text/plain": [
       "31689"
      ]
     },
     "execution_count": 5,
     "metadata": {},
     "output_type": "execute_result"
    }
   ],
   "source": [
    "dl_len"
   ]
  },
  {
   "cell_type": "code",
   "execution_count": 5,
   "metadata": {},
   "outputs": [],
   "source": []
  },
  {
   "cell_type": "code",
   "execution_count": 7,
   "metadata": {},
   "outputs": [
    {
     "name": "stderr",
     "output_type": "stream",
     "text": [
      "\u001b[34m\u001b[1mwandb\u001b[0m: Currently logged in as: \u001b[33mdrhb\u001b[0m (\u001b[33mkaggle-hi\u001b[0m). Use \u001b[1m`wandb login --relogin`\u001b[0m to force relogin\n"
     ]
    },
    {
     "data": {
      "text/html": [
       "wandb version 0.13.11 is available!  To upgrade, please run:\n",
       " $ pip install wandb --upgrade"
      ],
      "text/plain": [
       "<IPython.core.display.HTML object>"
      ]
     },
     "metadata": {},
     "output_type": "display_data"
    },
    {
     "data": {
      "text/html": [
       "Tracking run with wandb version 0.12.21"
      ],
      "text/plain": [
       "<IPython.core.display.HTML object>"
      ]
     },
     "metadata": {},
     "output_type": "display_data"
    },
    {
     "data": {
      "text/html": [
       "Run data is saved locally in <code>./wandb/run-20230309_012528-3h7ba0if</code>"
      ],
      "text/plain": [
       "<IPython.core.display.HTML object>"
      ]
     },
     "metadata": {},
     "output_type": "display_data"
    },
    {
     "data": {
      "text/html": [
       "Syncing run <strong><a href=\"https://wandb.ai/kaggle-hi/ice/runs/3h7ba0if\" target=\"_blank\">EXP_40_ACCELERATE</a></strong> to <a href=\"https://wandb.ai/kaggle-hi/ice\" target=\"_blank\">Weights & Biases</a> (<a href=\"https://wandb.me/run\" target=\"_blank\">docs</a>)<br/>"
      ],
      "text/plain": [
       "<IPython.core.display.HTML object>"
      ]
     },
     "metadata": {},
     "output_type": "display_data"
    },
    {
     "data": {
      "application/vnd.jupyter.widget-view+json": {
       "model_id": "",
       "version_major": 2,
       "version_minor": 0
      },
      "text/plain": [
       "Sanity Checking: 0it [00:00, ?it/s]"
      ]
     },
     "metadata": {},
     "output_type": "display_data"
    },
    {
     "data": {
      "application/vnd.jupyter.widget-view+json": {
       "model_id": "8b1d451454fb43e9a6cc308cbf864645",
       "version_major": 2,
       "version_minor": 0
      },
      "text/plain": [
       "Training: 0it [00:00, ?it/s]"
      ]
     },
     "metadata": {},
     "output_type": "display_data"
    },
    {
     "data": {
      "application/vnd.jupyter.widget-view+json": {
       "model_id": "",
       "version_major": 2,
       "version_minor": 0
      },
      "text/plain": [
       "Validation: 0it [00:00, ?it/s]"
      ]
     },
     "metadata": {},
     "output_type": "display_data"
    },
    {
     "data": {
      "application/vnd.jupyter.widget-view+json": {
       "model_id": "",
       "version_major": 2,
       "version_minor": 0
      },
      "text/plain": [
       "Validation: 0it [00:00, ?it/s]"
      ]
     },
     "metadata": {},
     "output_type": "display_data"
    },
    {
     "data": {
      "application/vnd.jupyter.widget-view+json": {
       "model_id": "",
       "version_major": 2,
       "version_minor": 0
      },
      "text/plain": [
       "Validation: 0it [00:00, ?it/s]"
      ]
     },
     "metadata": {},
     "output_type": "display_data"
    },
    {
     "data": {
      "application/vnd.jupyter.widget-view+json": {
       "model_id": "",
       "version_major": 2,
       "version_minor": 0
      },
      "text/plain": [
       "Validation: 0it [00:00, ?it/s]"
      ]
     },
     "metadata": {},
     "output_type": "display_data"
    },
    {
     "name": "stderr",
     "output_type": "stream",
     "text": [
      "IOPub message rate exceeded.\n",
      "The Jupyter server will temporarily stop sending output\n",
      "to the client in order to avoid crashing it.\n",
      "To change this limit, set the config variable\n",
      "`--ServerApp.iopub_msg_rate_limit`.\n",
      "\n",
      "Current values:\n",
      "ServerApp.iopub_msg_rate_limit=1000.0 (msgs/sec)\n",
      "ServerApp.rate_limit_window=3.0 (secs)\n",
      "\n",
      "IOPub message rate exceeded.\n",
      "The Jupyter server will temporarily stop sending output\n",
      "to the client in order to avoid crashing it.\n",
      "To change this limit, set the config variable\n",
      "`--ServerApp.iopub_msg_rate_limit`.\n",
      "\n",
      "Current values:\n",
      "ServerApp.iopub_msg_rate_limit=1000.0 (msgs/sec)\n",
      "ServerApp.rate_limit_window=3.0 (secs)\n",
      "\n",
      "IOPub message rate exceeded.\n",
      "The Jupyter server will temporarily stop sending output\n",
      "to the client in order to avoid crashing it.\n",
      "To change this limit, set the config variable\n",
      "`--ServerApp.iopub_msg_rate_limit`.\n",
      "\n",
      "Current values:\n",
      "ServerApp.iopub_msg_rate_limit=1000.0 (msgs/sec)\n",
      "ServerApp.rate_limit_window=3.0 (secs)\n",
      "\n",
      "IOPub message rate exceeded.\n",
      "The Jupyter server will temporarily stop sending output\n",
      "to the client in order to avoid crashing it.\n",
      "To change this limit, set the config variable\n",
      "`--ServerApp.iopub_msg_rate_limit`.\n",
      "\n",
      "Current values:\n",
      "ServerApp.iopub_msg_rate_limit=1000.0 (msgs/sec)\n",
      "ServerApp.rate_limit_window=3.0 (secs)\n",
      "\n"
     ]
    },
    {
     "data": {
      "application/vnd.jupyter.widget-view+json": {
       "model_id": "",
       "version_major": 2,
       "version_minor": 0
      },
      "text/plain": [
       "Validation: 0it [00:00, ?it/s]"
      ]
     },
     "metadata": {},
     "output_type": "display_data"
    },
    {
     "name": "stderr",
     "output_type": "stream",
     "text": [
      "IOPub message rate exceeded.\n",
      "The Jupyter server will temporarily stop sending output\n",
      "to the client in order to avoid crashing it.\n",
      "To change this limit, set the config variable\n",
      "`--ServerApp.iopub_msg_rate_limit`.\n",
      "\n",
      "Current values:\n",
      "ServerApp.iopub_msg_rate_limit=1000.0 (msgs/sec)\n",
      "ServerApp.rate_limit_window=3.0 (secs)\n",
      "\n",
      "IOPub message rate exceeded.\n",
      "The Jupyter server will temporarily stop sending output\n",
      "to the client in order to avoid crashing it.\n",
      "To change this limit, set the config variable\n",
      "`--ServerApp.iopub_msg_rate_limit`.\n",
      "\n",
      "Current values:\n",
      "ServerApp.iopub_msg_rate_limit=1000.0 (msgs/sec)\n",
      "ServerApp.rate_limit_window=3.0 (secs)\n",
      "\n",
      "IOPub message rate exceeded.\n",
      "The Jupyter server will temporarily stop sending output\n",
      "to the client in order to avoid crashing it.\n",
      "To change this limit, set the config variable\n",
      "`--ServerApp.iopub_msg_rate_limit`.\n",
      "\n",
      "Current values:\n",
      "ServerApp.iopub_msg_rate_limit=1000.0 (msgs/sec)\n",
      "ServerApp.rate_limit_window=3.0 (secs)\n",
      "\n"
     ]
    },
    {
     "data": {
      "application/vnd.jupyter.widget-view+json": {
       "model_id": "",
       "version_major": 2,
       "version_minor": 0
      },
      "text/plain": [
       "Validation: 0it [00:00, ?it/s]"
      ]
     },
     "metadata": {},
     "output_type": "display_data"
    },
    {
     "name": "stderr",
     "output_type": "stream",
     "text": [
      "IOPub message rate exceeded.\n",
      "The Jupyter server will temporarily stop sending output\n",
      "to the client in order to avoid crashing it.\n",
      "To change this limit, set the config variable\n",
      "`--ServerApp.iopub_msg_rate_limit`.\n",
      "\n",
      "Current values:\n",
      "ServerApp.iopub_msg_rate_limit=1000.0 (msgs/sec)\n",
      "ServerApp.rate_limit_window=3.0 (secs)\n",
      "\n",
      "IOPub message rate exceeded.\n",
      "The Jupyter server will temporarily stop sending output\n",
      "to the client in order to avoid crashing it.\n",
      "To change this limit, set the config variable\n",
      "`--ServerApp.iopub_msg_rate_limit`.\n",
      "\n",
      "Current values:\n",
      "ServerApp.iopub_msg_rate_limit=1000.0 (msgs/sec)\n",
      "ServerApp.rate_limit_window=3.0 (secs)\n",
      "\n",
      "IOPub message rate exceeded.\n",
      "The Jupyter server will temporarily stop sending output\n",
      "to the client in order to avoid crashing it.\n",
      "To change this limit, set the config variable\n",
      "`--ServerApp.iopub_msg_rate_limit`.\n",
      "\n",
      "Current values:\n",
      "ServerApp.iopub_msg_rate_limit=1000.0 (msgs/sec)\n",
      "ServerApp.rate_limit_window=3.0 (secs)\n",
      "\n",
      "IOPub message rate exceeded.\n",
      "The Jupyter server will temporarily stop sending output\n",
      "to the client in order to avoid crashing it.\n",
      "To change this limit, set the config variable\n",
      "`--ServerApp.iopub_msg_rate_limit`.\n",
      "\n",
      "Current values:\n",
      "ServerApp.iopub_msg_rate_limit=1000.0 (msgs/sec)\n",
      "ServerApp.rate_limit_window=3.0 (secs)\n",
      "\n",
      "IOPub message rate exceeded.\n",
      "The Jupyter server will temporarily stop sending output\n",
      "to the client in order to avoid crashing it.\n",
      "To change this limit, set the config variable\n",
      "`--ServerApp.iopub_msg_rate_limit`.\n",
      "\n",
      "Current values:\n",
      "ServerApp.iopub_msg_rate_limit=1000.0 (msgs/sec)\n",
      "ServerApp.rate_limit_window=3.0 (secs)\n",
      "\n",
      "IOPub message rate exceeded.\n",
      "The Jupyter server will temporarily stop sending output\n",
      "to the client in order to avoid crashing it.\n",
      "To change this limit, set the config variable\n",
      "`--ServerApp.iopub_msg_rate_limit`.\n",
      "\n",
      "Current values:\n",
      "ServerApp.iopub_msg_rate_limit=1000.0 (msgs/sec)\n",
      "ServerApp.rate_limit_window=3.0 (secs)\n",
      "\n",
      "IOPub message rate exceeded.\n",
      "The Jupyter server will temporarily stop sending output\n",
      "to the client in order to avoid crashing it.\n",
      "To change this limit, set the config variable\n",
      "`--ServerApp.iopub_msg_rate_limit`.\n",
      "\n",
      "Current values:\n",
      "ServerApp.iopub_msg_rate_limit=1000.0 (msgs/sec)\n",
      "ServerApp.rate_limit_window=3.0 (secs)\n",
      "\n",
      "IOPub message rate exceeded.\n",
      "The Jupyter server will temporarily stop sending output\n",
      "to the client in order to avoid crashing it.\n",
      "To change this limit, set the config variable\n",
      "`--ServerApp.iopub_msg_rate_limit`.\n",
      "\n",
      "Current values:\n",
      "ServerApp.iopub_msg_rate_limit=1000.0 (msgs/sec)\n",
      "ServerApp.rate_limit_window=3.0 (secs)\n",
      "\n"
     ]
    }
   ],
   "source": [
    "md = IceCubeModel(model_name = config.MODEL, \n",
    "                  loss_func = config.LOSS_FUNC,\n",
    "                  metric_func = config.METRIC, \n",
    "                  dl_len = dl_len,\n",
    "                  max_lr = config.MAX_LR, \n",
    "                  wd = config.WD, \n",
    "                  beta_1 = config.BETA1,\n",
    "                  beta_2 = config.BETA2)\n",
    "\n",
    "wandb_logger = WandbLogger(project=\"ice\",\n",
    "         entity=\"kaggle-hi\",\n",
    "         name=config.EXP_NAME)\n",
    "\n",
    "chekpoint_callback = ModelCheckpoint(dirpath = config.FOLDER / config.EXP_NAME, \n",
    "                filename = \"{epoch:02d}-{metric:.2f}\", \n",
    "                monitor=\"metric\",\n",
    "                save_top_k=8, \n",
    "                save_last=True,\n",
    "                )\n",
    "\n",
    "lr_monitor = LearningRateMonitor(logging_interval='step')\n",
    "\n",
    "trainer = pl.Trainer(max_epochs=1, \n",
    "                    accelerator='gpu', \n",
    "                    devices=1,\n",
    "                    precision=16, \n",
    "                    accumulate_grad_batches=config.GRADIEN_ACCUMULATION_STEPS,\n",
    "                    gradient_clip_val=1.0,\n",
    "                    val_check_interval=len(train_dl)//8, \n",
    "                    logger=wandb_logger,\n",
    "                    callbacks=[chekpoint_callback, lr_monitor])\n",
    "\n",
    "trainer.fit(model=md, train_dataloaders = train_dl, val_dataloaders = valid_dl)"
   ]
  },
  {
   "cell_type": "code",
   "execution_count": 9,
   "metadata": {},
   "outputs": [],
   "source": []
  }
 ],
 "metadata": {
  "kernelspec": {
   "display_name": "Python 3 (ipykernel)",
   "language": "python",
   "name": "python3"
  },
  "language_info": {
   "codemirror_mode": {
    "name": "ipython",
    "version": 3
   },
   "file_extension": ".py",
   "mimetype": "text/x-python",
   "name": "python",
   "nbconvert_exporter": "python",
   "pygments_lexer": "ipython3",
   "version": "3.7.12"
  },
  "widgets": {
   "application/vnd.jupyter.widget-state+json": {
    "state": {
     "01a79a4424c940d4b7782aae9d181f3a": {
      "model_module": "@jupyter-widgets/controls",
      "model_module_version": "1.5.0",
      "model_name": "ProgressStyleModel",
      "state": {
       "description_width": ""
      }
     },
     "040954a7054b453582f682be95131445": {
      "model_module": "@jupyter-widgets/controls",
      "model_module_version": "1.5.0",
      "model_name": "DescriptionStyleModel",
      "state": {
       "description_width": ""
      }
     },
     "08374648311f4a1fbbbbfbcd7892329e": {
      "model_module": "@jupyter-widgets/base",
      "model_module_version": "1.2.0",
      "model_name": "LayoutModel",
      "state": {}
     },
     "097af55a1b454146a0a5d90d1fe68fc8": {
      "model_module": "@jupyter-widgets/base",
      "model_module_version": "1.2.0",
      "model_name": "LayoutModel",
      "state": {}
     },
     "0c0a0cc0ab564f68812252e2637ef8ea": {
      "model_module": "@jupyter-widgets/base",
      "model_module_version": "1.2.0",
      "model_name": "LayoutModel",
      "state": {
       "flex": "2"
      }
     },
     "0d8e658a4d7f4334a3ded2944e965f99": {
      "model_module": "@jupyter-widgets/controls",
      "model_module_version": "1.5.0",
      "model_name": "DescriptionStyleModel",
      "state": {
       "description_width": ""
      }
     },
     "0ea27570d9e840b4a4f946ec5a5a0685": {
      "model_module": "@jupyter-widgets/base",
      "model_module_version": "1.2.0",
      "model_name": "LayoutModel",
      "state": {}
     },
     "0eaba70e8914469bbea219450329900a": {
      "model_module": "@jupyter-widgets/base",
      "model_module_version": "1.2.0",
      "model_name": "LayoutModel",
      "state": {
       "flex": "2"
      }
     },
     "0f2c2c3f846b4b2985af67efa512512d": {
      "model_module": "@jupyter-widgets/base",
      "model_module_version": "1.2.0",
      "model_name": "LayoutModel",
      "state": {}
     },
     "10c136d317d6433e839af3e8cdc11d9c": {
      "model_module": "@jupyter-widgets/controls",
      "model_module_version": "1.5.0",
      "model_name": "ProgressStyleModel",
      "state": {
       "description_width": ""
      }
     },
     "12ae7e32fa3042aca42cd27f79bc0328": {
      "model_module": "@jupyter-widgets/controls",
      "model_module_version": "1.5.0",
      "model_name": "DescriptionStyleModel",
      "state": {
       "description_width": ""
      }
     },
     "1399c6c3c7984d24808921f1d20a8407": {
      "model_module": "@jupyter-widgets/controls",
      "model_module_version": "1.5.0",
      "model_name": "FloatProgressModel",
      "state": {
       "layout": "IPY_MODEL_0c0a0cc0ab564f68812252e2637ef8ea",
       "max": 196,
       "style": "IPY_MODEL_01a79a4424c940d4b7782aae9d181f3a",
       "value": 196
      }
     },
     "14cd74a28f1044a0a9495a76424a33ae": {
      "model_module": "@jupyter-widgets/base",
      "model_module_version": "1.2.0",
      "model_name": "LayoutModel",
      "state": {}
     },
     "1576216bd9b54ae28bf257525ba01dcf": {
      "model_module": "@jupyter-widgets/controls",
      "model_module_version": "1.5.0",
      "model_name": "FloatProgressModel",
      "state": {
       "layout": "IPY_MODEL_edec9d8e25784152a305d8bbfef192db",
       "max": 196,
       "style": "IPY_MODEL_4210909414a748a0b3ef564d72fe10e9",
       "value": 196
      }
     },
     "163e88c65c924bf5be6b91caefe07310": {
      "model_module": "@jupyter-widgets/base",
      "model_module_version": "1.2.0",
      "model_name": "LayoutModel",
      "state": {}
     },
     "1780e4fbac3e489bbd7c2007bfe8c120": {
      "model_module": "@jupyter-widgets/controls",
      "model_module_version": "1.5.0",
      "model_name": "DescriptionStyleModel",
      "state": {
       "description_width": ""
      }
     },
     "18617ef8e0a5461299c817807a29d4c7": {
      "model_module": "@jupyter-widgets/base",
      "model_module_version": "1.2.0",
      "model_name": "LayoutModel",
      "state": {
       "display": "inline-flex",
       "flex_flow": "row wrap",
       "width": "100%"
      }
     },
     "1a3b1ad6e9fe447aab29e7e21a1bb909": {
      "model_module": "@jupyter-widgets/controls",
      "model_module_version": "1.5.0",
      "model_name": "ProgressStyleModel",
      "state": {
       "description_width": ""
      }
     },
     "1ab82bebd17a4768879460ff11d775cf": {
      "model_module": "@jupyter-widgets/controls",
      "model_module_version": "1.5.0",
      "model_name": "FloatProgressModel",
      "state": {
       "layout": "IPY_MODEL_e265c1969c1647e8becedcbe75698b9b",
       "max": 2,
       "style": "IPY_MODEL_9ad7bcb96a004afc8ed1fbae11de38c9",
       "value": 2
      }
     },
     "1cae2b90dd894718ab54ea9db704842d": {
      "model_module": "@jupyter-widgets/base",
      "model_module_version": "1.2.0",
      "model_name": "LayoutModel",
      "state": {
       "display": "inline-flex",
       "flex_flow": "row wrap",
       "width": "100%"
      }
     },
     "1cb1501aaa744922b81b41958a13ef7d": {
      "model_module": "@jupyter-widgets/base",
      "model_module_version": "1.2.0",
      "model_name": "LayoutModel",
      "state": {
       "display": "inline-flex",
       "flex_flow": "row wrap",
       "width": "100%"
      }
     },
     "1fc3310f9e4e4fb1b85ec3eff1c8345f": {
      "model_module": "@jupyter-widgets/controls",
      "model_module_version": "1.5.0",
      "model_name": "ProgressStyleModel",
      "state": {
       "description_width": ""
      }
     },
     "20071461e2ae47119b264b7a0fcaa5ce": {
      "model_module": "@jupyter-widgets/base",
      "model_module_version": "1.2.0",
      "model_name": "LayoutModel",
      "state": {
       "display": "inline-flex",
       "flex_flow": "row wrap",
       "width": "100%"
      }
     },
     "20d5f9e6a19b4631aa335de440b8306c": {
      "model_module": "@jupyter-widgets/controls",
      "model_module_version": "1.5.0",
      "model_name": "DescriptionStyleModel",
      "state": {
       "description_width": ""
      }
     },
     "21db3692d23142848f10b468b7f74a68": {
      "model_module": "@jupyter-widgets/base",
      "model_module_version": "1.2.0",
      "model_name": "LayoutModel",
      "state": {}
     },
     "265f7b3c2d414214b15c83724c7ad3e3": {
      "model_module": "@jupyter-widgets/controls",
      "model_module_version": "1.5.0",
      "model_name": "HTMLModel",
      "state": {
       "layout": "IPY_MODEL_c6315978d0c24792b54f2e9141a89772",
       "style": "IPY_MODEL_28569526b31a4734b9f127a82fb988df",
       "value": "Sanity Checking DataLoader 0: 100%"
      }
     },
     "27c157d59bcc4c9f9b9108f2bb56a6a4": {
      "model_module": "@jupyter-widgets/controls",
      "model_module_version": "1.5.0",
      "model_name": "ProgressStyleModel",
      "state": {
       "description_width": ""
      }
     },
     "28569526b31a4734b9f127a82fb988df": {
      "model_module": "@jupyter-widgets/controls",
      "model_module_version": "1.5.0",
      "model_name": "DescriptionStyleModel",
      "state": {
       "description_width": ""
      }
     },
     "28c52ce6020641799f47d8d4a6aecee0": {
      "model_module": "@jupyter-widgets/controls",
      "model_module_version": "1.5.0",
      "model_name": "VBoxModel",
      "state": {
       "children": [
        "IPY_MODEL_defa9f91f191491a9335adbc0da2744c",
        "IPY_MODEL_974139d57b8b4b879701f17a7206989c"
       ],
       "layout": "IPY_MODEL_4ed0d2b04bf044ef91f4af7f9e113b69"
      }
     },
     "2a4ee99180684f06845064160dce9c16": {
      "model_module": "@jupyter-widgets/controls",
      "model_module_version": "1.5.0",
      "model_name": "DescriptionStyleModel",
      "state": {
       "description_width": ""
      }
     },
     "2d0c2a56e6af49718ed10cfbbaec9778": {
      "model_module": "@jupyter-widgets/controls",
      "model_module_version": "1.5.0",
      "model_name": "HTMLModel",
      "state": {
       "layout": "IPY_MODEL_c0b96c805ba441ecade24ad3f4ab4b95",
       "style": "IPY_MODEL_49022bfecfa84ea1a4fdf63cd7eb8319",
       "value": " 196/196 [00:48&lt;00:00,  4.07it/s]"
      }
     },
     "2e21f94eb064460bb72117f7c1d08c3b": {
      "model_module": "@jupyter-widgets/controls",
      "model_module_version": "1.5.0",
      "model_name": "FloatProgressModel",
      "state": {
       "layout": "IPY_MODEL_7a6afad1875e4f45991389a5e22cbdee",
       "max": 196,
       "style": "IPY_MODEL_1a3b1ad6e9fe447aab29e7e21a1bb909",
       "value": 196
      }
     },
     "2f70de16854f4f4496650f3e69564212": {
      "model_module": "@jupyter-widgets/base",
      "model_module_version": "1.2.0",
      "model_name": "LayoutModel",
      "state": {}
     },
     "2fa0d9fd1353495fba47a66cc09ff135": {
      "model_module": "@jupyter-widgets/base",
      "model_module_version": "1.2.0",
      "model_name": "LayoutModel",
      "state": {
       "display": "inline-flex",
       "flex_flow": "row wrap",
       "width": "100%"
      }
     },
     "314b7daa82d4440e836070448f68467d": {
      "model_module": "@jupyter-widgets/controls",
      "model_module_version": "1.5.0",
      "model_name": "HTMLModel",
      "state": {
       "layout": "IPY_MODEL_6768febc2fcf49b2b1acbdfb45becf51",
       "style": "IPY_MODEL_1780e4fbac3e489bbd7c2007bfe8c120",
       "value": "Validation DataLoader 0: 100%"
      }
     },
     "31776679eacc4059b2f12bbe1ba4a65a": {
      "model_module": "@jupyter-widgets/controls",
      "model_module_version": "1.5.0",
      "model_name": "ProgressStyleModel",
      "state": {
       "description_width": ""
      }
     },
     "34415422ef3a48f7a00f771f74e20b82": {
      "model_module": "@jupyter-widgets/controls",
      "model_module_version": "1.5.0",
      "model_name": "DescriptionStyleModel",
      "state": {
       "description_width": ""
      }
     },
     "380685c75deb43ccbbfd28a8970993e0": {
      "model_module": "@jupyter-widgets/controls",
      "model_module_version": "1.5.0",
      "model_name": "HBoxModel",
      "state": {
       "children": [
        "IPY_MODEL_d6eb7f3dd728433f8e4bd18ddf4e15d5",
        "IPY_MODEL_90e2cec262624fadbd7d3030e9ba3559",
        "IPY_MODEL_6c5e20f8e7e442779b2bbe8e715a0e7f"
       ],
       "layout": "IPY_MODEL_1cb1501aaa744922b81b41958a13ef7d"
      }
     },
     "3d4720d079eb44238d6599e70cdeb6e5": {
      "model_module": "@jupyter-widgets/controls",
      "model_module_version": "1.5.0",
      "model_name": "HTMLModel",
      "state": {
       "layout": "IPY_MODEL_14cd74a28f1044a0a9495a76424a33ae",
       "style": "IPY_MODEL_620a1b96bfb44750be70adc76fc0823a",
       "value": " 196/196 [00:47&lt;00:00,  4.14it/s]"
      }
     },
     "4210909414a748a0b3ef564d72fe10e9": {
      "model_module": "@jupyter-widgets/controls",
      "model_module_version": "1.5.0",
      "model_name": "ProgressStyleModel",
      "state": {
       "description_width": ""
      }
     },
     "42aa76e864924358b952528513b6c5d9": {
      "model_module": "@jupyter-widgets/base",
      "model_module_version": "1.2.0",
      "model_name": "LayoutModel",
      "state": {}
     },
     "49022bfecfa84ea1a4fdf63cd7eb8319": {
      "model_module": "@jupyter-widgets/controls",
      "model_module_version": "1.5.0",
      "model_name": "DescriptionStyleModel",
      "state": {
       "description_width": ""
      }
     },
     "4ed0d2b04bf044ef91f4af7f9e113b69": {
      "model_module": "@jupyter-widgets/base",
      "model_module_version": "1.2.0",
      "model_name": "LayoutModel",
      "state": {}
     },
     "545c625119874a53a3c78d22501f4d46": {
      "model_module": "@jupyter-widgets/controls",
      "model_module_version": "1.5.0",
      "model_name": "DescriptionStyleModel",
      "state": {
       "description_width": ""
      }
     },
     "557c45d0d8dc4633b2197370378f3b04": {
      "model_module": "@jupyter-widgets/base",
      "model_module_version": "1.2.0",
      "model_name": "LayoutModel",
      "state": {
       "flex": "2"
      }
     },
     "5b7368299dd248afaee243a6f0064c2c": {
      "model_module": "@jupyter-widgets/base",
      "model_module_version": "1.2.0",
      "model_name": "LayoutModel",
      "state": {}
     },
     "5eda6e8480904270bb89a7492adf929b": {
      "model_module": "@jupyter-widgets/controls",
      "model_module_version": "1.5.0",
      "model_name": "HTMLModel",
      "state": {
       "layout": "IPY_MODEL_6292424e011b4af3a3460619f85eb7a2",
       "style": "IPY_MODEL_a00ccbb3fe36465d819032ccc80eb976",
       "value": " 2/2 [00:00&lt;00:00,  3.74it/s]"
      }
     },
     "61b88db69dea496bbe63730404a29c4b": {
      "model_module": "@jupyter-widgets/base",
      "model_module_version": "1.2.0",
      "model_name": "LayoutModel",
      "state": {
       "display": "inline-flex",
       "flex_flow": "row wrap",
       "width": "100%"
      }
     },
     "620a1b96bfb44750be70adc76fc0823a": {
      "model_module": "@jupyter-widgets/controls",
      "model_module_version": "1.5.0",
      "model_name": "DescriptionStyleModel",
      "state": {
       "description_width": ""
      }
     },
     "6292424e011b4af3a3460619f85eb7a2": {
      "model_module": "@jupyter-widgets/base",
      "model_module_version": "1.2.0",
      "model_name": "LayoutModel",
      "state": {}
     },
     "6768febc2fcf49b2b1acbdfb45becf51": {
      "model_module": "@jupyter-widgets/base",
      "model_module_version": "1.2.0",
      "model_name": "LayoutModel",
      "state": {}
     },
     "67ed14d641c448349c1606faf6e8dd3a": {
      "model_module": "@jupyter-widgets/base",
      "model_module_version": "1.2.0",
      "model_name": "LayoutModel",
      "state": {
       "flex": "2"
      }
     },
     "68691aa73776443690efecd8896f3ddc": {
      "model_module": "@jupyter-widgets/controls",
      "model_module_version": "1.5.0",
      "model_name": "HTMLModel",
      "state": {
       "layout": "IPY_MODEL_0f2c2c3f846b4b2985af67efa512512d",
       "style": "IPY_MODEL_12ae7e32fa3042aca42cd27f79bc0328",
       "value": "Validation DataLoader 0: 100%"
      }
     },
     "6c5e20f8e7e442779b2bbe8e715a0e7f": {
      "model_module": "@jupyter-widgets/controls",
      "model_module_version": "1.5.0",
      "model_name": "HTMLModel",
      "state": {
       "layout": "IPY_MODEL_0ea27570d9e840b4a4f946ec5a5a0685",
       "style": "IPY_MODEL_df8875f4d532433d8bdcd8e5257593e6",
       "value": " 196/196 [00:53&lt;00:00,  3.68it/s]"
      }
     },
     "6c8e5840bd49438ebc969eb37f38411d": {
      "model_module": "@jupyter-widgets/controls",
      "model_module_version": "1.5.0",
      "model_name": "HTMLModel",
      "state": {
       "layout": "IPY_MODEL_097af55a1b454146a0a5d90d1fe68fc8",
       "style": "IPY_MODEL_a6587666d3b04d5fb9dad1a060c1760f",
       "value": " 128326/128326 [9:23:14&lt;00:00,  3.80it/s, loss=1.53, v_num=a0if, loss/valid=1.500, metric=1.020]"
      }
     },
     "72c054d729794d2ab5a3f43ecb803ac5": {
      "model_module": "@jupyter-widgets/base",
      "model_module_version": "1.2.0",
      "model_name": "LayoutModel",
      "state": {
       "flex": "2"
      }
     },
     "7a6afad1875e4f45991389a5e22cbdee": {
      "model_module": "@jupyter-widgets/base",
      "model_module_version": "1.2.0",
      "model_name": "LayoutModel",
      "state": {
       "flex": "2"
      }
     },
     "7ca75f39f5c74ad09ca782bffcaa9c17": {
      "model_module": "@jupyter-widgets/controls",
      "model_module_version": "1.5.0",
      "model_name": "HTMLModel",
      "state": {
       "layout": "IPY_MODEL_bd30822bf2994ce191152b83befde89c",
       "style": "IPY_MODEL_ffb4aeefe7bf4a92b03a9d32397eb13d",
       "value": " 196/196 [00:53&lt;00:00,  3.63it/s]"
      }
     },
     "7e6036bc1a374f77b6dcb3f7419c5246": {
      "model_module": "@jupyter-widgets/base",
      "model_module_version": "1.2.0",
      "model_name": "LayoutModel",
      "state": {}
     },
     "843f1fd657ac444386515c69a479093f": {
      "model_module": "@jupyter-widgets/controls",
      "model_module_version": "1.5.0",
      "model_name": "DescriptionStyleModel",
      "state": {
       "description_width": ""
      }
     },
     "84836c107d724b4ea120ef6f9ce445bb": {
      "model_module": "@jupyter-widgets/base",
      "model_module_version": "1.2.0",
      "model_name": "LayoutModel",
      "state": {
       "display": "inline-flex",
       "flex_flow": "row wrap",
       "width": "100%"
      }
     },
     "86d9102e248944d0bafe2968702b97dd": {
      "model_module": "@jupyter-widgets/controls",
      "model_module_version": "1.5.0",
      "model_name": "ProgressStyleModel",
      "state": {
       "description_width": ""
      }
     },
     "8b1d451454fb43e9a6cc308cbf864645": {
      "model_module": "@jupyter-widgets/controls",
      "model_module_version": "1.5.0",
      "model_name": "HBoxModel",
      "state": {
       "children": [
        "IPY_MODEL_b5dbe260c7424a489ea91439810ae858",
        "IPY_MODEL_ad008570d988475aad507c0c6dd0e6ce",
        "IPY_MODEL_6c8e5840bd49438ebc969eb37f38411d"
       ],
       "layout": "IPY_MODEL_18617ef8e0a5461299c817807a29d4c7"
      }
     },
     "9051b9524313467283774e91fa99e0c4": {
      "model_module": "@jupyter-widgets/controls",
      "model_module_version": "1.5.0",
      "model_name": "ProgressStyleModel",
      "state": {
       "description_width": ""
      }
     },
     "90e2cec262624fadbd7d3030e9ba3559": {
      "model_module": "@jupyter-widgets/controls",
      "model_module_version": "1.5.0",
      "model_name": "FloatProgressModel",
      "state": {
       "layout": "IPY_MODEL_f887802b935c4e2297e7fc6bf004881f",
       "max": 196,
       "style": "IPY_MODEL_10c136d317d6433e839af3e8cdc11d9c",
       "value": 196
      }
     },
     "91881fcecdc84204b351a2853412d735": {
      "model_module": "@jupyter-widgets/controls",
      "model_module_version": "1.5.0",
      "model_name": "HTMLModel",
      "state": {
       "layout": "IPY_MODEL_d075f1372beb4e0f9468b63f0a547161",
       "style": "IPY_MODEL_040954a7054b453582f682be95131445",
       "value": "Validation DataLoader 0: 100%"
      }
     },
     "974139d57b8b4b879701f17a7206989c": {
      "model_module": "@jupyter-widgets/controls",
      "model_module_version": "1.5.0",
      "model_name": "FloatProgressModel",
      "state": {
       "layout": "IPY_MODEL_42aa76e864924358b952528513b6c5d9",
       "max": 1,
       "style": "IPY_MODEL_9051b9524313467283774e91fa99e0c4"
      }
     },
     "979e8173123f4e39a5b3ab0c3978255e": {
      "model_module": "@jupyter-widgets/base",
      "model_module_version": "1.2.0",
      "model_name": "LayoutModel",
      "state": {
       "display": "inline-flex",
       "flex_flow": "row wrap",
       "width": "100%"
      }
     },
     "9a66ca8013954b8ab82dde8da52bd51c": {
      "model_module": "@jupyter-widgets/controls",
      "model_module_version": "1.5.0",
      "model_name": "HTMLModel",
      "state": {
       "layout": "IPY_MODEL_5b7368299dd248afaee243a6f0064c2c",
       "style": "IPY_MODEL_dea7463fa965499fb19658c1e57cb5f0",
       "value": " 196/196 [00:47&lt;00:00,  4.12it/s]"
      }
     },
     "9ad7bcb96a004afc8ed1fbae11de38c9": {
      "model_module": "@jupyter-widgets/controls",
      "model_module_version": "1.5.0",
      "model_name": "ProgressStyleModel",
      "state": {
       "description_width": ""
      }
     },
     "9bcc6466d682434cb641109da7b3c978": {
      "model_module": "@jupyter-widgets/base",
      "model_module_version": "1.2.0",
      "model_name": "LayoutModel",
      "state": {}
     },
     "9da01b826fb64ce89f25c1956aaaf828": {
      "model_module": "@jupyter-widgets/controls",
      "model_module_version": "1.5.0",
      "model_name": "FloatProgressModel",
      "state": {
       "layout": "IPY_MODEL_0eaba70e8914469bbea219450329900a",
       "max": 196,
       "style": "IPY_MODEL_27c157d59bcc4c9f9b9108f2bb56a6a4",
       "value": 196
      }
     },
     "a00ccbb3fe36465d819032ccc80eb976": {
      "model_module": "@jupyter-widgets/controls",
      "model_module_version": "1.5.0",
      "model_name": "DescriptionStyleModel",
      "state": {
       "description_width": ""
      }
     },
     "a2d86277e3ef4a84bda6a62cc8746616": {
      "model_module": "@jupyter-widgets/controls",
      "model_module_version": "1.5.0",
      "model_name": "HTMLModel",
      "state": {
       "layout": "IPY_MODEL_b7041f6ea4e14ff1812bb9c46ef7d754",
       "style": "IPY_MODEL_da06c48f41d4443c934ada280f2c1469",
       "value": " 196/196 [00:46&lt;00:00,  4.26it/s]"
      }
     },
     "a6587666d3b04d5fb9dad1a060c1760f": {
      "model_module": "@jupyter-widgets/controls",
      "model_module_version": "1.5.0",
      "model_name": "DescriptionStyleModel",
      "state": {
       "description_width": ""
      }
     },
     "ad008570d988475aad507c0c6dd0e6ce": {
      "model_module": "@jupyter-widgets/controls",
      "model_module_version": "1.5.0",
      "model_name": "FloatProgressModel",
      "state": {
       "bar_style": "success",
       "layout": "IPY_MODEL_72c054d729794d2ab5a3f43ecb803ac5",
       "max": 128326,
       "style": "IPY_MODEL_b5b517e7c1314c299198ea8a24638d26",
       "value": 128326
      }
     },
     "b366020d1edc4b899f4bbc5396e123cf": {
      "model_module": "@jupyter-widgets/base",
      "model_module_version": "1.2.0",
      "model_name": "LayoutModel",
      "state": {}
     },
     "b5b517e7c1314c299198ea8a24638d26": {
      "model_module": "@jupyter-widgets/controls",
      "model_module_version": "1.5.0",
      "model_name": "ProgressStyleModel",
      "state": {
       "description_width": ""
      }
     },
     "b5dbe260c7424a489ea91439810ae858": {
      "model_module": "@jupyter-widgets/controls",
      "model_module_version": "1.5.0",
      "model_name": "HTMLModel",
      "state": {
       "layout": "IPY_MODEL_dcc3432793c74df181dcf9b2fe62fb53",
       "style": "IPY_MODEL_20d5f9e6a19b4631aa335de440b8306c",
       "value": "Epoch 0: 100%"
      }
     },
     "b7041f6ea4e14ff1812bb9c46ef7d754": {
      "model_module": "@jupyter-widgets/base",
      "model_module_version": "1.2.0",
      "model_name": "LayoutModel",
      "state": {}
     },
     "bd30822bf2994ce191152b83befde89c": {
      "model_module": "@jupyter-widgets/base",
      "model_module_version": "1.2.0",
      "model_name": "LayoutModel",
      "state": {}
     },
     "bfec304f2f5e46b0a381826f455f6e5e": {
      "model_module": "@jupyter-widgets/controls",
      "model_module_version": "1.5.0",
      "model_name": "DescriptionStyleModel",
      "state": {
       "description_width": ""
      }
     },
     "c0b96c805ba441ecade24ad3f4ab4b95": {
      "model_module": "@jupyter-widgets/base",
      "model_module_version": "1.2.0",
      "model_name": "LayoutModel",
      "state": {}
     },
     "c26855d843324be9a2e99e16e31d6f79": {
      "model_module": "@jupyter-widgets/controls",
      "model_module_version": "1.5.0",
      "model_name": "HTMLModel",
      "state": {
       "layout": "IPY_MODEL_9bcc6466d682434cb641109da7b3c978",
       "style": "IPY_MODEL_d3798f7b88ab4e5180fd626b2a3faac6",
       "value": "Validation DataLoader 0: 100%"
      }
     },
     "c6315978d0c24792b54f2e9141a89772": {
      "model_module": "@jupyter-widgets/base",
      "model_module_version": "1.2.0",
      "model_name": "LayoutModel",
      "state": {}
     },
     "c79ac9ebd019405f89444ceea1e6dff1": {
      "model_module": "@jupyter-widgets/base",
      "model_module_version": "1.2.0",
      "model_name": "LayoutModel",
      "state": {}
     },
     "cbddb3df983545a398c0cd04a4d1772d": {
      "model_module": "@jupyter-widgets/controls",
      "model_module_version": "1.5.0",
      "model_name": "DescriptionStyleModel",
      "state": {
       "description_width": ""
      }
     },
     "ce7fad269970446ab724742b87fda77a": {
      "model_module": "@jupyter-widgets/base",
      "model_module_version": "1.2.0",
      "model_name": "LayoutModel",
      "state": {
       "flex": "2"
      }
     },
     "d01e1f003bc1400684189d8b2485f8ff": {
      "model_module": "@jupyter-widgets/controls",
      "model_module_version": "1.5.0",
      "model_name": "HTMLModel",
      "state": {
       "layout": "IPY_MODEL_163e88c65c924bf5be6b91caefe07310",
       "style": "IPY_MODEL_2a4ee99180684f06845064160dce9c16",
       "value": "Validation DataLoader 0: 100%"
      }
     },
     "d075f1372beb4e0f9468b63f0a547161": {
      "model_module": "@jupyter-widgets/base",
      "model_module_version": "1.2.0",
      "model_name": "LayoutModel",
      "state": {}
     },
     "d3798f7b88ab4e5180fd626b2a3faac6": {
      "model_module": "@jupyter-widgets/controls",
      "model_module_version": "1.5.0",
      "model_name": "DescriptionStyleModel",
      "state": {
       "description_width": ""
      }
     },
     "d6eb7f3dd728433f8e4bd18ddf4e15d5": {
      "model_module": "@jupyter-widgets/controls",
      "model_module_version": "1.5.0",
      "model_name": "HTMLModel",
      "state": {
       "layout": "IPY_MODEL_21db3692d23142848f10b468b7f74a68",
       "style": "IPY_MODEL_843f1fd657ac444386515c69a479093f",
       "value": "Validation DataLoader 0: 100%"
      }
     },
     "da06c48f41d4443c934ada280f2c1469": {
      "model_module": "@jupyter-widgets/controls",
      "model_module_version": "1.5.0",
      "model_name": "DescriptionStyleModel",
      "state": {
       "description_width": ""
      }
     },
     "dbbb5750d5544e9bbddbcd97f7dfb90f": {
      "model_module": "@jupyter-widgets/controls",
      "model_module_version": "1.5.0",
      "model_name": "FloatProgressModel",
      "state": {
       "layout": "IPY_MODEL_67ed14d641c448349c1606faf6e8dd3a",
       "max": 196,
       "style": "IPY_MODEL_31776679eacc4059b2f12bbe1ba4a65a",
       "value": 196
      }
     },
     "dc462d98ddf84f31adb2c5b481532f52": {
      "model_module": "@jupyter-widgets/controls",
      "model_module_version": "1.5.0",
      "model_name": "FloatProgressModel",
      "state": {
       "layout": "IPY_MODEL_ce7fad269970446ab724742b87fda77a",
       "max": 196,
       "style": "IPY_MODEL_86d9102e248944d0bafe2968702b97dd",
       "value": 196
      }
     },
     "dcc3432793c74df181dcf9b2fe62fb53": {
      "model_module": "@jupyter-widgets/base",
      "model_module_version": "1.2.0",
      "model_name": "LayoutModel",
      "state": {}
     },
     "dea7463fa965499fb19658c1e57cb5f0": {
      "model_module": "@jupyter-widgets/controls",
      "model_module_version": "1.5.0",
      "model_name": "DescriptionStyleModel",
      "state": {
       "description_width": ""
      }
     },
     "defa9f91f191491a9335adbc0da2744c": {
      "model_module": "@jupyter-widgets/controls",
      "model_module_version": "1.5.0",
      "model_name": "LabelModel",
      "state": {
       "layout": "IPY_MODEL_08374648311f4a1fbbbbfbcd7892329e",
       "style": "IPY_MODEL_545c625119874a53a3c78d22501f4d46"
      }
     },
     "df8875f4d532433d8bdcd8e5257593e6": {
      "model_module": "@jupyter-widgets/controls",
      "model_module_version": "1.5.0",
      "model_name": "DescriptionStyleModel",
      "state": {
       "description_width": ""
      }
     },
     "e265c1969c1647e8becedcbe75698b9b": {
      "model_module": "@jupyter-widgets/base",
      "model_module_version": "1.2.0",
      "model_name": "LayoutModel",
      "state": {
       "flex": "2"
      }
     },
     "e725b9ea2f9f4401a81352000aa24a51": {
      "model_module": "@jupyter-widgets/controls",
      "model_module_version": "1.5.0",
      "model_name": "FloatProgressModel",
      "state": {
       "layout": "IPY_MODEL_557c45d0d8dc4633b2197370378f3b04",
       "max": 196,
       "style": "IPY_MODEL_1fc3310f9e4e4fb1b85ec3eff1c8345f",
       "value": 196
      }
     },
     "ea1d8869a658470cb9d5c9e890a85204": {
      "model_module": "@jupyter-widgets/controls",
      "model_module_version": "1.5.0",
      "model_name": "HTMLModel",
      "state": {
       "layout": "IPY_MODEL_c79ac9ebd019405f89444ceea1e6dff1",
       "style": "IPY_MODEL_0d8e658a4d7f4334a3ded2944e965f99",
       "value": " 196/196 [00:56&lt;00:00,  3.49it/s]"
      }
     },
     "eb482ca112b84af5ae09654066424322": {
      "model_module": "@jupyter-widgets/controls",
      "model_module_version": "1.5.0",
      "model_name": "HTMLModel",
      "state": {
       "layout": "IPY_MODEL_7e6036bc1a374f77b6dcb3f7419c5246",
       "style": "IPY_MODEL_cbddb3df983545a398c0cd04a4d1772d",
       "value": "Validation DataLoader 0: 100%"
      }
     },
     "ecaeecb769d848bdbba5a98ef3ff7b68": {
      "model_module": "@jupyter-widgets/base",
      "model_module_version": "1.2.0",
      "model_name": "LayoutModel",
      "state": {
       "display": "inline-flex",
       "flex_flow": "row wrap",
       "width": "100%"
      }
     },
     "ed8a31a927ee4a1caf0e50076f454880": {
      "model_module": "@jupyter-widgets/base",
      "model_module_version": "1.2.0",
      "model_name": "LayoutModel",
      "state": {
       "display": "inline-flex",
       "flex_flow": "row wrap",
       "width": "100%"
      }
     },
     "edec9d8e25784152a305d8bbfef192db": {
      "model_module": "@jupyter-widgets/base",
      "model_module_version": "1.2.0",
      "model_name": "LayoutModel",
      "state": {
       "flex": "2"
      }
     },
     "f16e029f728644469f4f5d64d550a0fc": {
      "model_module": "@jupyter-widgets/controls",
      "model_module_version": "1.5.0",
      "model_name": "HTMLModel",
      "state": {
       "layout": "IPY_MODEL_2f70de16854f4f4496650f3e69564212",
       "style": "IPY_MODEL_bfec304f2f5e46b0a381826f455f6e5e",
       "value": "Validation DataLoader 0: 100%"
      }
     },
     "f800311d2cee46fea3a330389edf3d13": {
      "model_module": "@jupyter-widgets/controls",
      "model_module_version": "1.5.0",
      "model_name": "HTMLModel",
      "state": {
       "layout": "IPY_MODEL_b366020d1edc4b899f4bbc5396e123cf",
       "style": "IPY_MODEL_34415422ef3a48f7a00f771f74e20b82",
       "value": " 196/196 [00:54&lt;00:00,  3.57it/s]"
      }
     },
     "f887802b935c4e2297e7fc6bf004881f": {
      "model_module": "@jupyter-widgets/base",
      "model_module_version": "1.2.0",
      "model_name": "LayoutModel",
      "state": {
       "flex": "2"
      }
     },
     "ffb4aeefe7bf4a92b03a9d32397eb13d": {
      "model_module": "@jupyter-widgets/controls",
      "model_module_version": "1.5.0",
      "model_name": "DescriptionStyleModel",
      "state": {
       "description_width": ""
      }
     }
    },
    "version_major": 2,
    "version_minor": 0
   }
  }
 },
 "nbformat": 4,
 "nbformat_minor": 4
}
