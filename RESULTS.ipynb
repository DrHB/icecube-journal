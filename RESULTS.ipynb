{
 "cells": [
  {
   "cell_type": "code",
   "execution_count": 1,
   "id": "fef8a4db",
   "metadata": {},
   "outputs": [
    {
     "name": "stderr",
     "output_type": "stream",
     "text": [
      "/opt/conda/lib/python3.7/site-packages/torchvision/io/image.py:13: UserWarning: Failed to load image Python extension: /opt/conda/lib/python3.7/site-packages/torchvision/image.so: undefined symbol: _ZN5torch3jit17parseSchemaOrNameERKNSt7__cxx1112basic_stringIcSt11char_traitsIcESaIcEEE\n",
      "  warn(f\"Failed to load image Python extension: {e}\")\n"
     ]
    },
    {
     "name": "stdout",
     "output_type": "stream",
     "text": [
      "\u001b[1;34mgraphnet\u001b[0m: \u001b[32mINFO    \u001b[0m 2023-02-06 20:36:16 - get_logger - Writing log to \u001b[1mlogs/graphnet_20230206-203616.log\u001b[0m\n"
     ]
    }
   ],
   "source": [
    "from icecube.models import EncoderWithDirectionReconstruction, VonMisesFisher3DLoss\n",
    "from icecube.dataset import HuggingFaceDatasetV8\n",
    "from icecube.utils import collate_fn, get_score_vector\n",
    "from datasets import  load_from_disk\n",
    "from torch.utils.data import DataLoader\n",
    "import torch\n",
    "from pathlib import Path\n",
    "import pandas as pd\n",
    "import matplotlib.pyplot as plt\n",
    "import numpy as np\n",
    "from torch import nn"
   ]
  },
  {
   "cell_type": "code",
   "execution_count": 2,
   "id": "ac50b1f3",
   "metadata": {},
   "outputs": [
    {
     "name": "stderr",
     "output_type": "stream",
     "text": [
      "/opt/conda/lib/python3.7/site-packages/datasets/arrow_dataset.py:1536: FutureWarning: 'fs' was is deprecated in favor of 'storage_options' in version 2.8.0 and will be removed in 3.0.0.\n",
      "You can remove this warning by passing 'storage_options=fs.storage_options' instead.\n",
      "  FutureWarning,\n"
     ]
    }
   ],
   "source": [
    "md = EncoderWithDirectionReconstruction().eval()\n",
    "ds = HuggingFaceDatasetV8(load_from_disk('/opt/slh/icecube/data/hf_cashe/batch_1.parquet'))\n",
    "dl = DataLoader(ds, batch_size=64, shuffle=True, num_workers=4, collate_fn=collate_fn)\n",
    "with torch.no_grad():\n",
    "    for x in dl:\n",
    "        out = md(x)\n",
    "        break"
   ]
  },
  {
   "cell_type": "code",
   "execution_count": 3,
   "id": "a2761f14",
   "metadata": {},
   "outputs": [
    {
     "data": {
      "text/plain": [
       "tensor(2.5831)"
      ]
     },
     "execution_count": 3,
     "metadata": {},
     "output_type": "execute_result"
    }
   ],
   "source": [
    "VonMisesFisher3DLoss()(out, x['label'])"
   ]
  },
  {
   "cell_type": "code",
   "execution_count": 4,
   "id": "8653fa08",
   "metadata": {},
   "outputs": [
    {
     "data": {
      "text/plain": [
       "tensor(2.5831)"
      ]
     },
     "execution_count": 4,
     "metadata": {},
     "output_type": "execute_result"
    }
   ],
   "source": [
    "VonMisesFisher3DLoss()(out, x['label'])"
   ]
  },
  {
   "cell_type": "code",
   "execution_count": 5,
   "id": "5ee4eb18",
   "metadata": {},
   "outputs": [
    {
     "data": {
      "text/plain": [
       "array(1.5577261, dtype=float32)"
      ]
     },
     "execution_count": 5,
     "metadata": {},
     "output_type": "execute_result"
    }
   ],
   "source": [
    "get_score_vector(out, x['label'])"
   ]
  },
  {
   "cell_type": "code",
   "execution_count": null,
   "id": "9bce7d66",
   "metadata": {},
   "outputs": [],
   "source": []
  },
  {
   "cell_type": "code",
   "execution_count": null,
   "id": "f3a2df94",
   "metadata": {},
   "outputs": [],
   "source": []
  },
  {
   "cell_type": "code",
   "execution_count": null,
   "id": "6727829f",
   "metadata": {},
   "outputs": [],
   "source": [
    "def angular_dist_score(az_true, zen_true, az_pred, zen_pred):\n",
    "    '''\n",
    "    calculate the MAE of the angular distance between two directions.\n",
    "    The two vectors are first converted to cartesian unit vectors,\n",
    "    and then their scalar product is computed, which is equal to\n",
    "    the cosine of the angle between the two vectors. The inverse \n",
    "    cosine (arccos) thereof is then the angle between the two input vectors\n",
    "    \n",
    "    Parameters:\n",
    "    -----------\n",
    "    \n",
    "    az_true : float (or array thereof)\n",
    "        true azimuth value(s) in radian\n",
    "    zen_true : float (or array thereof)\n",
    "        true zenith value(s) in radian\n",
    "    az_pred : float (or array thereof)\n",
    "        predicted azimuth value(s) in radian\n",
    "    zen_pred : float (or array thereof)\n",
    "        predicted zenith value(s) in radian\n",
    "    \n",
    "    Returns:\n",
    "    --------\n",
    "    \n",
    "    dist : float\n",
    "        mean over the angular distance(s) in radian\n",
    "    '''\n",
    "    \n",
    "    if not (np.all(np.isfinite(az_true)) and\n",
    "            np.all(np.isfinite(zen_true)) and\n",
    "            np.all(np.isfinite(az_pred)) and\n",
    "            np.all(np.isfinite(zen_pred))):\n",
    "        raise ValueError(\"All arguments must be finite\")\n",
    "    \n",
    "    # pre-compute all sine and cosine values\n",
    "    sa1 = np.sin(az_true)\n",
    "    ca1 = np.cos(az_true)\n",
    "    sz1 = np.sin(zen_true)\n",
    "    cz1 = np.cos(zen_true)\n",
    "    \n",
    "    sa2 = np.sin(az_pred)\n",
    "    ca2 = np.cos(az_pred)\n",
    "    sz2 = np.sin(zen_pred)\n",
    "    cz2 = np.cos(zen_pred)\n",
    "    \n",
    "    # scalar product of the two cartesian vectors (x = sz*ca, y = sz*sa, z = cz)\n",
    "    scalar_prod = sz1*sz2*(ca1*ca2 + sa1*sa2) + (cz1*cz2)\n",
    "    \n",
    "    # scalar product of two unit vectors is always between -1 and 1, this is against nummerical instability\n",
    "    # that might otherwise occure from the finite precision of the sine and cosine functions\n",
    "    scalar_prod =  np.clip(scalar_prod, -1, 1)\n",
    "    \n",
    "    # convert back to an angle (in radian)\n",
    "    return np.abs(np.arccos(scalar_prod))"
   ]
  },
  {
   "cell_type": "code",
   "execution_count": null,
   "id": "67a4753a",
   "metadata": {},
   "outputs": [],
   "source": [
    "exp_name = 'EXP_07'\n",
    "\n",
    "!ls {Path('RESULTS/')/exp_name}"
   ]
  },
  {
   "cell_type": "code",
   "execution_count": null,
   "id": "8f6eb459",
   "metadata": {},
   "outputs": [],
   "source": [
    "#function that sort the files by the number in the name and read them\n",
    "def read_oof_files(exp_name, epoch = 9):\n",
    "    oof_files = sorted((Path('RESULTS/')/exp_name).glob(\"*OOF*.csv\"), \n",
    "                 key = lambda x: int(x.stem.split('_')[-1].split('.')[0]))\n",
    "    \n",
    "    oof = pd.read_csv(oof_files[epoch])\n",
    "\n",
    "    oof['metric'] = angular_dist_score(oof['azimuth_gt'], oof['zenith_gt'], \n",
    "                  oof['azimuth_pred'], oof['zenith_pred'])\n",
    "    return oof\n",
    "\n",
    "#function that read csv files not OOF and sorted by the number in the name\n",
    "def read_logs(exp_name):\n",
    "    files = list((Path('RESULTS/')/exp_name).glob(\"*.csv\"))\n",
    "    files = [file for file in files if 'OOF' not in file.name]\n",
    "    files = sorted(files, key = lambda x: int(x.stem.split('_')[-1].split('.')[0]))\n",
    "    logs = [pd.read_csv(file) for file in files]\n",
    "    logs = pd.concat(logs)\n",
    "    return logs"
   ]
  },
  {
   "cell_type": "code",
   "execution_count": null,
   "id": "943001a9",
   "metadata": {},
   "outputs": [],
   "source": [
    "#oof = read_oof_files(exp_name, epoch = 9)"
   ]
  },
  {
   "cell_type": "code",
   "execution_count": null,
   "id": "b116ad61",
   "metadata": {},
   "outputs": [],
   "source": [
    "import config"
   ]
  },
  {
   "cell_type": "code",
   "execution_count": null,
   "id": "26b5dcd9",
   "metadata": {},
   "outputs": [],
   "source": [
    "read_logs('EXP_07')"
   ]
  },
  {
   "cell_type": "code",
   "execution_count": null,
   "id": "9f9bdaf0",
   "metadata": {},
   "outputs": [],
   "source": [
    "read_logs('EXP_08')"
   ]
  },
  {
   "cell_type": "code",
   "execution_count": null,
   "id": "4aaeacf1",
   "metadata": {},
   "outputs": [
    {
     "name": "stdout",
     "output_type": "stream",
     "text": [
      "/opt/conda/lib/python3.7/site-packages/torchvision/io/image.py:13: UserWarning: Failed to load image Python extension: /opt/conda/lib/python3.7/site-packages/torchvision/image.so: undefined symbol: _ZN5torch3jit17parseSchemaOrNameERKNSt7__cxx1112basic_stringIcSt11char_traitsIcESaIcEEE\n",
      "  warn(f\"Failed to load image Python extension: {e}\")\n",
      "\u001b[1;34mgraphnet\u001b[0m: \u001b[32mINFO    \u001b[0m 2023-02-08 16:14:29 - get_logger - Writing log to \u001b[1mlogs/graphnet_20230208-161429.log\u001b[0m\n",
      "Training with config: {'__module__': 'config', 'EXP_NAME': 'EXP_20', 'TRN_DATASET': <class 'icecube.dataset.HuggingFaceDatasetV9'>, 'VAL_DATASET': <class 'icecube.dataset.HuggingFaceDatasetV9'>, 'MODEL_NAME': <class 'icecube.models.EncoderWithDirectionReconstructionV2'>, 'LOSS_FUNC': <class 'icecube.models.VonMisesFisher3DLossCosineSimularityLoss'>, 'NUM_WORKERS': 20, '__doc__': None}\n",
      "epoch     train_loss  valid_loss  val_metric\n",
      "/opt/conda/lib/python3.7/site-packages/datasets/arrow_dataset.py:1536: FutureWarning: 'fs' was is deprecated in favor of 'storage_options' in version 2.8.0 and will be removed in 3.0.0.\n",
      "You can remove this warning by passing 'storage_options=fs.storage_options' instead.\n",
      "  FutureWarning,\n",
      "\u001b[34m\u001b[1mwandb\u001b[0m: Currently logged in as: \u001b[33mdrhb\u001b[0m (\u001b[33mkaggle-hi\u001b[0m). Use \u001b[1m`wandb login --relogin`\u001b[0m to force relogin\n",
      "\u001b[34m\u001b[1mwandb\u001b[0m: wandb version 0.13.10 is available!  To upgrade, please run:\n",
      "\u001b[34m\u001b[1mwandb\u001b[0m:  $ pip install wandb --upgrade\n",
      "\u001b[34m\u001b[1mwandb\u001b[0m: Tracking run with wandb version 0.12.21\n",
      "\u001b[34m\u001b[1mwandb\u001b[0m: Run data is saved locally in \u001b[35m\u001b[1m/opt/slh/icecube/wandb/run-20230208_161431-2rni08nn\u001b[0m\n",
      "\u001b[34m\u001b[1mwandb\u001b[0m: Run \u001b[1m`wandb offline`\u001b[0m to turn off syncing.\n",
      "\u001b[34m\u001b[1mwandb\u001b[0m: Syncing run \u001b[33mEXP_20\u001b[0m\n",
      "\u001b[34m\u001b[1mwandb\u001b[0m: ⭐️ View project at \u001b[34m\u001b[4mhttps://wandb.ai/kaggle-hi/ice\u001b[0m\n",
      "\u001b[34m\u001b[1mwandb\u001b[0m: 🚀 View run at \u001b[34m\u001b[4mhttps://wandb.ai/kaggle-hi/ice/runs/2rni08nn\u001b[0m\n",
      "/opt/conda/lib/python3.7/site-packages/datasets/arrow_dataset.py:1536: FutureWarning: 'fs' was is deprecated in favor of 'storage_options' in version 2.8.0 and will be removed in 3.0.0.\n",
      "You can remove this warning by passing 'storage_options=fs.storage_options' instead.\n",
      "  FutureWarning,\n",
      "Better model found at epoch 0 with value: 1.1855396032333374.          \n",
      "   epoch  train_loss  valid_loss     metric\n",
      "0      0    1.393056    1.346411  1.1855396\n",
      "/opt/conda/lib/python3.7/site-packages/datasets/arrow_dataset.py:1536: FutureWarning: 'fs' was is deprecated in favor of 'storage_options' in version 2.8.0 and will be removed in 3.0.0.\n",
      "You can remove this warning by passing 'storage_options=fs.storage_options' instead.\n",
      "  FutureWarning,\n",
      "Better model found at epoch 1 with value: 1.126765489578247.           \n",
      "   epoch  train_loss  valid_loss     metric\n",
      "0      1    1.290217    1.268765  1.1267655\n",
      "/opt/conda/lib/python3.7/site-packages/datasets/arrow_dataset.py:1536: FutureWarning: 'fs' was is deprecated in favor of 'storage_options' in version 2.8.0 and will be removed in 3.0.0.\n",
      "You can remove this warning by passing 'storage_options=fs.storage_options' instead.\n",
      "  FutureWarning,\n",
      "\u001b[34m\u001b[1mwandb\u001b[0m: Network error (JSONDecodeError), entering retry loop.\n",
      "Better model found at epoch 2 with value: 1.0867208242416382.          \n",
      "   epoch  train_loss  valid_loss     metric\n",
      "0      2    1.231575    1.201438  1.0867208\n",
      "/opt/conda/lib/python3.7/site-packages/datasets/arrow_dataset.py:1536: FutureWarning: 'fs' was is deprecated in favor of 'storage_options' in version 2.8.0 and will be removed in 3.0.0.\n",
      "You can remove this warning by passing 'storage_options=fs.storage_options' instead.\n",
      "  FutureWarning,\n",
      "Epoch 4/10 : |██████--------------| 32.46% [4185/12891 44:08<1:31:48]\r"
     ]
    }
   ],
   "source": [
    "!CUDA_VISIBLE_DEVICES=0 python train.py --config_name BASELINE_HF_V10"
   ]
  },
  {
   "cell_type": "code",
   "execution_count": null,
   "id": "4d86783c-adc9-49c9-b9fe-7a636845ffe9",
   "metadata": {},
   "outputs": [],
   "source": [
    "j"
   ]
  },
  {
   "cell_type": "code",
   "execution_count": null,
   "id": "26b540e2-654d-43cc-b270-da4d1ecb5523",
   "metadata": {},
   "outputs": [],
   "source": []
  }
 ],
 "metadata": {
  "kernelspec": {
   "display_name": "Python 3 (ipykernel)",
   "language": "python",
   "name": "python3"
  },
  "language_info": {
   "codemirror_mode": {
    "name": "ipython",
    "version": 3
   },
   "file_extension": ".py",
   "mimetype": "text/x-python",
   "name": "python",
   "nbconvert_exporter": "python",
   "pygments_lexer": "ipython3",
   "version": "3.7.12"
  },
  "vscode": {
   "interpreter": {
    "hash": "d4d1e4263499bec80672ea0156c357c1ee493ec2b1c70f0acce89fc37c4a6abe"
   }
  },
  "widgets": {
   "application/vnd.jupyter.widget-state+json": {
    "state": {},
    "version_major": 2,
    "version_minor": 0
   }
  }
 },
 "nbformat": 4,
 "nbformat_minor": 5
}
