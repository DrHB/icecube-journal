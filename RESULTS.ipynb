{
 "cells": [
  {
   "cell_type": "code",
   "execution_count": 1,
   "id": "fef8a4db",
   "metadata": {},
   "outputs": [
    {
     "name": "stderr",
     "output_type": "stream",
     "text": [
      "/usr/local/lib/python3.8/dist-packages/tqdm/auto.py:22: TqdmWarning: IProgress not found. Please update jupyter and ipywidgets. See https://ipywidgets.readthedocs.io/en/stable/user_install.html\n",
      "  from .autonotebook import tqdm as notebook_tqdm\n"
     ]
    }
   ],
   "source": [
    "from icecube.models import IceCubeModelEncoderMAT\n",
    "from icecube.dataset import HuggingFaceDatasetGraphV0\n",
    "from icecube.utils import collate_fn_graphv0\n",
    "from datasets import  load_from_disk\n",
    "from torch.utils.data import DataLoader\n",
    "import torch\n",
    "from pathlib import Path\n",
    "import pandas as pd\n",
    "import matplotlib.pyplot as plt\n",
    "import numpy as np\n",
    "from torch import nn"
   ]
  },
  {
   "cell_type": "code",
   "execution_count": 2,
   "id": "ac50b1f3",
   "metadata": {},
   "outputs": [],
   "source": [
    "#md = IceCubeModelEncoderMAT().eval()\n",
    "#ds = HuggingFaceDatasetGraphV0(load_from_disk('/opt/slh/icecube/data/hf_cashe/batch_1.parquet'))\n",
    "#dl = DataLoader(ds, batch_size=64, shuffle=True, num_workers=4, collate_fn=collate_fn_graphv0)\n",
    "#with torch.no_grad():\n",
    "#    for x in dl:\n",
    "#        out = md(x)\n",
    "#        break"
   ]
  },
  {
   "cell_type": "code",
   "execution_count": 3,
   "id": "6727829f",
   "metadata": {},
   "outputs": [],
   "source": [
    "def angular_dist_score(az_true, zen_true, az_pred, zen_pred):\n",
    "    '''\n",
    "    calculate the MAE of the angular distance between two directions.\n",
    "    The two vectors are first converted to cartesian unit vectors,\n",
    "    and then their scalar product is computed, which is equal to\n",
    "    the cosine of the angle between the two vectors. The inverse \n",
    "    cosine (arccos) thereof is then the angle between the two input vectors\n",
    "    \n",
    "    Parameters:\n",
    "    -----------\n",
    "    \n",
    "    az_true : float (or array thereof)\n",
    "        true azimuth value(s) in radian\n",
    "    zen_true : float (or array thereof)\n",
    "        true zenith value(s) in radian\n",
    "    az_pred : float (or array thereof)\n",
    "        predicted azimuth value(s) in radian\n",
    "    zen_pred : float (or array thereof)\n",
    "        predicted zenith value(s) in radian\n",
    "    \n",
    "    Returns:\n",
    "    --------\n",
    "    \n",
    "    dist : float\n",
    "        mean over the angular distance(s) in radian\n",
    "    '''\n",
    "    \n",
    "    if not (np.all(np.isfinite(az_true)) and\n",
    "            np.all(np.isfinite(zen_true)) and\n",
    "            np.all(np.isfinite(az_pred)) and\n",
    "            np.all(np.isfinite(zen_pred))):\n",
    "        raise ValueError(\"All arguments must be finite\")\n",
    "    \n",
    "    # pre-compute all sine and cosine values\n",
    "    sa1 = np.sin(az_true)\n",
    "    ca1 = np.cos(az_true)\n",
    "    sz1 = np.sin(zen_true)\n",
    "    cz1 = np.cos(zen_true)\n",
    "    \n",
    "    sa2 = np.sin(az_pred)\n",
    "    ca2 = np.cos(az_pred)\n",
    "    sz2 = np.sin(zen_pred)\n",
    "    cz2 = np.cos(zen_pred)\n",
    "    \n",
    "    # scalar product of the two cartesian vectors (x = sz*ca, y = sz*sa, z = cz)\n",
    "    scalar_prod = sz1*sz2*(ca1*ca2 + sa1*sa2) + (cz1*cz2)\n",
    "    \n",
    "    # scalar product of two unit vectors is always between -1 and 1, this is against nummerical instability\n",
    "    # that might otherwise occure from the finite precision of the sine and cosine functions\n",
    "    scalar_prod =  np.clip(scalar_prod, -1, 1)\n",
    "    \n",
    "    # convert back to an angle (in radian)\n",
    "    return np.abs(np.arccos(scalar_prod))"
   ]
  },
  {
   "cell_type": "code",
   "execution_count": 4,
   "id": "67a4753a",
   "metadata": {},
   "outputs": [
    {
     "name": "stdout",
     "output_type": "stream",
     "text": [
      "EXP_07_0.csv  EXP_07_4.csv  EXP_07_8.csv\t  EXP_07_OOF_4.csv.csv\n",
      "EXP_07_0.pth  EXP_07_4.pth  EXP_07_8.pth\t  EXP_07_OOF_5.csv.csv\n",
      "EXP_07_1.csv  EXP_07_5.csv  EXP_07_9.csv\t  EXP_07_OOF_6.csv.csv\n",
      "EXP_07_1.pth  EXP_07_5.pth  EXP_07_9.pth\t  EXP_07_OOF_7.csv.csv\n",
      "EXP_07_2.csv  EXP_07_6.csv  EXP_07_OOF_0.csv.csv  EXP_07_OOF_8.csv.csv\n",
      "EXP_07_2.pth  EXP_07_6.pth  EXP_07_OOF_1.csv.csv  EXP_07_OOF_9.csv.csv\n",
      "EXP_07_3.csv  EXP_07_7.csv  EXP_07_OOF_2.csv.csv\n",
      "EXP_07_3.pth  EXP_07_7.pth  EXP_07_OOF_3.csv.csv\n"
     ]
    }
   ],
   "source": [
    "exp_name = 'EXP_07'\n",
    "\n",
    "!ls {Path('RESULTS/')/exp_name}"
   ]
  },
  {
   "cell_type": "code",
   "execution_count": 5,
   "id": "8f6eb459",
   "metadata": {},
   "outputs": [],
   "source": [
    "#function that sort the files by the number in the name and read them\n",
    "def read_oof_files(exp_name, epoch = 9):\n",
    "    oof_files = sorted((Path('RESULTS/')/exp_name).glob(\"*OOF*.csv\"), \n",
    "                 key = lambda x: int(x.stem.split('_')[-1].split('.')[0]))\n",
    "    \n",
    "    oof = pd.read_csv(oof_files[epoch])\n",
    "\n",
    "    oof['metric'] = angular_dist_score(oof['azimuth_gt'], oof['zenith_gt'], \n",
    "                  oof['azimuth_pred'], oof['zenith_pred'])\n",
    "    return oof\n",
    "\n",
    "#function that read csv files not OOF and sorted by the number in the name\n",
    "def read_logs(exp_name):\n",
    "    files = list((Path('RESULTS/')/exp_name).glob(\"*.csv\"))\n",
    "    files = [file for file in files if 'OOF' not in file.name]\n",
    "    files = sorted(files, key = lambda x: int(x.stem.split('_')[-1].split('.')[0]))\n",
    "    logs = [pd.read_csv(file) for file in files]\n",
    "    logs = pd.concat(logs)\n",
    "    return logs"
   ]
  },
  {
   "cell_type": "code",
   "execution_count": 6,
   "id": "943001a9",
   "metadata": {},
   "outputs": [],
   "source": [
    "#oof = read_oof_files(exp_name, epoch = 9)"
   ]
  },
  {
   "cell_type": "code",
   "execution_count": 7,
   "id": "b116ad61",
   "metadata": {},
   "outputs": [],
   "source": [
    "import config"
   ]
  },
  {
   "cell_type": "code",
   "execution_count": 8,
   "id": "26b5dcd9",
   "metadata": {},
   "outputs": [
    {
     "data": {
      "text/html": [
       "<div>\n",
       "<style scoped>\n",
       "    .dataframe tbody tr th:only-of-type {\n",
       "        vertical-align: middle;\n",
       "    }\n",
       "\n",
       "    .dataframe tbody tr th {\n",
       "        vertical-align: top;\n",
       "    }\n",
       "\n",
       "    .dataframe thead th {\n",
       "        text-align: right;\n",
       "    }\n",
       "</style>\n",
       "<table border=\"1\" class=\"dataframe\">\n",
       "  <thead>\n",
       "    <tr style=\"text-align: right;\">\n",
       "      <th></th>\n",
       "      <th>epoch</th>\n",
       "      <th>train_loss</th>\n",
       "      <th>valid_loss</th>\n",
       "      <th>metric</th>\n",
       "    </tr>\n",
       "  </thead>\n",
       "  <tbody>\n",
       "    <tr>\n",
       "      <th>0</th>\n",
       "      <td>0</td>\n",
       "      <td>0.600888</td>\n",
       "      <td>0.562770</td>\n",
       "      <td>1.442924</td>\n",
       "    </tr>\n",
       "    <tr>\n",
       "      <th>0</th>\n",
       "      <td>1</td>\n",
       "      <td>0.539214</td>\n",
       "      <td>0.529143</td>\n",
       "      <td>1.333392</td>\n",
       "    </tr>\n",
       "    <tr>\n",
       "      <th>0</th>\n",
       "      <td>2</td>\n",
       "      <td>0.526120</td>\n",
       "      <td>0.523607</td>\n",
       "      <td>1.321820</td>\n",
       "    </tr>\n",
       "    <tr>\n",
       "      <th>0</th>\n",
       "      <td>3</td>\n",
       "      <td>0.521747</td>\n",
       "      <td>0.519293</td>\n",
       "      <td>1.305128</td>\n",
       "    </tr>\n",
       "    <tr>\n",
       "      <th>0</th>\n",
       "      <td>4</td>\n",
       "      <td>0.518047</td>\n",
       "      <td>0.515420</td>\n",
       "      <td>1.293718</td>\n",
       "    </tr>\n",
       "    <tr>\n",
       "      <th>0</th>\n",
       "      <td>5</td>\n",
       "      <td>0.514774</td>\n",
       "      <td>0.512305</td>\n",
       "      <td>1.296434</td>\n",
       "    </tr>\n",
       "    <tr>\n",
       "      <th>0</th>\n",
       "      <td>6</td>\n",
       "      <td>0.512183</td>\n",
       "      <td>0.512563</td>\n",
       "      <td>1.275622</td>\n",
       "    </tr>\n",
       "    <tr>\n",
       "      <th>0</th>\n",
       "      <td>7</td>\n",
       "      <td>0.509884</td>\n",
       "      <td>0.509192</td>\n",
       "      <td>1.283002</td>\n",
       "    </tr>\n",
       "    <tr>\n",
       "      <th>0</th>\n",
       "      <td>8</td>\n",
       "      <td>0.507596</td>\n",
       "      <td>0.508071</td>\n",
       "      <td>1.275165</td>\n",
       "    </tr>\n",
       "    <tr>\n",
       "      <th>0</th>\n",
       "      <td>9</td>\n",
       "      <td>0.505623</td>\n",
       "      <td>0.505269</td>\n",
       "      <td>1.275138</td>\n",
       "    </tr>\n",
       "  </tbody>\n",
       "</table>\n",
       "</div>"
      ],
      "text/plain": [
       "   epoch  train_loss  valid_loss    metric\n",
       "0      0    0.600888    0.562770  1.442924\n",
       "0      1    0.539214    0.529143  1.333392\n",
       "0      2    0.526120    0.523607  1.321820\n",
       "0      3    0.521747    0.519293  1.305128\n",
       "0      4    0.518047    0.515420  1.293718\n",
       "0      5    0.514774    0.512305  1.296434\n",
       "0      6    0.512183    0.512563  1.275622\n",
       "0      7    0.509884    0.509192  1.283002\n",
       "0      8    0.507596    0.508071  1.275165\n",
       "0      9    0.505623    0.505269  1.275138"
      ]
     },
     "execution_count": 8,
     "metadata": {},
     "output_type": "execute_result"
    }
   ],
   "source": [
    "read_logs('EXP_07')"
   ]
  },
  {
   "cell_type": "code",
   "execution_count": 9,
   "id": "9f9bdaf0",
   "metadata": {},
   "outputs": [
    {
     "data": {
      "text/html": [
       "<div>\n",
       "<style scoped>\n",
       "    .dataframe tbody tr th:only-of-type {\n",
       "        vertical-align: middle;\n",
       "    }\n",
       "\n",
       "    .dataframe tbody tr th {\n",
       "        vertical-align: top;\n",
       "    }\n",
       "\n",
       "    .dataframe thead th {\n",
       "        text-align: right;\n",
       "    }\n",
       "</style>\n",
       "<table border=\"1\" class=\"dataframe\">\n",
       "  <thead>\n",
       "    <tr style=\"text-align: right;\">\n",
       "      <th></th>\n",
       "      <th>epoch</th>\n",
       "      <th>train_loss</th>\n",
       "      <th>valid_loss</th>\n",
       "      <th>metric</th>\n",
       "    </tr>\n",
       "  </thead>\n",
       "  <tbody>\n",
       "    <tr>\n",
       "      <th>0</th>\n",
       "      <td>0</td>\n",
       "      <td>0.598318</td>\n",
       "      <td>0.573669</td>\n",
       "      <td>1.463767</td>\n",
       "    </tr>\n",
       "    <tr>\n",
       "      <th>0</th>\n",
       "      <td>1</td>\n",
       "      <td>0.551687</td>\n",
       "      <td>0.543076</td>\n",
       "      <td>1.397443</td>\n",
       "    </tr>\n",
       "    <tr>\n",
       "      <th>0</th>\n",
       "      <td>2</td>\n",
       "      <td>0.533885</td>\n",
       "      <td>0.523545</td>\n",
       "      <td>1.331168</td>\n",
       "    </tr>\n",
       "    <tr>\n",
       "      <th>0</th>\n",
       "      <td>3</td>\n",
       "      <td>0.520183</td>\n",
       "      <td>0.516296</td>\n",
       "      <td>1.303239</td>\n",
       "    </tr>\n",
       "    <tr>\n",
       "      <th>0</th>\n",
       "      <td>4</td>\n",
       "      <td>0.515565</td>\n",
       "      <td>0.513794</td>\n",
       "      <td>1.297275</td>\n",
       "    </tr>\n",
       "  </tbody>\n",
       "</table>\n",
       "</div>"
      ],
      "text/plain": [
       "   epoch  train_loss  valid_loss    metric\n",
       "0      0    0.598318    0.573669  1.463767\n",
       "0      1    0.551687    0.543076  1.397443\n",
       "0      2    0.533885    0.523545  1.331168\n",
       "0      3    0.520183    0.516296  1.303239\n",
       "0      4    0.515565    0.513794  1.297275"
      ]
     },
     "execution_count": 9,
     "metadata": {},
     "output_type": "execute_result"
    }
   ],
   "source": [
    "read_logs('EXP_08')"
   ]
  },
  {
   "cell_type": "code",
   "execution_count": 28,
   "id": "b021eb65",
   "metadata": {},
   "outputs": [],
   "source": []
  },
  {
   "cell_type": "code",
   "execution_count": 31,
   "id": "5cedd740",
   "metadata": {},
   "outputs": [
    {
     "data": {
      "text/plain": [
       "{'BATCH_SIZE': 1536,\n",
       " 'COLLAT_FN': <function icecube.utils.collate_fn_v1(batch)>,\n",
       " 'DATA_CACHE_DIR': PosixPath('data/hf_cashe'),\n",
       " 'DEVICE': 'cuda:0',\n",
       " 'EPOCHS': 10,\n",
       " 'EXP_NAME': 'EXP_09',\n",
       " 'FIT_FUNC': <function icecube.utils.fit_shuflle(epochs, model, loss_fn, opt, metric, config, folder='models', exp_name='exp_00', device=None, sched=None, save_md=<class 'icecube.utils.SaveModelEpoch'>)>,\n",
       " 'FOLDER': PosixPath('RESULTS'),\n",
       " 'LOSS_FUNC': icecube.models.LogCoshLoss,\n",
       " 'LR': 0.001,\n",
       " 'METRIC': <function icecube.utils.get_score(y_hat, y)>,\n",
       " 'MODEL_NAME': icecube.models.IceCubeModelEncoderSensorEmbeddinngV2,\n",
       " 'NUM_WORKERS': 8,\n",
       " 'OPT': torch.optim.adamw.AdamW,\n",
       " 'PRESISTENT_WORKERS': True,\n",
       " 'SCHEDULER': <function transformers.optimization.get_cosine_schedule_with_warmup(optimizer: torch.optim.optimizer.Optimizer, num_warmup_steps: int, num_training_steps: int, num_cycles: float = 0.5, last_epoch: int = -1)>,\n",
       " 'TRN_BATCH_RANGE': (1, 100),\n",
       " 'TRN_DATASET': icecube.dataset.HuggingFaceDatasetV3,\n",
       " 'VAL_BATCH_RANGE': (622, 627),\n",
       " 'VAL_DATASET': icecube.dataset.HuggingFaceDatasetV3,\n",
       " 'WARM_UP_PCT': 0.1,\n",
       " 'WD': 1e-05}"
      ]
     },
     "execution_count": 31,
     "metadata": {},
     "output_type": "execute_result"
    }
   ],
   "source": [
    "get_config_as_dict(config.BASELINE_EMBED_V3)"
   ]
  },
  {
   "cell_type": "code",
   "execution_count": null,
   "id": "df53e429",
   "metadata": {},
   "outputs": [],
   "source": []
  }
 ],
 "metadata": {
  "kernelspec": {
   "display_name": "Python 3 (ipykernel)",
   "language": "python",
   "name": "python3"
  },
  "language_info": {
   "codemirror_mode": {
    "name": "ipython",
    "version": 3
   },
   "file_extension": ".py",
   "mimetype": "text/x-python",
   "name": "python",
   "nbconvert_exporter": "python",
   "pygments_lexer": "ipython3",
   "version": "3.8.10"
  },
  "vscode": {
   "interpreter": {
    "hash": "e7370f93d1d0cde622a1f8e1c04877d8463912d04d973331ad4851f04de6915a"
   }
  }
 },
 "nbformat": 4,
 "nbformat_minor": 5
}
